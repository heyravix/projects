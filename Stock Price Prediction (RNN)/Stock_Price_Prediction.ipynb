{
  "cells": [
    {
      "cell_type": "markdown",
      "source": [
        "Google Stock Price Prediction using **Recurrent Neural Network (RNN)**"
      ],
      "metadata": {
        "id": "LeH-u_3wMXcT"
      },
      "id": "LeH-u_3wMXcT"
    },
    {
      "cell_type": "code",
      "execution_count": null,
      "id": "ed12930c",
      "metadata": {
        "id": "ed12930c"
      },
      "outputs": [],
      "source": [
        "#importing libraries \n",
        "import pandas as pd \n",
        "import numpy as np\n",
        "import matplotlib.pyplot as plt \n"
      ]
    },
    {
      "cell_type": "code",
      "execution_count": null,
      "id": "c98ed9c3",
      "metadata": {
        "id": "c98ed9c3"
      },
      "outputs": [],
      "source": [
        "#importing dataset\n",
        "df = pd.read_csv('trainset.csv')"
      ]
    },
    {
      "cell_type": "code",
      "execution_count": null,
      "id": "d37ae08a",
      "metadata": {
        "id": "d37ae08a",
        "outputId": "ed13d512-4a43-4382-86ee-0145e4fa2ade",
        "colab": {
          "base_uri": "https://localhost:8080/",
          "height": 206
        }
      },
      "outputs": [
        {
          "output_type": "execute_result",
          "data": {
            "text/plain": [
              "         Date        Open        High         Low       Close   Adj Close  \\\n",
              "0  2013-01-02  357.385559  361.151062  355.959839  359.288177  359.288177   \n",
              "1  2013-01-03  360.122742  363.600128  358.031342  359.496826  359.496826   \n",
              "2  2013-01-04  362.313507  368.339294  361.488861  366.600616  366.600616   \n",
              "3  2013-01-07  365.348755  367.301056  362.929504  365.001007  365.001007   \n",
              "4  2013-01-08  365.393463  365.771027  359.874359  364.280701  364.280701   \n",
              "\n",
              "    Volume  \n",
              "0  5115500  \n",
              "1  4666500  \n",
              "2  5562800  \n",
              "3  3332900  \n",
              "4  3373900  "
            ],
            "text/html": [
              "\n",
              "  <div id=\"df-1309498a-6e21-4d2a-bcac-d9c7fa431cf6\">\n",
              "    <div class=\"colab-df-container\">\n",
              "      <div>\n",
              "<style scoped>\n",
              "    .dataframe tbody tr th:only-of-type {\n",
              "        vertical-align: middle;\n",
              "    }\n",
              "\n",
              "    .dataframe tbody tr th {\n",
              "        vertical-align: top;\n",
              "    }\n",
              "\n",
              "    .dataframe thead th {\n",
              "        text-align: right;\n",
              "    }\n",
              "</style>\n",
              "<table border=\"1\" class=\"dataframe\">\n",
              "  <thead>\n",
              "    <tr style=\"text-align: right;\">\n",
              "      <th></th>\n",
              "      <th>Date</th>\n",
              "      <th>Open</th>\n",
              "      <th>High</th>\n",
              "      <th>Low</th>\n",
              "      <th>Close</th>\n",
              "      <th>Adj Close</th>\n",
              "      <th>Volume</th>\n",
              "    </tr>\n",
              "  </thead>\n",
              "  <tbody>\n",
              "    <tr>\n",
              "      <th>0</th>\n",
              "      <td>2013-01-02</td>\n",
              "      <td>357.385559</td>\n",
              "      <td>361.151062</td>\n",
              "      <td>355.959839</td>\n",
              "      <td>359.288177</td>\n",
              "      <td>359.288177</td>\n",
              "      <td>5115500</td>\n",
              "    </tr>\n",
              "    <tr>\n",
              "      <th>1</th>\n",
              "      <td>2013-01-03</td>\n",
              "      <td>360.122742</td>\n",
              "      <td>363.600128</td>\n",
              "      <td>358.031342</td>\n",
              "      <td>359.496826</td>\n",
              "      <td>359.496826</td>\n",
              "      <td>4666500</td>\n",
              "    </tr>\n",
              "    <tr>\n",
              "      <th>2</th>\n",
              "      <td>2013-01-04</td>\n",
              "      <td>362.313507</td>\n",
              "      <td>368.339294</td>\n",
              "      <td>361.488861</td>\n",
              "      <td>366.600616</td>\n",
              "      <td>366.600616</td>\n",
              "      <td>5562800</td>\n",
              "    </tr>\n",
              "    <tr>\n",
              "      <th>3</th>\n",
              "      <td>2013-01-07</td>\n",
              "      <td>365.348755</td>\n",
              "      <td>367.301056</td>\n",
              "      <td>362.929504</td>\n",
              "      <td>365.001007</td>\n",
              "      <td>365.001007</td>\n",
              "      <td>3332900</td>\n",
              "    </tr>\n",
              "    <tr>\n",
              "      <th>4</th>\n",
              "      <td>2013-01-08</td>\n",
              "      <td>365.393463</td>\n",
              "      <td>365.771027</td>\n",
              "      <td>359.874359</td>\n",
              "      <td>364.280701</td>\n",
              "      <td>364.280701</td>\n",
              "      <td>3373900</td>\n",
              "    </tr>\n",
              "  </tbody>\n",
              "</table>\n",
              "</div>\n",
              "      <button class=\"colab-df-convert\" onclick=\"convertToInteractive('df-1309498a-6e21-4d2a-bcac-d9c7fa431cf6')\"\n",
              "              title=\"Convert this dataframe to an interactive table.\"\n",
              "              style=\"display:none;\">\n",
              "        \n",
              "  <svg xmlns=\"http://www.w3.org/2000/svg\" height=\"24px\"viewBox=\"0 0 24 24\"\n",
              "       width=\"24px\">\n",
              "    <path d=\"M0 0h24v24H0V0z\" fill=\"none\"/>\n",
              "    <path d=\"M18.56 5.44l.94 2.06.94-2.06 2.06-.94-2.06-.94-.94-2.06-.94 2.06-2.06.94zm-11 1L8.5 8.5l.94-2.06 2.06-.94-2.06-.94L8.5 2.5l-.94 2.06-2.06.94zm10 10l.94 2.06.94-2.06 2.06-.94-2.06-.94-.94-2.06-.94 2.06-2.06.94z\"/><path d=\"M17.41 7.96l-1.37-1.37c-.4-.4-.92-.59-1.43-.59-.52 0-1.04.2-1.43.59L10.3 9.45l-7.72 7.72c-.78.78-.78 2.05 0 2.83L4 21.41c.39.39.9.59 1.41.59.51 0 1.02-.2 1.41-.59l7.78-7.78 2.81-2.81c.8-.78.8-2.07 0-2.86zM5.41 20L4 18.59l7.72-7.72 1.47 1.35L5.41 20z\"/>\n",
              "  </svg>\n",
              "      </button>\n",
              "      \n",
              "  <style>\n",
              "    .colab-df-container {\n",
              "      display:flex;\n",
              "      flex-wrap:wrap;\n",
              "      gap: 12px;\n",
              "    }\n",
              "\n",
              "    .colab-df-convert {\n",
              "      background-color: #E8F0FE;\n",
              "      border: none;\n",
              "      border-radius: 50%;\n",
              "      cursor: pointer;\n",
              "      display: none;\n",
              "      fill: #1967D2;\n",
              "      height: 32px;\n",
              "      padding: 0 0 0 0;\n",
              "      width: 32px;\n",
              "    }\n",
              "\n",
              "    .colab-df-convert:hover {\n",
              "      background-color: #E2EBFA;\n",
              "      box-shadow: 0px 1px 2px rgba(60, 64, 67, 0.3), 0px 1px 3px 1px rgba(60, 64, 67, 0.15);\n",
              "      fill: #174EA6;\n",
              "    }\n",
              "\n",
              "    [theme=dark] .colab-df-convert {\n",
              "      background-color: #3B4455;\n",
              "      fill: #D2E3FC;\n",
              "    }\n",
              "\n",
              "    [theme=dark] .colab-df-convert:hover {\n",
              "      background-color: #434B5C;\n",
              "      box-shadow: 0px 1px 3px 1px rgba(0, 0, 0, 0.15);\n",
              "      filter: drop-shadow(0px 1px 2px rgba(0, 0, 0, 0.3));\n",
              "      fill: #FFFFFF;\n",
              "    }\n",
              "  </style>\n",
              "\n",
              "      <script>\n",
              "        const buttonEl =\n",
              "          document.querySelector('#df-1309498a-6e21-4d2a-bcac-d9c7fa431cf6 button.colab-df-convert');\n",
              "        buttonEl.style.display =\n",
              "          google.colab.kernel.accessAllowed ? 'block' : 'none';\n",
              "\n",
              "        async function convertToInteractive(key) {\n",
              "          const element = document.querySelector('#df-1309498a-6e21-4d2a-bcac-d9c7fa431cf6');\n",
              "          const dataTable =\n",
              "            await google.colab.kernel.invokeFunction('convertToInteractive',\n",
              "                                                     [key], {});\n",
              "          if (!dataTable) return;\n",
              "\n",
              "          const docLinkHtml = 'Like what you see? Visit the ' +\n",
              "            '<a target=\"_blank\" href=https://colab.research.google.com/notebooks/data_table.ipynb>data table notebook</a>'\n",
              "            + ' to learn more about interactive tables.';\n",
              "          element.innerHTML = '';\n",
              "          dataTable['output_type'] = 'display_data';\n",
              "          await google.colab.output.renderOutput(dataTable, element);\n",
              "          const docLink = document.createElement('div');\n",
              "          docLink.innerHTML = docLinkHtml;\n",
              "          element.appendChild(docLink);\n",
              "        }\n",
              "      </script>\n",
              "    </div>\n",
              "  </div>\n",
              "  "
            ]
          },
          "metadata": {},
          "execution_count": 3
        }
      ],
      "source": [
        "df.head()"
      ]
    },
    {
      "cell_type": "code",
      "execution_count": null,
      "id": "f3754941",
      "metadata": {
        "id": "f3754941",
        "outputId": "a918b2d3-eb33-4e97-eb1e-b63399b06e3e",
        "colab": {
          "base_uri": "https://localhost:8080/"
        }
      },
      "outputs": [
        {
          "output_type": "stream",
          "name": "stdout",
          "text": [
            "<class 'pandas.core.frame.DataFrame'>\n",
            "RangeIndex: 1259 entries, 0 to 1258\n",
            "Data columns (total 7 columns):\n",
            " #   Column     Non-Null Count  Dtype  \n",
            "---  ------     --------------  -----  \n",
            " 0   Date       1259 non-null   object \n",
            " 1   Open       1259 non-null   float64\n",
            " 2   High       1259 non-null   float64\n",
            " 3   Low        1259 non-null   float64\n",
            " 4   Close      1259 non-null   float64\n",
            " 5   Adj Close  1259 non-null   float64\n",
            " 6   Volume     1259 non-null   int64  \n",
            "dtypes: float64(5), int64(1), object(1)\n",
            "memory usage: 69.0+ KB\n"
          ]
        }
      ],
      "source": [
        "df.info()"
      ]
    },
    {
      "cell_type": "code",
      "execution_count": null,
      "id": "0b2dc0c4",
      "metadata": {
        "id": "0b2dc0c4",
        "outputId": "63b9a48d-5466-4910-ba5d-a69c9749496e",
        "colab": {
          "base_uri": "https://localhost:8080/",
          "height": 300
        }
      },
      "outputs": [
        {
          "output_type": "execute_result",
          "data": {
            "text/plain": [
              "              Open         High          Low        Close    Adj Close  \\\n",
              "count  1259.000000  1259.000000  1259.000000  1259.000000  1259.000000   \n",
              "mean    652.704082   657.475653   647.433700   652.657015   652.657015   \n",
              "std     175.630574   176.627416   174.732814   175.820993   175.820993   \n",
              "min     350.053253   350.391052   345.512787   349.164032   349.164032   \n",
              "25%     528.287079   532.615204   524.232483   528.429413   528.429413   \n",
              "50%     600.002563   603.236511   594.453674   598.005554   598.005554   \n",
              "75%     774.015015   779.120025   768.662506   772.720001   772.720001   \n",
              "max    1075.199951  1078.489990  1063.550049  1077.140015  1077.140015   \n",
              "\n",
              "             Volume  \n",
              "count  1.259000e+03  \n",
              "mean   2.414928e+06  \n",
              "std    1.672160e+06  \n",
              "min    7.900000e+03  \n",
              "25%    1.336900e+06  \n",
              "50%    1.842300e+06  \n",
              "75%    3.090850e+06  \n",
              "max    2.328310e+07  "
            ],
            "text/html": [
              "\n",
              "  <div id=\"df-091e60d3-ffc3-4f90-bbc5-8f4f3f256d04\">\n",
              "    <div class=\"colab-df-container\">\n",
              "      <div>\n",
              "<style scoped>\n",
              "    .dataframe tbody tr th:only-of-type {\n",
              "        vertical-align: middle;\n",
              "    }\n",
              "\n",
              "    .dataframe tbody tr th {\n",
              "        vertical-align: top;\n",
              "    }\n",
              "\n",
              "    .dataframe thead th {\n",
              "        text-align: right;\n",
              "    }\n",
              "</style>\n",
              "<table border=\"1\" class=\"dataframe\">\n",
              "  <thead>\n",
              "    <tr style=\"text-align: right;\">\n",
              "      <th></th>\n",
              "      <th>Open</th>\n",
              "      <th>High</th>\n",
              "      <th>Low</th>\n",
              "      <th>Close</th>\n",
              "      <th>Adj Close</th>\n",
              "      <th>Volume</th>\n",
              "    </tr>\n",
              "  </thead>\n",
              "  <tbody>\n",
              "    <tr>\n",
              "      <th>count</th>\n",
              "      <td>1259.000000</td>\n",
              "      <td>1259.000000</td>\n",
              "      <td>1259.000000</td>\n",
              "      <td>1259.000000</td>\n",
              "      <td>1259.000000</td>\n",
              "      <td>1.259000e+03</td>\n",
              "    </tr>\n",
              "    <tr>\n",
              "      <th>mean</th>\n",
              "      <td>652.704082</td>\n",
              "      <td>657.475653</td>\n",
              "      <td>647.433700</td>\n",
              "      <td>652.657015</td>\n",
              "      <td>652.657015</td>\n",
              "      <td>2.414928e+06</td>\n",
              "    </tr>\n",
              "    <tr>\n",
              "      <th>std</th>\n",
              "      <td>175.630574</td>\n",
              "      <td>176.627416</td>\n",
              "      <td>174.732814</td>\n",
              "      <td>175.820993</td>\n",
              "      <td>175.820993</td>\n",
              "      <td>1.672160e+06</td>\n",
              "    </tr>\n",
              "    <tr>\n",
              "      <th>min</th>\n",
              "      <td>350.053253</td>\n",
              "      <td>350.391052</td>\n",
              "      <td>345.512787</td>\n",
              "      <td>349.164032</td>\n",
              "      <td>349.164032</td>\n",
              "      <td>7.900000e+03</td>\n",
              "    </tr>\n",
              "    <tr>\n",
              "      <th>25%</th>\n",
              "      <td>528.287079</td>\n",
              "      <td>532.615204</td>\n",
              "      <td>524.232483</td>\n",
              "      <td>528.429413</td>\n",
              "      <td>528.429413</td>\n",
              "      <td>1.336900e+06</td>\n",
              "    </tr>\n",
              "    <tr>\n",
              "      <th>50%</th>\n",
              "      <td>600.002563</td>\n",
              "      <td>603.236511</td>\n",
              "      <td>594.453674</td>\n",
              "      <td>598.005554</td>\n",
              "      <td>598.005554</td>\n",
              "      <td>1.842300e+06</td>\n",
              "    </tr>\n",
              "    <tr>\n",
              "      <th>75%</th>\n",
              "      <td>774.015015</td>\n",
              "      <td>779.120025</td>\n",
              "      <td>768.662506</td>\n",
              "      <td>772.720001</td>\n",
              "      <td>772.720001</td>\n",
              "      <td>3.090850e+06</td>\n",
              "    </tr>\n",
              "    <tr>\n",
              "      <th>max</th>\n",
              "      <td>1075.199951</td>\n",
              "      <td>1078.489990</td>\n",
              "      <td>1063.550049</td>\n",
              "      <td>1077.140015</td>\n",
              "      <td>1077.140015</td>\n",
              "      <td>2.328310e+07</td>\n",
              "    </tr>\n",
              "  </tbody>\n",
              "</table>\n",
              "</div>\n",
              "      <button class=\"colab-df-convert\" onclick=\"convertToInteractive('df-091e60d3-ffc3-4f90-bbc5-8f4f3f256d04')\"\n",
              "              title=\"Convert this dataframe to an interactive table.\"\n",
              "              style=\"display:none;\">\n",
              "        \n",
              "  <svg xmlns=\"http://www.w3.org/2000/svg\" height=\"24px\"viewBox=\"0 0 24 24\"\n",
              "       width=\"24px\">\n",
              "    <path d=\"M0 0h24v24H0V0z\" fill=\"none\"/>\n",
              "    <path d=\"M18.56 5.44l.94 2.06.94-2.06 2.06-.94-2.06-.94-.94-2.06-.94 2.06-2.06.94zm-11 1L8.5 8.5l.94-2.06 2.06-.94-2.06-.94L8.5 2.5l-.94 2.06-2.06.94zm10 10l.94 2.06.94-2.06 2.06-.94-2.06-.94-.94-2.06-.94 2.06-2.06.94z\"/><path d=\"M17.41 7.96l-1.37-1.37c-.4-.4-.92-.59-1.43-.59-.52 0-1.04.2-1.43.59L10.3 9.45l-7.72 7.72c-.78.78-.78 2.05 0 2.83L4 21.41c.39.39.9.59 1.41.59.51 0 1.02-.2 1.41-.59l7.78-7.78 2.81-2.81c.8-.78.8-2.07 0-2.86zM5.41 20L4 18.59l7.72-7.72 1.47 1.35L5.41 20z\"/>\n",
              "  </svg>\n",
              "      </button>\n",
              "      \n",
              "  <style>\n",
              "    .colab-df-container {\n",
              "      display:flex;\n",
              "      flex-wrap:wrap;\n",
              "      gap: 12px;\n",
              "    }\n",
              "\n",
              "    .colab-df-convert {\n",
              "      background-color: #E8F0FE;\n",
              "      border: none;\n",
              "      border-radius: 50%;\n",
              "      cursor: pointer;\n",
              "      display: none;\n",
              "      fill: #1967D2;\n",
              "      height: 32px;\n",
              "      padding: 0 0 0 0;\n",
              "      width: 32px;\n",
              "    }\n",
              "\n",
              "    .colab-df-convert:hover {\n",
              "      background-color: #E2EBFA;\n",
              "      box-shadow: 0px 1px 2px rgba(60, 64, 67, 0.3), 0px 1px 3px 1px rgba(60, 64, 67, 0.15);\n",
              "      fill: #174EA6;\n",
              "    }\n",
              "\n",
              "    [theme=dark] .colab-df-convert {\n",
              "      background-color: #3B4455;\n",
              "      fill: #D2E3FC;\n",
              "    }\n",
              "\n",
              "    [theme=dark] .colab-df-convert:hover {\n",
              "      background-color: #434B5C;\n",
              "      box-shadow: 0px 1px 3px 1px rgba(0, 0, 0, 0.15);\n",
              "      filter: drop-shadow(0px 1px 2px rgba(0, 0, 0, 0.3));\n",
              "      fill: #FFFFFF;\n",
              "    }\n",
              "  </style>\n",
              "\n",
              "      <script>\n",
              "        const buttonEl =\n",
              "          document.querySelector('#df-091e60d3-ffc3-4f90-bbc5-8f4f3f256d04 button.colab-df-convert');\n",
              "        buttonEl.style.display =\n",
              "          google.colab.kernel.accessAllowed ? 'block' : 'none';\n",
              "\n",
              "        async function convertToInteractive(key) {\n",
              "          const element = document.querySelector('#df-091e60d3-ffc3-4f90-bbc5-8f4f3f256d04');\n",
              "          const dataTable =\n",
              "            await google.colab.kernel.invokeFunction('convertToInteractive',\n",
              "                                                     [key], {});\n",
              "          if (!dataTable) return;\n",
              "\n",
              "          const docLinkHtml = 'Like what you see? Visit the ' +\n",
              "            '<a target=\"_blank\" href=https://colab.research.google.com/notebooks/data_table.ipynb>data table notebook</a>'\n",
              "            + ' to learn more about interactive tables.';\n",
              "          element.innerHTML = '';\n",
              "          dataTable['output_type'] = 'display_data';\n",
              "          await google.colab.output.renderOutput(dataTable, element);\n",
              "          const docLink = document.createElement('div');\n",
              "          docLink.innerHTML = docLinkHtml;\n",
              "          element.appendChild(docLink);\n",
              "        }\n",
              "      </script>\n",
              "    </div>\n",
              "  </div>\n",
              "  "
            ]
          },
          "metadata": {},
          "execution_count": 5
        }
      ],
      "source": [
        "df.describe()"
      ]
    },
    {
      "cell_type": "code",
      "execution_count": null,
      "id": "740d511a",
      "metadata": {
        "id": "740d511a"
      },
      "outputs": [],
      "source": [
        "training_set = df.iloc[:,1:2].values"
      ]
    },
    {
      "cell_type": "code",
      "execution_count": null,
      "id": "412021c1",
      "metadata": {
        "id": "412021c1",
        "outputId": "601e2655-bcd2-4722-b264-96403c5ecf41",
        "colab": {
          "base_uri": "https://localhost:8080/"
        }
      },
      "outputs": [
        {
          "output_type": "execute_result",
          "data": {
            "text/plain": [
              "(1259, 1)"
            ]
          },
          "metadata": {},
          "execution_count": 7
        }
      ],
      "source": [
        "training_set.shape"
      ]
    },
    {
      "cell_type": "markdown",
      "id": "be77c89c",
      "metadata": {
        "id": "be77c89c"
      },
      "source": [
        "# Feature Scaling"
      ]
    },
    {
      "cell_type": "code",
      "execution_count": null,
      "id": "14b6d44b",
      "metadata": {
        "id": "14b6d44b"
      },
      "outputs": [],
      "source": [
        "from sklearn.preprocessing import MinMaxScaler\n",
        "sc = MinMaxScaler(feature_range=(0,1))\n",
        "training_set_scaled = sc.fit_transform(training_set)"
      ]
    },
    {
      "cell_type": "code",
      "execution_count": null,
      "id": "21c21b07",
      "metadata": {
        "id": "21c21b07",
        "outputId": "b6c5ebd1-d919-41e3-8fb2-7feca381206c",
        "colab": {
          "base_uri": "https://localhost:8080/"
        }
      },
      "outputs": [
        {
          "output_type": "execute_result",
          "data": {
            "text/plain": [
              "array([[0.01011148],\n",
              "       [0.01388614],\n",
              "       [0.01690727],\n",
              "       ...,\n",
              "       [0.97543954],\n",
              "       [0.9674549 ],\n",
              "       [0.96072522]])"
            ]
          },
          "metadata": {},
          "execution_count": 9
        }
      ],
      "source": [
        "training_set_scaled"
      ]
    },
    {
      "cell_type": "code",
      "execution_count": null,
      "id": "44817e1d",
      "metadata": {
        "id": "44817e1d"
      },
      "outputs": [],
      "source": [
        "x_train=[]\n",
        "y_train=[]\n",
        "for i in range(60,1258):\n",
        "    x_train.append(training_set_scaled[i-60:i,0])\n",
        "    y_train.append(training_set_scaled[i,0])\n",
        "\n",
        "x_train , y_train = np.array(x_train),np.array(y_train)    "
      ]
    },
    {
      "cell_type": "code",
      "execution_count": null,
      "id": "a7cb9259",
      "metadata": {
        "id": "a7cb9259",
        "outputId": "4ce47122-1bc4-4c4c-aa7d-99faadf2e65e",
        "colab": {
          "base_uri": "https://localhost:8080/"
        }
      },
      "outputs": [
        {
          "output_type": "execute_result",
          "data": {
            "text/plain": [
              "(1198, 60)"
            ]
          },
          "metadata": {},
          "execution_count": 11
        }
      ],
      "source": [
        "x_train.shape"
      ]
    },
    {
      "cell_type": "code",
      "execution_count": null,
      "id": "7c5bae5c",
      "metadata": {
        "id": "7c5bae5c",
        "outputId": "72822d5f-cb7b-4cd4-edef-99da0be7913d",
        "colab": {
          "base_uri": "https://localhost:8080/"
        }
      },
      "outputs": [
        {
          "output_type": "execute_result",
          "data": {
            "text/plain": [
              "(1198,)"
            ]
          },
          "metadata": {},
          "execution_count": 13
        }
      ],
      "source": [
        "y_train.shape"
      ]
    },
    {
      "cell_type": "markdown",
      "id": "a0145e5b",
      "metadata": {
        "id": "a0145e5b"
      },
      "source": [
        "# Reshaping"
      ]
    },
    {
      "cell_type": "code",
      "execution_count": null,
      "id": "fcb19e69",
      "metadata": {
        "id": "fcb19e69"
      },
      "outputs": [],
      "source": [
        "x_train = np.reshape(x_train,(x_train.shape[0],x_train.shape[1],1))"
      ]
    },
    {
      "cell_type": "code",
      "execution_count": null,
      "id": "eb8848e5",
      "metadata": {
        "id": "eb8848e5",
        "outputId": "72c50b58-c161-4dc3-9af6-332dabb4cdc8",
        "colab": {
          "base_uri": "https://localhost:8080/"
        }
      },
      "outputs": [
        {
          "output_type": "execute_result",
          "data": {
            "text/plain": [
              "(1198, 60, 1)"
            ]
          },
          "metadata": {},
          "execution_count": 15
        }
      ],
      "source": [
        "x_train.shape"
      ]
    },
    {
      "cell_type": "markdown",
      "id": "5b373fe8",
      "metadata": {
        "id": "5b373fe8"
      },
      "source": [
        "# Creating RNN model"
      ]
    },
    {
      "cell_type": "code",
      "execution_count": null,
      "id": "411f500e",
      "metadata": {
        "id": "411f500e"
      },
      "outputs": [],
      "source": [
        "from keras.models import Sequential\n",
        "from keras.layers import Dense\n",
        "from keras.layers import LSTM\n",
        "from keras.layers import Dropout"
      ]
    },
    {
      "cell_type": "code",
      "execution_count": null,
      "id": "4aed9882",
      "metadata": {
        "id": "4aed9882"
      },
      "outputs": [],
      "source": [
        "# Initializing  the RNN\n",
        "model_reg = Sequential()"
      ]
    },
    {
      "cell_type": "code",
      "execution_count": null,
      "id": "f3f16a73",
      "metadata": {
        "id": "f3f16a73"
      },
      "outputs": [],
      "source": [
        "# Adding First Layer\n",
        "model_reg.add(LSTM(units=50, return_sequences=True, input_shape=(x_train.shape[1],1)))\n",
        "model_reg.add(Dropout(0.2))"
      ]
    },
    {
      "cell_type": "code",
      "execution_count": null,
      "id": "22826164",
      "metadata": {
        "id": "22826164"
      },
      "outputs": [],
      "source": [
        "# Adding Second LSTM Layer\n",
        "model_reg.add(LSTM(units=50, return_sequences= True))\n",
        "model_reg.add(Dropout(0.2))"
      ]
    },
    {
      "cell_type": "code",
      "execution_count": null,
      "id": "88a8ecef",
      "metadata": {
        "id": "88a8ecef"
      },
      "outputs": [],
      "source": [
        "# Adding Third LSTM Layer\n",
        "model_reg.add(LSTM(units=50, return_sequences= True))\n",
        "model_reg.add(Dropout(0.2))"
      ]
    },
    {
      "cell_type": "code",
      "execution_count": null,
      "id": "6106a2e6",
      "metadata": {
        "id": "6106a2e6"
      },
      "outputs": [],
      "source": [
        "# Adding Fourth LSTM Layer\n",
        "model_reg.add(LSTM(units=50))\n",
        "model_reg.add(Dropout(0.2))"
      ]
    },
    {
      "cell_type": "code",
      "execution_count": null,
      "id": "9cfb40f9",
      "metadata": {
        "id": "9cfb40f9"
      },
      "outputs": [],
      "source": [
        "# Adding Output Layer\n",
        "model_reg.add(Dense(units=1))"
      ]
    },
    {
      "cell_type": "markdown",
      "id": "9d0c6736",
      "metadata": {
        "id": "9d0c6736"
      },
      "source": [
        "# Model Compilation\n"
      ]
    },
    {
      "cell_type": "code",
      "execution_count": null,
      "id": "4c488340",
      "metadata": {
        "id": "4c488340"
      },
      "outputs": [],
      "source": [
        "model_reg.compile(optimizer='adam',loss='mse',metrics=['mse','mae'])"
      ]
    },
    {
      "cell_type": "markdown",
      "id": "ff881f76",
      "metadata": {
        "id": "ff881f76"
      },
      "source": [
        "# Fitting the RNN to Training Set "
      ]
    },
    {
      "cell_type": "code",
      "execution_count": null,
      "id": "9472d205",
      "metadata": {
        "scrolled": true,
        "id": "9472d205",
        "outputId": "59cf1676-b865-4357-d4ea-54471d5106ef",
        "colab": {
          "base_uri": "https://localhost:8080/"
        }
      },
      "outputs": [
        {
          "output_type": "stream",
          "name": "stdout",
          "text": [
            "Epoch 1/100\n",
            "26/26 [==============================] - 12s 187ms/step - loss: 0.0159 - mse: 0.0159 - mae: 0.0904 - val_loss: 0.0524 - val_mse: 0.0524 - val_mae: 0.2179\n",
            "Epoch 2/100\n",
            "26/26 [==============================] - 3s 125ms/step - loss: 0.0045 - mse: 0.0045 - mae: 0.0517 - val_loss: 0.0044 - val_mse: 0.0044 - val_mae: 0.0550\n",
            "Epoch 3/100\n",
            "26/26 [==============================] - 3s 123ms/step - loss: 0.0026 - mse: 0.0026 - mae: 0.0384 - val_loss: 0.0040 - val_mse: 0.0040 - val_mae: 0.0528\n",
            "Epoch 4/100\n",
            "26/26 [==============================] - 3s 122ms/step - loss: 0.0025 - mse: 0.0025 - mae: 0.0374 - val_loss: 0.0055 - val_mse: 0.0055 - val_mae: 0.0636\n",
            "Epoch 5/100\n",
            "26/26 [==============================] - 3s 123ms/step - loss: 0.0022 - mse: 0.0022 - mae: 0.0352 - val_loss: 0.0015 - val_mse: 0.0015 - val_mae: 0.0302\n",
            "Epoch 6/100\n",
            "26/26 [==============================] - 3s 122ms/step - loss: 0.0023 - mse: 0.0023 - mae: 0.0362 - val_loss: 0.0112 - val_mse: 0.0112 - val_mae: 0.0962\n",
            "Epoch 7/100\n",
            "26/26 [==============================] - 3s 123ms/step - loss: 0.0022 - mse: 0.0022 - mae: 0.0354 - val_loss: 0.0024 - val_mse: 0.0024 - val_mae: 0.0379\n",
            "Epoch 8/100\n",
            "26/26 [==============================] - 3s 125ms/step - loss: 0.0022 - mse: 0.0022 - mae: 0.0352 - val_loss: 0.0013 - val_mse: 0.0013 - val_mae: 0.0293\n",
            "Epoch 9/100\n",
            "26/26 [==============================] - 3s 124ms/step - loss: 0.0021 - mse: 0.0021 - mae: 0.0341 - val_loss: 0.0017 - val_mse: 0.0017 - val_mae: 0.0342\n",
            "Epoch 10/100\n",
            "26/26 [==============================] - 5s 181ms/step - loss: 0.0026 - mse: 0.0026 - mae: 0.0386 - val_loss: 0.0020 - val_mse: 0.0020 - val_mae: 0.0345\n",
            "Epoch 11/100\n",
            "26/26 [==============================] - 3s 124ms/step - loss: 0.0020 - mse: 0.0020 - mae: 0.0336 - val_loss: 0.0100 - val_mse: 0.0100 - val_mae: 0.0905\n",
            "Epoch 12/100\n",
            "26/26 [==============================] - 3s 124ms/step - loss: 0.0023 - mse: 0.0023 - mae: 0.0351 - val_loss: 0.0012 - val_mse: 0.0012 - val_mae: 0.0285\n",
            "Epoch 13/100\n",
            "26/26 [==============================] - 3s 123ms/step - loss: 0.0025 - mse: 0.0025 - mae: 0.0382 - val_loss: 0.0059 - val_mse: 0.0059 - val_mae: 0.0660\n",
            "Epoch 14/100\n",
            "26/26 [==============================] - 3s 123ms/step - loss: 0.0022 - mse: 0.0022 - mae: 0.0346 - val_loss: 0.0092 - val_mse: 0.0092 - val_mae: 0.0859\n",
            "Epoch 15/100\n",
            "26/26 [==============================] - 3s 124ms/step - loss: 0.0018 - mse: 0.0018 - mae: 0.0318 - val_loss: 0.0013 - val_mse: 0.0013 - val_mae: 0.0287\n",
            "Epoch 16/100\n",
            "26/26 [==============================] - 3s 124ms/step - loss: 0.0022 - mse: 0.0022 - mae: 0.0347 - val_loss: 0.0029 - val_mse: 0.0029 - val_mae: 0.0433\n",
            "Epoch 17/100\n",
            "26/26 [==============================] - 3s 125ms/step - loss: 0.0017 - mse: 0.0017 - mae: 0.0300 - val_loss: 0.0011 - val_mse: 0.0011 - val_mae: 0.0267\n",
            "Epoch 18/100\n",
            "26/26 [==============================] - 3s 123ms/step - loss: 0.0017 - mse: 0.0017 - mae: 0.0299 - val_loss: 0.0026 - val_mse: 0.0026 - val_mae: 0.0407\n",
            "Epoch 19/100\n",
            "26/26 [==============================] - 3s 124ms/step - loss: 0.0018 - mse: 0.0018 - mae: 0.0320 - val_loss: 0.0077 - val_mse: 0.0077 - val_mae: 0.0786\n",
            "Epoch 20/100\n",
            "26/26 [==============================] - 3s 126ms/step - loss: 0.0029 - mse: 0.0029 - mae: 0.0411 - val_loss: 0.0030 - val_mse: 0.0030 - val_mae: 0.0440\n",
            "Epoch 21/100\n",
            "26/26 [==============================] - 3s 126ms/step - loss: 0.0017 - mse: 0.0017 - mae: 0.0298 - val_loss: 0.0040 - val_mse: 0.0040 - val_mae: 0.0521\n",
            "Epoch 22/100\n",
            "26/26 [==============================] - 3s 125ms/step - loss: 0.0015 - mse: 0.0015 - mae: 0.0284 - val_loss: 0.0071 - val_mse: 0.0071 - val_mae: 0.0736\n",
            "Epoch 23/100\n",
            "26/26 [==============================] - 3s 126ms/step - loss: 0.0017 - mse: 0.0017 - mae: 0.0301 - val_loss: 0.0065 - val_mse: 0.0065 - val_mae: 0.0705\n",
            "Epoch 24/100\n",
            "26/26 [==============================] - 3s 125ms/step - loss: 0.0016 - mse: 0.0016 - mae: 0.0293 - val_loss: 0.0049 - val_mse: 0.0049 - val_mae: 0.0600\n",
            "Epoch 25/100\n",
            "26/26 [==============================] - 3s 124ms/step - loss: 0.0014 - mse: 0.0014 - mae: 0.0276 - val_loss: 0.0025 - val_mse: 0.0025 - val_mae: 0.0404\n",
            "Epoch 26/100\n",
            "26/26 [==============================] - 3s 124ms/step - loss: 0.0013 - mse: 0.0013 - mae: 0.0272 - val_loss: 0.0026 - val_mse: 0.0026 - val_mae: 0.0414\n",
            "Epoch 27/100\n",
            "26/26 [==============================] - 3s 124ms/step - loss: 0.0015 - mse: 0.0015 - mae: 0.0278 - val_loss: 0.0038 - val_mse: 0.0038 - val_mae: 0.0512\n",
            "Epoch 28/100\n",
            "26/26 [==============================] - 3s 125ms/step - loss: 0.0015 - mse: 0.0015 - mae: 0.0278 - val_loss: 0.0010 - val_mse: 0.0010 - val_mae: 0.0251\n",
            "Epoch 29/100\n",
            "26/26 [==============================] - 3s 124ms/step - loss: 0.0015 - mse: 0.0015 - mae: 0.0283 - val_loss: 0.0016 - val_mse: 0.0016 - val_mae: 0.0319\n",
            "Epoch 30/100\n",
            "26/26 [==============================] - 3s 125ms/step - loss: 0.0014 - mse: 0.0014 - mae: 0.0270 - val_loss: 9.5613e-04 - val_mse: 9.5613e-04 - val_mae: 0.0243\n",
            "Epoch 31/100\n",
            "26/26 [==============================] - 3s 123ms/step - loss: 0.0015 - mse: 0.0015 - mae: 0.0284 - val_loss: 0.0010 - val_mse: 0.0010 - val_mae: 0.0261\n",
            "Epoch 32/100\n",
            "26/26 [==============================] - 3s 123ms/step - loss: 0.0013 - mse: 0.0013 - mae: 0.0270 - val_loss: 0.0017 - val_mse: 0.0017 - val_mae: 0.0339\n",
            "Epoch 33/100\n",
            "26/26 [==============================] - 3s 124ms/step - loss: 0.0013 - mse: 0.0013 - mae: 0.0265 - val_loss: 7.7124e-04 - val_mse: 7.7124e-04 - val_mae: 0.0221\n",
            "Epoch 34/100\n",
            "26/26 [==============================] - 3s 124ms/step - loss: 0.0016 - mse: 0.0016 - mae: 0.0295 - val_loss: 0.0028 - val_mse: 0.0028 - val_mae: 0.0452\n",
            "Epoch 35/100\n",
            "26/26 [==============================] - 3s 123ms/step - loss: 0.0014 - mse: 0.0014 - mae: 0.0278 - val_loss: 0.0011 - val_mse: 0.0011 - val_mae: 0.0258\n",
            "Epoch 36/100\n",
            "26/26 [==============================] - 4s 158ms/step - loss: 0.0014 - mse: 0.0014 - mae: 0.0273 - val_loss: 7.9921e-04 - val_mse: 7.9921e-04 - val_mae: 0.0223\n",
            "Epoch 37/100\n",
            "26/26 [==============================] - 3s 126ms/step - loss: 0.0014 - mse: 0.0014 - mae: 0.0269 - val_loss: 8.1069e-04 - val_mse: 8.1069e-04 - val_mae: 0.0227\n",
            "Epoch 38/100\n",
            "26/26 [==============================] - 3s 126ms/step - loss: 0.0013 - mse: 0.0013 - mae: 0.0260 - val_loss: 0.0013 - val_mse: 0.0013 - val_mae: 0.0284\n",
            "Epoch 39/100\n",
            "26/26 [==============================] - 3s 125ms/step - loss: 0.0014 - mse: 0.0014 - mae: 0.0280 - val_loss: 0.0041 - val_mse: 0.0041 - val_mae: 0.0555\n",
            "Epoch 40/100\n",
            "26/26 [==============================] - 3s 124ms/step - loss: 0.0017 - mse: 0.0017 - mae: 0.0304 - val_loss: 0.0042 - val_mse: 0.0042 - val_mae: 0.0560\n",
            "Epoch 41/100\n",
            "26/26 [==============================] - 3s 125ms/step - loss: 0.0012 - mse: 0.0012 - mae: 0.0252 - val_loss: 0.0033 - val_mse: 0.0033 - val_mae: 0.0482\n",
            "Epoch 42/100\n",
            "26/26 [==============================] - 3s 125ms/step - loss: 0.0012 - mse: 0.0012 - mae: 0.0258 - val_loss: 0.0017 - val_mse: 0.0017 - val_mae: 0.0329\n",
            "Epoch 43/100\n",
            "26/26 [==============================] - 3s 124ms/step - loss: 0.0012 - mse: 0.0012 - mae: 0.0246 - val_loss: 0.0043 - val_mse: 0.0043 - val_mae: 0.0581\n",
            "Epoch 44/100\n",
            "26/26 [==============================] - 3s 126ms/step - loss: 0.0012 - mse: 0.0012 - mae: 0.0257 - val_loss: 0.0084 - val_mse: 0.0084 - val_mae: 0.0842\n",
            "Epoch 45/100\n",
            "26/26 [==============================] - 3s 126ms/step - loss: 0.0016 - mse: 0.0016 - mae: 0.0303 - val_loss: 0.0052 - val_mse: 0.0052 - val_mae: 0.0640\n",
            "Epoch 46/100\n",
            "26/26 [==============================] - 3s 124ms/step - loss: 0.0012 - mse: 0.0012 - mae: 0.0259 - val_loss: 0.0021 - val_mse: 0.0021 - val_mae: 0.0374\n",
            "Epoch 47/100\n",
            "26/26 [==============================] - 3s 125ms/step - loss: 0.0012 - mse: 0.0012 - mae: 0.0256 - val_loss: 0.0011 - val_mse: 0.0011 - val_mae: 0.0253\n",
            "Epoch 48/100\n",
            "26/26 [==============================] - 3s 125ms/step - loss: 0.0012 - mse: 0.0012 - mae: 0.0252 - val_loss: 0.0026 - val_mse: 0.0026 - val_mae: 0.0413\n",
            "Epoch 49/100\n",
            "26/26 [==============================] - 3s 125ms/step - loss: 0.0012 - mse: 0.0012 - mae: 0.0247 - val_loss: 0.0028 - val_mse: 0.0028 - val_mae: 0.0436\n",
            "Epoch 50/100\n",
            "26/26 [==============================] - 3s 125ms/step - loss: 0.0011 - mse: 0.0011 - mae: 0.0246 - val_loss: 0.0011 - val_mse: 0.0011 - val_mae: 0.0254\n",
            "Epoch 51/100\n",
            "26/26 [==============================] - 3s 125ms/step - loss: 0.0012 - mse: 0.0012 - mae: 0.0249 - val_loss: 0.0022 - val_mse: 0.0022 - val_mae: 0.0391\n",
            "Epoch 52/100\n",
            "26/26 [==============================] - 3s 125ms/step - loss: 0.0012 - mse: 0.0012 - mae: 0.0252 - val_loss: 7.0884e-04 - val_mse: 7.0884e-04 - val_mae: 0.0211\n",
            "Epoch 53/100\n",
            "26/26 [==============================] - 3s 125ms/step - loss: 0.0013 - mse: 0.0013 - mae: 0.0275 - val_loss: 9.0491e-04 - val_mse: 9.0491e-04 - val_mae: 0.0234\n",
            "Epoch 54/100\n",
            "26/26 [==============================] - 3s 124ms/step - loss: 0.0012 - mse: 0.0012 - mae: 0.0252 - val_loss: 0.0022 - val_mse: 0.0022 - val_mae: 0.0384\n",
            "Epoch 55/100\n",
            "26/26 [==============================] - 3s 125ms/step - loss: 0.0011 - mse: 0.0011 - mae: 0.0242 - val_loss: 0.0112 - val_mse: 0.0112 - val_mae: 0.0986\n",
            "Epoch 56/100\n",
            "26/26 [==============================] - 3s 124ms/step - loss: 0.0013 - mse: 0.0013 - mae: 0.0266 - val_loss: 0.0044 - val_mse: 0.0044 - val_mae: 0.0584\n",
            "Epoch 57/100\n",
            "26/26 [==============================] - 3s 124ms/step - loss: 0.0011 - mse: 0.0011 - mae: 0.0237 - val_loss: 0.0037 - val_mse: 0.0037 - val_mae: 0.0530\n",
            "Epoch 58/100\n",
            "26/26 [==============================] - 3s 126ms/step - loss: 0.0010 - mse: 0.0010 - mae: 0.0235 - val_loss: 0.0027 - val_mse: 0.0027 - val_mae: 0.0439\n",
            "Epoch 59/100\n",
            "26/26 [==============================] - 3s 124ms/step - loss: 0.0010 - mse: 0.0010 - mae: 0.0231 - val_loss: 0.0017 - val_mse: 0.0017 - val_mae: 0.0336\n",
            "Epoch 60/100\n",
            "26/26 [==============================] - 3s 124ms/step - loss: 9.7088e-04 - mse: 9.7088e-04 - mae: 0.0225 - val_loss: 6.7444e-04 - val_mse: 6.7444e-04 - val_mae: 0.0205\n",
            "Epoch 61/100\n",
            "26/26 [==============================] - 3s 124ms/step - loss: 0.0011 - mse: 0.0011 - mae: 0.0232 - val_loss: 6.5039e-04 - val_mse: 6.5039e-04 - val_mae: 0.0201\n",
            "Epoch 62/100\n",
            "26/26 [==============================] - 3s 125ms/step - loss: 0.0011 - mse: 0.0011 - mae: 0.0233 - val_loss: 0.0016 - val_mse: 0.0016 - val_mae: 0.0329\n",
            "Epoch 63/100\n",
            "26/26 [==============================] - 3s 125ms/step - loss: 0.0010 - mse: 0.0010 - mae: 0.0240 - val_loss: 0.0040 - val_mse: 0.0040 - val_mae: 0.0572\n",
            "Epoch 64/100\n",
            "26/26 [==============================] - 3s 125ms/step - loss: 0.0011 - mse: 0.0011 - mae: 0.0247 - val_loss: 0.0020 - val_mse: 0.0020 - val_mae: 0.0364\n",
            "Epoch 65/100\n",
            "26/26 [==============================] - 3s 125ms/step - loss: 0.0011 - mse: 0.0011 - mae: 0.0239 - val_loss: 0.0053 - val_mse: 0.0053 - val_mae: 0.0666\n",
            "Epoch 66/100\n",
            "26/26 [==============================] - 3s 124ms/step - loss: 0.0011 - mse: 0.0011 - mae: 0.0251 - val_loss: 0.0052 - val_mse: 0.0052 - val_mae: 0.0646\n",
            "Epoch 67/100\n",
            "26/26 [==============================] - 3s 125ms/step - loss: 0.0011 - mse: 0.0011 - mae: 0.0234 - val_loss: 0.0013 - val_mse: 0.0013 - val_mae: 0.0283\n",
            "Epoch 68/100\n",
            "26/26 [==============================] - 3s 125ms/step - loss: 9.9873e-04 - mse: 9.9873e-04 - mae: 0.0230 - val_loss: 0.0018 - val_mse: 0.0018 - val_mae: 0.0356\n",
            "Epoch 69/100\n",
            "26/26 [==============================] - 3s 125ms/step - loss: 0.0011 - mse: 0.0011 - mae: 0.0245 - val_loss: 0.0013 - val_mse: 0.0013 - val_mae: 0.0299\n",
            "Epoch 70/100\n",
            "26/26 [==============================] - 3s 125ms/step - loss: 9.8950e-04 - mse: 9.8950e-04 - mae: 0.0235 - val_loss: 0.0022 - val_mse: 0.0022 - val_mae: 0.0398\n",
            "Epoch 71/100\n",
            "26/26 [==============================] - 3s 125ms/step - loss: 9.4970e-04 - mse: 9.4970e-04 - mae: 0.0223 - val_loss: 0.0011 - val_mse: 0.0011 - val_mae: 0.0264\n",
            "Epoch 72/100\n",
            "26/26 [==============================] - 3s 124ms/step - loss: 9.8911e-04 - mse: 9.8911e-04 - mae: 0.0223 - val_loss: 6.8066e-04 - val_mse: 6.8066e-04 - val_mae: 0.0203\n",
            "Epoch 73/100\n",
            "26/26 [==============================] - 3s 125ms/step - loss: 9.1134e-04 - mse: 9.1134e-04 - mae: 0.0218 - val_loss: 0.0010 - val_mse: 0.0010 - val_mae: 0.0248\n",
            "Epoch 74/100\n",
            "26/26 [==============================] - 3s 126ms/step - loss: 9.8955e-04 - mse: 9.8955e-04 - mae: 0.0224 - val_loss: 0.0021 - val_mse: 0.0021 - val_mae: 0.0394\n",
            "Epoch 75/100\n",
            "26/26 [==============================] - 3s 126ms/step - loss: 0.0010 - mse: 0.0010 - mae: 0.0229 - val_loss: 0.0021 - val_mse: 0.0021 - val_mae: 0.0388\n",
            "Epoch 76/100\n",
            "26/26 [==============================] - 3s 126ms/step - loss: 9.0388e-04 - mse: 9.0388e-04 - mae: 0.0215 - val_loss: 0.0028 - val_mse: 0.0028 - val_mae: 0.0460\n",
            "Epoch 77/100\n",
            "26/26 [==============================] - 3s 124ms/step - loss: 8.5113e-04 - mse: 8.5113e-04 - mae: 0.0214 - val_loss: 0.0011 - val_mse: 0.0011 - val_mae: 0.0270\n",
            "Epoch 78/100\n",
            "26/26 [==============================] - 3s 125ms/step - loss: 8.8742e-04 - mse: 8.8742e-04 - mae: 0.0215 - val_loss: 0.0028 - val_mse: 0.0028 - val_mae: 0.0468\n",
            "Epoch 79/100\n",
            "26/26 [==============================] - 3s 126ms/step - loss: 9.8162e-04 - mse: 9.8162e-04 - mae: 0.0226 - val_loss: 0.0023 - val_mse: 0.0023 - val_mae: 0.0414\n",
            "Epoch 80/100\n",
            "26/26 [==============================] - 3s 125ms/step - loss: 8.2749e-04 - mse: 8.2749e-04 - mae: 0.0209 - val_loss: 0.0014 - val_mse: 0.0014 - val_mae: 0.0312\n",
            "Epoch 81/100\n",
            "26/26 [==============================] - 3s 126ms/step - loss: 8.1181e-04 - mse: 8.1181e-04 - mae: 0.0207 - val_loss: 9.4243e-04 - val_mse: 9.4243e-04 - val_mae: 0.0248\n",
            "Epoch 82/100\n",
            "26/26 [==============================] - 3s 126ms/step - loss: 8.0754e-04 - mse: 8.0754e-04 - mae: 0.0202 - val_loss: 6.4793e-04 - val_mse: 6.4793e-04 - val_mae: 0.0200\n",
            "Epoch 83/100\n",
            "26/26 [==============================] - 3s 125ms/step - loss: 7.7045e-04 - mse: 7.7045e-04 - mae: 0.0202 - val_loss: 0.0015 - val_mse: 0.0015 - val_mae: 0.0324\n",
            "Epoch 84/100\n",
            "26/26 [==============================] - 4s 157ms/step - loss: 7.6989e-04 - mse: 7.6989e-04 - mae: 0.0200 - val_loss: 0.0020 - val_mse: 0.0020 - val_mae: 0.0388\n",
            "Epoch 85/100\n",
            "26/26 [==============================] - 3s 126ms/step - loss: 7.5887e-04 - mse: 7.5887e-04 - mae: 0.0195 - val_loss: 5.7858e-04 - val_mse: 5.7858e-04 - val_mae: 0.0188\n",
            "Epoch 86/100\n",
            "26/26 [==============================] - 3s 125ms/step - loss: 7.7696e-04 - mse: 7.7696e-04 - mae: 0.0205 - val_loss: 4.4505e-04 - val_mse: 4.4505e-04 - val_mae: 0.0164\n",
            "Epoch 87/100\n",
            "26/26 [==============================] - 3s 124ms/step - loss: 8.6462e-04 - mse: 8.6462e-04 - mae: 0.0213 - val_loss: 9.4324e-04 - val_mse: 9.4324e-04 - val_mae: 0.0252\n",
            "Epoch 88/100\n",
            "26/26 [==============================] - 3s 125ms/step - loss: 7.1519e-04 - mse: 7.1519e-04 - mae: 0.0196 - val_loss: 4.9598e-04 - val_mse: 4.9598e-04 - val_mae: 0.0174\n",
            "Epoch 89/100\n",
            "26/26 [==============================] - 3s 126ms/step - loss: 8.4665e-04 - mse: 8.4665e-04 - mae: 0.0216 - val_loss: 5.3155e-04 - val_mse: 5.3155e-04 - val_mae: 0.0179\n",
            "Epoch 90/100\n",
            "26/26 [==============================] - 3s 124ms/step - loss: 7.3602e-04 - mse: 7.3602e-04 - mae: 0.0202 - val_loss: 6.5131e-04 - val_mse: 6.5131e-04 - val_mae: 0.0205\n",
            "Epoch 91/100\n",
            "26/26 [==============================] - 3s 124ms/step - loss: 7.7209e-04 - mse: 7.7209e-04 - mae: 0.0203 - val_loss: 0.0027 - val_mse: 0.0027 - val_mae: 0.0460\n",
            "Epoch 92/100\n",
            "26/26 [==============================] - 3s 124ms/step - loss: 8.6389e-04 - mse: 8.6389e-04 - mae: 0.0214 - val_loss: 5.6990e-04 - val_mse: 5.6990e-04 - val_mae: 0.0184\n",
            "Epoch 93/100\n",
            "26/26 [==============================] - 3s 125ms/step - loss: 8.0657e-04 - mse: 8.0657e-04 - mae: 0.0219 - val_loss: 8.3463e-04 - val_mse: 8.3463e-04 - val_mae: 0.0231\n",
            "Epoch 94/100\n",
            "26/26 [==============================] - 3s 126ms/step - loss: 7.4641e-04 - mse: 7.4641e-04 - mae: 0.0197 - val_loss: 0.0015 - val_mse: 0.0015 - val_mae: 0.0327\n",
            "Epoch 95/100\n",
            "26/26 [==============================] - 3s 125ms/step - loss: 6.4222e-04 - mse: 6.4222e-04 - mae: 0.0179 - val_loss: 0.0012 - val_mse: 0.0012 - val_mae: 0.0285\n",
            "Epoch 96/100\n",
            "26/26 [==============================] - 3s 124ms/step - loss: 7.9339e-04 - mse: 7.9339e-04 - mae: 0.0208 - val_loss: 6.7904e-04 - val_mse: 6.7904e-04 - val_mae: 0.0200\n",
            "Epoch 97/100\n",
            "26/26 [==============================] - 3s 125ms/step - loss: 9.9398e-04 - mse: 9.9398e-04 - mae: 0.0231 - val_loss: 5.2337e-04 - val_mse: 5.2337e-04 - val_mae: 0.0176\n",
            "Epoch 98/100\n",
            "26/26 [==============================] - 3s 124ms/step - loss: 7.8488e-04 - mse: 7.8488e-04 - mae: 0.0200 - val_loss: 0.0012 - val_mse: 0.0012 - val_mae: 0.0279\n",
            "Epoch 99/100\n",
            "26/26 [==============================] - 3s 125ms/step - loss: 7.0204e-04 - mse: 7.0204e-04 - mae: 0.0197 - val_loss: 0.0018 - val_mse: 0.0018 - val_mae: 0.0372\n",
            "Epoch 100/100\n",
            "26/26 [==============================] - 3s 124ms/step - loss: 6.7118e-04 - mse: 6.7118e-04 - mae: 0.0187 - val_loss: 6.4535e-04 - val_mse: 6.4535e-04 - val_mae: 0.0198\n"
          ]
        },
        {
          "output_type": "execute_result",
          "data": {
            "text/plain": [
              "<keras.callbacks.History at 0x7f757c0fd990>"
            ]
          },
          "metadata": {},
          "execution_count": 24
        }
      ],
      "source": [
        "model_reg.fit(x_train,y_train,validation_split=0.33,batch_size=32,epochs=100)"
      ]
    },
    {
      "cell_type": "code",
      "execution_count": null,
      "id": "c4cfeba2",
      "metadata": {
        "id": "c4cfeba2",
        "outputId": "e4a3a107-b42d-44ec-a9db-365e84c71109",
        "colab": {
          "base_uri": "https://localhost:8080/"
        }
      },
      "outputs": [
        {
          "output_type": "stream",
          "name": "stdout",
          "text": [
            "Model: \"sequential\"\n",
            "_________________________________________________________________\n",
            " Layer (type)                Output Shape              Param #   \n",
            "=================================================================\n",
            " lstm (LSTM)                 (None, 60, 50)            10400     \n",
            "                                                                 \n",
            " dropout (Dropout)           (None, 60, 50)            0         \n",
            "                                                                 \n",
            " lstm_1 (LSTM)               (None, 60, 50)            20200     \n",
            "                                                                 \n",
            " dropout_1 (Dropout)         (None, 60, 50)            0         \n",
            "                                                                 \n",
            " lstm_2 (LSTM)               (None, 60, 50)            20200     \n",
            "                                                                 \n",
            " dropout_2 (Dropout)         (None, 60, 50)            0         \n",
            "                                                                 \n",
            " lstm_3 (LSTM)               (None, 50)                20200     \n",
            "                                                                 \n",
            " dropout_3 (Dropout)         (None, 50)                0         \n",
            "                                                                 \n",
            " dense (Dense)               (None, 1)                 51        \n",
            "                                                                 \n",
            "=================================================================\n",
            "Total params: 71,051\n",
            "Trainable params: 71,051\n",
            "Non-trainable params: 0\n",
            "_________________________________________________________________\n"
          ]
        }
      ],
      "source": [
        "model_reg.summary()"
      ]
    },
    {
      "cell_type": "markdown",
      "id": "996ad043",
      "metadata": {
        "id": "996ad043"
      },
      "source": [
        "# Stock Price for 2018"
      ]
    },
    {
      "cell_type": "code",
      "execution_count": null,
      "id": "7abe9aec",
      "metadata": {
        "id": "7abe9aec"
      },
      "outputs": [],
      "source": [
        "dataset_test = pd.read_csv('testset.csv')"
      ]
    },
    {
      "cell_type": "code",
      "execution_count": null,
      "id": "1515bfef",
      "metadata": {
        "id": "1515bfef",
        "outputId": "2ef5ef85-e19c-433a-9847-15ac08fdfe68",
        "colab": {
          "base_uri": "https://localhost:8080/",
          "height": 206
        }
      },
      "outputs": [
        {
          "output_type": "execute_result",
          "data": {
            "text/plain": [
              "         Date         Open         High          Low        Close  \\\n",
              "0  2018-01-02  1048.339966  1066.939941  1045.229980  1065.000000   \n",
              "1  2018-01-03  1064.310059  1086.290039  1063.209961  1082.479980   \n",
              "2  2018-01-04  1088.000000  1093.569946  1084.001953  1086.400024   \n",
              "3  2018-01-05  1094.000000  1104.250000  1092.000000  1102.229980   \n",
              "4  2018-01-08  1102.229980  1111.270020  1101.619995  1106.939941   \n",
              "\n",
              "     Adj Close   Volume  \n",
              "0  1065.000000  1237600  \n",
              "1  1082.479980  1430200  \n",
              "2  1086.400024  1004600  \n",
              "3  1102.229980  1279100  \n",
              "4  1106.939941  1047600  "
            ],
            "text/html": [
              "\n",
              "  <div id=\"df-0cac4e8c-af9e-442e-8f5f-b2aa44bf0a53\">\n",
              "    <div class=\"colab-df-container\">\n",
              "      <div>\n",
              "<style scoped>\n",
              "    .dataframe tbody tr th:only-of-type {\n",
              "        vertical-align: middle;\n",
              "    }\n",
              "\n",
              "    .dataframe tbody tr th {\n",
              "        vertical-align: top;\n",
              "    }\n",
              "\n",
              "    .dataframe thead th {\n",
              "        text-align: right;\n",
              "    }\n",
              "</style>\n",
              "<table border=\"1\" class=\"dataframe\">\n",
              "  <thead>\n",
              "    <tr style=\"text-align: right;\">\n",
              "      <th></th>\n",
              "      <th>Date</th>\n",
              "      <th>Open</th>\n",
              "      <th>High</th>\n",
              "      <th>Low</th>\n",
              "      <th>Close</th>\n",
              "      <th>Adj Close</th>\n",
              "      <th>Volume</th>\n",
              "    </tr>\n",
              "  </thead>\n",
              "  <tbody>\n",
              "    <tr>\n",
              "      <th>0</th>\n",
              "      <td>2018-01-02</td>\n",
              "      <td>1048.339966</td>\n",
              "      <td>1066.939941</td>\n",
              "      <td>1045.229980</td>\n",
              "      <td>1065.000000</td>\n",
              "      <td>1065.000000</td>\n",
              "      <td>1237600</td>\n",
              "    </tr>\n",
              "    <tr>\n",
              "      <th>1</th>\n",
              "      <td>2018-01-03</td>\n",
              "      <td>1064.310059</td>\n",
              "      <td>1086.290039</td>\n",
              "      <td>1063.209961</td>\n",
              "      <td>1082.479980</td>\n",
              "      <td>1082.479980</td>\n",
              "      <td>1430200</td>\n",
              "    </tr>\n",
              "    <tr>\n",
              "      <th>2</th>\n",
              "      <td>2018-01-04</td>\n",
              "      <td>1088.000000</td>\n",
              "      <td>1093.569946</td>\n",
              "      <td>1084.001953</td>\n",
              "      <td>1086.400024</td>\n",
              "      <td>1086.400024</td>\n",
              "      <td>1004600</td>\n",
              "    </tr>\n",
              "    <tr>\n",
              "      <th>3</th>\n",
              "      <td>2018-01-05</td>\n",
              "      <td>1094.000000</td>\n",
              "      <td>1104.250000</td>\n",
              "      <td>1092.000000</td>\n",
              "      <td>1102.229980</td>\n",
              "      <td>1102.229980</td>\n",
              "      <td>1279100</td>\n",
              "    </tr>\n",
              "    <tr>\n",
              "      <th>4</th>\n",
              "      <td>2018-01-08</td>\n",
              "      <td>1102.229980</td>\n",
              "      <td>1111.270020</td>\n",
              "      <td>1101.619995</td>\n",
              "      <td>1106.939941</td>\n",
              "      <td>1106.939941</td>\n",
              "      <td>1047600</td>\n",
              "    </tr>\n",
              "  </tbody>\n",
              "</table>\n",
              "</div>\n",
              "      <button class=\"colab-df-convert\" onclick=\"convertToInteractive('df-0cac4e8c-af9e-442e-8f5f-b2aa44bf0a53')\"\n",
              "              title=\"Convert this dataframe to an interactive table.\"\n",
              "              style=\"display:none;\">\n",
              "        \n",
              "  <svg xmlns=\"http://www.w3.org/2000/svg\" height=\"24px\"viewBox=\"0 0 24 24\"\n",
              "       width=\"24px\">\n",
              "    <path d=\"M0 0h24v24H0V0z\" fill=\"none\"/>\n",
              "    <path d=\"M18.56 5.44l.94 2.06.94-2.06 2.06-.94-2.06-.94-.94-2.06-.94 2.06-2.06.94zm-11 1L8.5 8.5l.94-2.06 2.06-.94-2.06-.94L8.5 2.5l-.94 2.06-2.06.94zm10 10l.94 2.06.94-2.06 2.06-.94-2.06-.94-.94-2.06-.94 2.06-2.06.94z\"/><path d=\"M17.41 7.96l-1.37-1.37c-.4-.4-.92-.59-1.43-.59-.52 0-1.04.2-1.43.59L10.3 9.45l-7.72 7.72c-.78.78-.78 2.05 0 2.83L4 21.41c.39.39.9.59 1.41.59.51 0 1.02-.2 1.41-.59l7.78-7.78 2.81-2.81c.8-.78.8-2.07 0-2.86zM5.41 20L4 18.59l7.72-7.72 1.47 1.35L5.41 20z\"/>\n",
              "  </svg>\n",
              "      </button>\n",
              "      \n",
              "  <style>\n",
              "    .colab-df-container {\n",
              "      display:flex;\n",
              "      flex-wrap:wrap;\n",
              "      gap: 12px;\n",
              "    }\n",
              "\n",
              "    .colab-df-convert {\n",
              "      background-color: #E8F0FE;\n",
              "      border: none;\n",
              "      border-radius: 50%;\n",
              "      cursor: pointer;\n",
              "      display: none;\n",
              "      fill: #1967D2;\n",
              "      height: 32px;\n",
              "      padding: 0 0 0 0;\n",
              "      width: 32px;\n",
              "    }\n",
              "\n",
              "    .colab-df-convert:hover {\n",
              "      background-color: #E2EBFA;\n",
              "      box-shadow: 0px 1px 2px rgba(60, 64, 67, 0.3), 0px 1px 3px 1px rgba(60, 64, 67, 0.15);\n",
              "      fill: #174EA6;\n",
              "    }\n",
              "\n",
              "    [theme=dark] .colab-df-convert {\n",
              "      background-color: #3B4455;\n",
              "      fill: #D2E3FC;\n",
              "    }\n",
              "\n",
              "    [theme=dark] .colab-df-convert:hover {\n",
              "      background-color: #434B5C;\n",
              "      box-shadow: 0px 1px 3px 1px rgba(0, 0, 0, 0.15);\n",
              "      filter: drop-shadow(0px 1px 2px rgba(0, 0, 0, 0.3));\n",
              "      fill: #FFFFFF;\n",
              "    }\n",
              "  </style>\n",
              "\n",
              "      <script>\n",
              "        const buttonEl =\n",
              "          document.querySelector('#df-0cac4e8c-af9e-442e-8f5f-b2aa44bf0a53 button.colab-df-convert');\n",
              "        buttonEl.style.display =\n",
              "          google.colab.kernel.accessAllowed ? 'block' : 'none';\n",
              "\n",
              "        async function convertToInteractive(key) {\n",
              "          const element = document.querySelector('#df-0cac4e8c-af9e-442e-8f5f-b2aa44bf0a53');\n",
              "          const dataTable =\n",
              "            await google.colab.kernel.invokeFunction('convertToInteractive',\n",
              "                                                     [key], {});\n",
              "          if (!dataTable) return;\n",
              "\n",
              "          const docLinkHtml = 'Like what you see? Visit the ' +\n",
              "            '<a target=\"_blank\" href=https://colab.research.google.com/notebooks/data_table.ipynb>data table notebook</a>'\n",
              "            + ' to learn more about interactive tables.';\n",
              "          element.innerHTML = '';\n",
              "          dataTable['output_type'] = 'display_data';\n",
              "          await google.colab.output.renderOutput(dataTable, element);\n",
              "          const docLink = document.createElement('div');\n",
              "          docLink.innerHTML = docLinkHtml;\n",
              "          element.appendChild(docLink);\n",
              "        }\n",
              "      </script>\n",
              "    </div>\n",
              "  </div>\n",
              "  "
            ]
          },
          "metadata": {},
          "execution_count": 27
        }
      ],
      "source": [
        "dataset_test.head()"
      ]
    },
    {
      "cell_type": "code",
      "execution_count": null,
      "id": "c1e06aa2",
      "metadata": {
        "id": "c1e06aa2"
      },
      "outputs": [],
      "source": [
        "real_stock_price = dataset_test.iloc[:,1:2].values"
      ]
    },
    {
      "cell_type": "code",
      "execution_count": null,
      "id": "1250caaa",
      "metadata": {
        "id": "1250caaa",
        "outputId": "c0db12c1-acc4-4d85-ab10-b96b169ad353",
        "colab": {
          "base_uri": "https://localhost:8080/"
        }
      },
      "outputs": [
        {
          "output_type": "execute_result",
          "data": {
            "text/plain": [
              "array([[1048.339966],\n",
              "       [1064.310059],\n",
              "       [1088.      ],\n",
              "       [1094.      ],\n",
              "       [1102.22998 ],\n",
              "       [1109.400024],\n",
              "       [1097.099976],\n",
              "       [1106.300049],\n",
              "       [1102.410034],\n",
              "       [1132.51001 ],\n",
              "       [1126.219971],\n",
              "       [1131.410034],\n",
              "       [1131.829956],\n",
              "       [1137.48999 ],\n",
              "       [1159.849976],\n",
              "       [1177.329956],\n",
              "       [1172.530029],\n",
              "       [1175.079956],\n",
              "       [1176.47998 ],\n",
              "       [1167.829956],\n",
              "       [1170.569946],\n",
              "       [1162.609985],\n",
              "       [1122.      ],\n",
              "       [1090.599976],\n",
              "       [1027.180054],\n",
              "       [1081.540039],\n",
              "       [1055.410034],\n",
              "       [1017.25    ],\n",
              "       [1048.      ],\n",
              "       [1045.      ],\n",
              "       [1048.949951],\n",
              "       [1079.069946],\n",
              "       [1088.410034],\n",
              "       [1090.569946],\n",
              "       [1106.469971],\n",
              "       [1116.189941],\n",
              "       [1112.640015],\n",
              "       [1127.800049],\n",
              "       [1141.23999 ],\n",
              "       [1123.030029],\n",
              "       [1107.869995],\n",
              "       [1053.079956],\n",
              "       [1075.140015],\n",
              "       [1099.219971],\n",
              "       [1089.189941],\n",
              "       [1115.319946],\n",
              "       [1136.      ],\n",
              "       [1163.849976],\n",
              "       [1170.      ],\n",
              "       [1145.209961],\n",
              "       [1149.959961],\n",
              "       [1154.140015],\n",
              "       [1120.01001 ],\n",
              "       [1099.      ],\n",
              "       [1092.73999 ],\n",
              "       [1081.880005],\n",
              "       [1047.030029],\n",
              "       [1046.      ],\n",
              "       [1063.      ],\n",
              "       [ 998.      ],\n",
              "       [1011.630005],\n",
              "       [1022.820007],\n",
              "       [1013.909973],\n",
              "       [ 993.409973],\n",
              "       [1041.329956],\n",
              "       [1020.      ],\n",
              "       [1016.799988],\n",
              "       [1026.439941],\n",
              "       [1027.98999 ],\n",
              "       [1025.040039],\n",
              "       [1040.880005],\n",
              "       [1037.      ],\n",
              "       [1051.369995],\n",
              "       [1077.430054],\n",
              "       [1069.400024],\n",
              "       [1082.      ],\n",
              "       [1077.859985],\n",
              "       [1052.      ],\n",
              "       [1025.52002 ],\n",
              "       [1029.51001 ],\n",
              "       [1046.      ],\n",
              "       [1030.01001 ],\n",
              "       [1013.659973],\n",
              "       [1028.099976],\n",
              "       [1019.      ],\n",
              "       [1016.900024],\n",
              "       [1049.22998 ],\n",
              "       [1058.540039],\n",
              "       [1058.099976],\n",
              "       [1086.030029],\n",
              "       [1093.599976],\n",
              "       [1100.      ],\n",
              "       [1090.      ],\n",
              "       [1077.310059],\n",
              "       [1079.890015],\n",
              "       [1061.859985],\n",
              "       [1074.060059],\n",
              "       [1083.560059],\n",
              "       [1065.130005],\n",
              "       [1079.      ],\n",
              "       [1079.02002 ],\n",
              "       [1064.890015],\n",
              "       [1063.030029],\n",
              "       [1067.560059],\n",
              "       [1099.349976],\n",
              "       [1122.329956],\n",
              "       [1140.98999 ],\n",
              "       [1142.170044],\n",
              "       [1131.319946],\n",
              "       [1118.180054],\n",
              "       [1118.599976],\n",
              "       [1131.069946],\n",
              "       [1141.119995],\n",
              "       [1143.849976],\n",
              "       [1148.859985],\n",
              "       [1143.650024],\n",
              "       [1158.5     ],\n",
              "       [1175.310059],\n",
              "       [1174.849976],\n",
              "       [1159.140015],\n",
              "       [1143.599976],\n",
              "       [1128.      ],\n",
              "       [1121.339966],\n",
              "       [1102.089966],\n",
              "       [1120.      ]])"
            ]
          },
          "metadata": {},
          "execution_count": 29
        }
      ],
      "source": [
        "real_stock_price"
      ]
    },
    {
      "cell_type": "code",
      "source": [
        "dataset_total = pd.concat((df['Open'],dataset_test['Open']),axis=0)\n"
      ],
      "metadata": {
        "id": "V-hBYN_lsSPf"
      },
      "id": "V-hBYN_lsSPf",
      "execution_count": null,
      "outputs": []
    },
    {
      "cell_type": "code",
      "source": [
        "inputs = dataset_total[len(dataset_total) - len(dataset_test) - 60 : ].values"
      ],
      "metadata": {
        "id": "xEYFx2T9sUHN"
      },
      "id": "xEYFx2T9sUHN",
      "execution_count": null,
      "outputs": []
    },
    {
      "cell_type": "code",
      "source": [
        "inputs "
      ],
      "metadata": {
        "colab": {
          "base_uri": "https://localhost:8080/"
        },
        "id": "avhBRsChseBl",
        "outputId": "12286284-7c71-4588-eb66-df2ad03189d3"
      },
      "id": "avhBRsChseBl",
      "execution_count": null,
      "outputs": [
        {
          "output_type": "execute_result",
          "data": {
            "text/plain": [
              "array([ 955.48999 ,  966.700012,  980.      ,  980.      ,  973.719971,\n",
              "        987.450012,  992.      ,  992.099976,  990.289978,  991.77002 ,\n",
              "        986.      ,  989.440002,  989.52002 ,  970.      ,  968.369995,\n",
              "        980.      , 1009.190002, 1014.      , 1015.219971, 1017.210022,\n",
              "       1021.76001 , 1022.109985, 1028.98999 , 1027.27002 , 1030.52002 ,\n",
              "       1033.98999 , 1026.459961, 1023.419983, 1022.590027, 1019.210022,\n",
              "       1022.52002 , 1034.01001 , 1020.26001 , 1023.309998, 1035.      ,\n",
              "       1035.869995, 1040.      , 1055.089966, 1042.680054, 1022.369995,\n",
              "       1015.799988, 1012.659973,  995.940002, 1001.5     , 1020.429993,\n",
              "       1037.48999 , 1035.5     , 1039.630005, 1046.119995, 1045.      ,\n",
              "       1054.609985, 1066.079956, 1075.199951, 1071.780029, 1064.949951,\n",
              "       1061.109985, 1058.069946, 1057.390015, 1051.599976, 1046.719971,\n",
              "       1048.339966, 1064.310059, 1088.      , 1094.      , 1102.22998 ,\n",
              "       1109.400024, 1097.099976, 1106.300049, 1102.410034, 1132.51001 ,\n",
              "       1126.219971, 1131.410034, 1131.829956, 1137.48999 , 1159.849976,\n",
              "       1177.329956, 1172.530029, 1175.079956, 1176.47998 , 1167.829956,\n",
              "       1170.569946, 1162.609985, 1122.      , 1090.599976, 1027.180054,\n",
              "       1081.540039, 1055.410034, 1017.25    , 1048.      , 1045.      ,\n",
              "       1048.949951, 1079.069946, 1088.410034, 1090.569946, 1106.469971,\n",
              "       1116.189941, 1112.640015, 1127.800049, 1141.23999 , 1123.030029,\n",
              "       1107.869995, 1053.079956, 1075.140015, 1099.219971, 1089.189941,\n",
              "       1115.319946, 1136.      , 1163.849976, 1170.      , 1145.209961,\n",
              "       1149.959961, 1154.140015, 1120.01001 , 1099.      , 1092.73999 ,\n",
              "       1081.880005, 1047.030029, 1046.      , 1063.      ,  998.      ,\n",
              "       1011.630005, 1022.820007, 1013.909973,  993.409973, 1041.329956,\n",
              "       1020.      , 1016.799988, 1026.439941, 1027.98999 , 1025.040039,\n",
              "       1040.880005, 1037.      , 1051.369995, 1077.430054, 1069.400024,\n",
              "       1082.      , 1077.859985, 1052.      , 1025.52002 , 1029.51001 ,\n",
              "       1046.      , 1030.01001 , 1013.659973, 1028.099976, 1019.      ,\n",
              "       1016.900024, 1049.22998 , 1058.540039, 1058.099976, 1086.030029,\n",
              "       1093.599976, 1100.      , 1090.      , 1077.310059, 1079.890015,\n",
              "       1061.859985, 1074.060059, 1083.560059, 1065.130005, 1079.      ,\n",
              "       1079.02002 , 1064.890015, 1063.030029, 1067.560059, 1099.349976,\n",
              "       1122.329956, 1140.98999 , 1142.170044, 1131.319946, 1118.180054,\n",
              "       1118.599976, 1131.069946, 1141.119995, 1143.849976, 1148.859985,\n",
              "       1143.650024, 1158.5     , 1175.310059, 1174.849976, 1159.140015,\n",
              "       1143.599976, 1128.      , 1121.339966, 1102.089966, 1120.      ])"
            ]
          },
          "metadata": {},
          "execution_count": 33
        }
      ]
    },
    {
      "cell_type": "code",
      "source": [
        "inputs = inputs.reshape(-1,1)\n"
      ],
      "metadata": {
        "id": "123SBIRssd5I"
      },
      "id": "123SBIRssd5I",
      "execution_count": null,
      "outputs": []
    },
    {
      "cell_type": "code",
      "source": [
        "inputs"
      ],
      "metadata": {
        "colab": {
          "base_uri": "https://localhost:8080/"
        },
        "id": "18J4SeonslFo",
        "outputId": "8e4b91ce-026e-4952-94e8-764aadaeae7a"
      },
      "id": "18J4SeonslFo",
      "execution_count": null,
      "outputs": [
        {
          "output_type": "execute_result",
          "data": {
            "text/plain": [
              "array([[ 955.48999 ],\n",
              "       [ 966.700012],\n",
              "       [ 980.      ],\n",
              "       [ 980.      ],\n",
              "       [ 973.719971],\n",
              "       [ 987.450012],\n",
              "       [ 992.      ],\n",
              "       [ 992.099976],\n",
              "       [ 990.289978],\n",
              "       [ 991.77002 ],\n",
              "       [ 986.      ],\n",
              "       [ 989.440002],\n",
              "       [ 989.52002 ],\n",
              "       [ 970.      ],\n",
              "       [ 968.369995],\n",
              "       [ 980.      ],\n",
              "       [1009.190002],\n",
              "       [1014.      ],\n",
              "       [1015.219971],\n",
              "       [1017.210022],\n",
              "       [1021.76001 ],\n",
              "       [1022.109985],\n",
              "       [1028.98999 ],\n",
              "       [1027.27002 ],\n",
              "       [1030.52002 ],\n",
              "       [1033.98999 ],\n",
              "       [1026.459961],\n",
              "       [1023.419983],\n",
              "       [1022.590027],\n",
              "       [1019.210022],\n",
              "       [1022.52002 ],\n",
              "       [1034.01001 ],\n",
              "       [1020.26001 ],\n",
              "       [1023.309998],\n",
              "       [1035.      ],\n",
              "       [1035.869995],\n",
              "       [1040.      ],\n",
              "       [1055.089966],\n",
              "       [1042.680054],\n",
              "       [1022.369995],\n",
              "       [1015.799988],\n",
              "       [1012.659973],\n",
              "       [ 995.940002],\n",
              "       [1001.5     ],\n",
              "       [1020.429993],\n",
              "       [1037.48999 ],\n",
              "       [1035.5     ],\n",
              "       [1039.630005],\n",
              "       [1046.119995],\n",
              "       [1045.      ],\n",
              "       [1054.609985],\n",
              "       [1066.079956],\n",
              "       [1075.199951],\n",
              "       [1071.780029],\n",
              "       [1064.949951],\n",
              "       [1061.109985],\n",
              "       [1058.069946],\n",
              "       [1057.390015],\n",
              "       [1051.599976],\n",
              "       [1046.719971],\n",
              "       [1048.339966],\n",
              "       [1064.310059],\n",
              "       [1088.      ],\n",
              "       [1094.      ],\n",
              "       [1102.22998 ],\n",
              "       [1109.400024],\n",
              "       [1097.099976],\n",
              "       [1106.300049],\n",
              "       [1102.410034],\n",
              "       [1132.51001 ],\n",
              "       [1126.219971],\n",
              "       [1131.410034],\n",
              "       [1131.829956],\n",
              "       [1137.48999 ],\n",
              "       [1159.849976],\n",
              "       [1177.329956],\n",
              "       [1172.530029],\n",
              "       [1175.079956],\n",
              "       [1176.47998 ],\n",
              "       [1167.829956],\n",
              "       [1170.569946],\n",
              "       [1162.609985],\n",
              "       [1122.      ],\n",
              "       [1090.599976],\n",
              "       [1027.180054],\n",
              "       [1081.540039],\n",
              "       [1055.410034],\n",
              "       [1017.25    ],\n",
              "       [1048.      ],\n",
              "       [1045.      ],\n",
              "       [1048.949951],\n",
              "       [1079.069946],\n",
              "       [1088.410034],\n",
              "       [1090.569946],\n",
              "       [1106.469971],\n",
              "       [1116.189941],\n",
              "       [1112.640015],\n",
              "       [1127.800049],\n",
              "       [1141.23999 ],\n",
              "       [1123.030029],\n",
              "       [1107.869995],\n",
              "       [1053.079956],\n",
              "       [1075.140015],\n",
              "       [1099.219971],\n",
              "       [1089.189941],\n",
              "       [1115.319946],\n",
              "       [1136.      ],\n",
              "       [1163.849976],\n",
              "       [1170.      ],\n",
              "       [1145.209961],\n",
              "       [1149.959961],\n",
              "       [1154.140015],\n",
              "       [1120.01001 ],\n",
              "       [1099.      ],\n",
              "       [1092.73999 ],\n",
              "       [1081.880005],\n",
              "       [1047.030029],\n",
              "       [1046.      ],\n",
              "       [1063.      ],\n",
              "       [ 998.      ],\n",
              "       [1011.630005],\n",
              "       [1022.820007],\n",
              "       [1013.909973],\n",
              "       [ 993.409973],\n",
              "       [1041.329956],\n",
              "       [1020.      ],\n",
              "       [1016.799988],\n",
              "       [1026.439941],\n",
              "       [1027.98999 ],\n",
              "       [1025.040039],\n",
              "       [1040.880005],\n",
              "       [1037.      ],\n",
              "       [1051.369995],\n",
              "       [1077.430054],\n",
              "       [1069.400024],\n",
              "       [1082.      ],\n",
              "       [1077.859985],\n",
              "       [1052.      ],\n",
              "       [1025.52002 ],\n",
              "       [1029.51001 ],\n",
              "       [1046.      ],\n",
              "       [1030.01001 ],\n",
              "       [1013.659973],\n",
              "       [1028.099976],\n",
              "       [1019.      ],\n",
              "       [1016.900024],\n",
              "       [1049.22998 ],\n",
              "       [1058.540039],\n",
              "       [1058.099976],\n",
              "       [1086.030029],\n",
              "       [1093.599976],\n",
              "       [1100.      ],\n",
              "       [1090.      ],\n",
              "       [1077.310059],\n",
              "       [1079.890015],\n",
              "       [1061.859985],\n",
              "       [1074.060059],\n",
              "       [1083.560059],\n",
              "       [1065.130005],\n",
              "       [1079.      ],\n",
              "       [1079.02002 ],\n",
              "       [1064.890015],\n",
              "       [1063.030029],\n",
              "       [1067.560059],\n",
              "       [1099.349976],\n",
              "       [1122.329956],\n",
              "       [1140.98999 ],\n",
              "       [1142.170044],\n",
              "       [1131.319946],\n",
              "       [1118.180054],\n",
              "       [1118.599976],\n",
              "       [1131.069946],\n",
              "       [1141.119995],\n",
              "       [1143.849976],\n",
              "       [1148.859985],\n",
              "       [1143.650024],\n",
              "       [1158.5     ],\n",
              "       [1175.310059],\n",
              "       [1174.849976],\n",
              "       [1159.140015],\n",
              "       [1143.599976],\n",
              "       [1128.      ],\n",
              "       [1121.339966],\n",
              "       [1102.089966],\n",
              "       [1120.      ]])"
            ]
          },
          "metadata": {},
          "execution_count": 35
        }
      ]
    },
    {
      "cell_type": "code",
      "source": [
        "inputs = sc.transform(inputs)\n",
        "inputs.shape"
      ],
      "metadata": {
        "colab": {
          "base_uri": "https://localhost:8080/"
        },
        "id": "23_XY_8UslDN",
        "outputId": "424b012d-e13c-4593-acf1-ceec611aa9f0"
      },
      "id": "23_XY_8UslDN",
      "execution_count": null,
      "outputs": [
        {
          "output_type": "execute_result",
          "data": {
            "text/plain": [
              "(185, 1)"
            ]
          },
          "metadata": {},
          "execution_count": 36
        }
      ]
    },
    {
      "cell_type": "code",
      "source": [
        "x_test = []\n",
        "for i in range(60,185):\n",
        "    x_test.append(inputs[i-60:i,0])\n",
        "x_test = np.array(x_test)\n",
        "x_test.shape"
      ],
      "metadata": {
        "colab": {
          "base_uri": "https://localhost:8080/"
        },
        "id": "1BSkKq1MsyG1",
        "outputId": "cd8edd28-a84e-469d-c939-d361d7f317d7"
      },
      "id": "1BSkKq1MsyG1",
      "execution_count": null,
      "outputs": [
        {
          "output_type": "execute_result",
          "data": {
            "text/plain": [
              "(125, 60)"
            ]
          },
          "metadata": {},
          "execution_count": 37
        }
      ]
    },
    {
      "cell_type": "code",
      "source": [
        "x_test = np.reshape(x_test,(x_test.shape[0], x_test.shape[1],1))\n",
        "x_test.shape"
      ],
      "metadata": {
        "colab": {
          "base_uri": "https://localhost:8080/"
        },
        "id": "GGUXOPkLsdwd",
        "outputId": "b3dc1abf-eff1-4de6-8f9e-f42d3af4a8e9"
      },
      "id": "GGUXOPkLsdwd",
      "execution_count": null,
      "outputs": [
        {
          "output_type": "execute_result",
          "data": {
            "text/plain": [
              "(125, 60, 1)"
            ]
          },
          "metadata": {},
          "execution_count": 38
        }
      ]
    },
    {
      "cell_type": "code",
      "source": [
        "predicted_stock_price = model_reg.predict(x_test)\n",
        "predicted_stock_price=sc.inverse_transform(predicted_stock_price)\n",
        "predicted_stock_price"
      ],
      "metadata": {
        "colab": {
          "base_uri": "https://localhost:8080/"
        },
        "id": "VP9vHvGKtElF",
        "outputId": "57b77bce-2b27-4dd2-db03-30bdef6afcb3"
      },
      "id": "VP9vHvGKtElF",
      "execution_count": null,
      "outputs": [
        {
          "output_type": "execute_result",
          "data": {
            "text/plain": [
              "array([[1025.0067 ],\n",
              "       [1023.23206],\n",
              "       [1024.9502 ],\n",
              "       [1032.4767 ],\n",
              "       [1042.7831 ],\n",
              "       [1052.8564 ],\n",
              "       [1061.1045 ],\n",
              "       [1064.3494 ],\n",
              "       [1065.2913 ],\n",
              "       [1064.8497 ],\n",
              "       [1068.9211 ],\n",
              "       [1074.6057 ],\n",
              "       [1080.2291 ],\n",
              "       [1084.4478 ],\n",
              "       [1087.8542 ],\n",
              "       [1093.9674 ],\n",
              "       [1103.6422 ],\n",
              "       [1112.268  ],\n",
              "       [1118.0894 ],\n",
              "       [1121.271  ],\n",
              "       [1121.2407 ],\n",
              "       [1120.194  ],\n",
              "       [1118.15   ],\n",
              "       [1109.7875 ],\n",
              "       [1094.5292 ],\n",
              "       [1069.4333 ],\n",
              "       [1052.1162 ],\n",
              "       [1042.0658 ],\n",
              "       [1031.8567 ],\n",
              "       [1026.4551 ],\n",
              "       [1025.1329 ],\n",
              "       [1026.3438 ],\n",
              "       [1032.5964 ],\n",
              "       [1041.7769 ],\n",
              "       [1049.9685 ],\n",
              "       [1057.3186 ],\n",
              "       [1064.0503 ],\n",
              "       [1068.3746 ],\n",
              "       [1072.6471 ],\n",
              "       [1078.6641 ],\n",
              "       [1081.7578 ],\n",
              "       [1079.6486 ],\n",
              "       [1066.6736 ],\n",
              "       [1053.5718 ],\n",
              "       [1049.21   ],\n",
              "       [1050.7319 ],\n",
              "       [1058.4904 ],\n",
              "       [1071.0769 ],\n",
              "       [1087.427  ],\n",
              "       [1102.5277 ],\n",
              "       [1108.4503 ],\n",
              "       [1108.0079 ],\n",
              "       [1105.7924 ],\n",
              "       [1098.6981 ],\n",
              "       [1087.107  ],\n",
              "       [1075.0343 ],\n",
              "       [1064.548  ],\n",
              "       [1052.2493 ],\n",
              "       [1040.7614 ],\n",
              "       [1035.1913 ],\n",
              "       [1024.9156 ],\n",
              "       [1013.80316],\n",
              "       [1006.80585],\n",
              "       [1002.9285 ],\n",
              "       [ 997.7694 ],\n",
              "       [ 998.96576],\n",
              "       [1001.5254 ],\n",
              "       [1002.3026 ],\n",
              "       [1002.5439 ],\n",
              "       [1002.83734],\n",
              "       [1002.6378 ],\n",
              "       [1004.46466],\n",
              "       [1006.89825],\n",
              "       [1011.06555],\n",
              "       [1019.66925],\n",
              "       [1028.0874 ],\n",
              "       [1035.6741 ],\n",
              "       [1040.5226 ],\n",
              "       [1038.6188 ],\n",
              "       [1028.9298 ],\n",
              "       [1017.7634 ],\n",
              "       [1012.10547],\n",
              "       [1009.68286],\n",
              "       [1006.4442 ],\n",
              "       [1004.7833 ],\n",
              "       [1003.46094],\n",
              "       [1001.9166 ],\n",
              "       [1005.3471 ],\n",
              "       [1013.2147 ],\n",
              "       [1021.34827],\n",
              "       [1031.2755 ],\n",
              "       [1041.4574 ],\n",
              "       [1050.2152 ],\n",
              "       [1054.4152 ],\n",
              "       [1052.8936 ],\n",
              "       [1049.1539 ],\n",
              "       [1043.1343 ],\n",
              "       [1039.3022 ],\n",
              "       [1039.9976 ],\n",
              "       [1040.5974 ],\n",
              "       [1042.3295 ],\n",
              "       [1044.6052 ],\n",
              "       [1044.3577 ],\n",
              "       [1041.942  ],\n",
              "       [1039.6847 ],\n",
              "       [1043.455  ],\n",
              "       [1054.3658 ],\n",
              "       [1069.6146 ],\n",
              "       [1083.092  ],\n",
              "       [1089.7135 ],\n",
              "       [1088.5629 ],\n",
              "       [1083.8959 ],\n",
              "       [1081.4368 ],\n",
              "       [1083.4968 ],\n",
              "       [1088.3912 ],\n",
              "       [1094.2192 ],\n",
              "       [1098.1288 ],\n",
              "       [1102.224  ],\n",
              "       [1108.679  ],\n",
              "       [1115.1731 ],\n",
              "       [1117.2725 ],\n",
              "       [1113.5986 ],\n",
              "       [1105.344  ],\n",
              "       [1095.941  ],\n",
              "       [1085.7192 ]], dtype=float32)"
            ]
          },
          "metadata": {},
          "execution_count": 39
        }
      ]
    },
    {
      "cell_type": "code",
      "execution_count": null,
      "id": "87fbbdae",
      "metadata": {
        "id": "87fbbdae",
        "outputId": "2f656803-7c16-4d1b-b9d0-949fc13ae785",
        "colab": {
          "base_uri": "https://localhost:8080/"
        }
      },
      "outputs": [
        {
          "output_type": "execute_result",
          "data": {
            "text/plain": [
              "1384"
            ]
          },
          "metadata": {},
          "execution_count": 40
        }
      ],
      "source": [
        "len(dataset_total)"
      ]
    },
    {
      "cell_type": "markdown",
      "id": "70406d4a",
      "metadata": {
        "id": "70406d4a"
      },
      "source": [
        "# Visualization"
      ]
    },
    {
      "cell_type": "code",
      "execution_count": null,
      "id": "cdec55f7",
      "metadata": {
        "id": "cdec55f7",
        "outputId": "6ae06950-57e2-42fd-d298-8fb751a1fba1",
        "colab": {
          "base_uri": "https://localhost:8080/",
          "height": 295
        }
      },
      "outputs": [
        {
          "output_type": "display_data",
          "data": {
            "text/plain": [
              "<Figure size 432x288 with 1 Axes>"
            ],
            "image/png": "[encoded data removed]"
          },
          "metadata": {
            "needs_background": "light"
          }
        }
      ],
      "source": [
        "plt.plot(real_stock_price, color = 'red',label = 'Real Stock Price ')\n",
        "plt.plot(predicted_stock_price,color='blue', label ='Predicted Stock Price ')\n",
        "plt.title('Google Stock Price')\n",
        "plt.xlabel('Time')\n",
        "plt.ylabel('Stock Open Price')\n",
        "plt.legend()\n",
        "plt.show()"
      ]
    }
  ],
  "metadata": {
    "kernelspec": {
      "display_name": "Python 3 (ipykernel)",
      "language": "python",
      "name": "python3"
    },
    "language_info": {
      "codemirror_mode": {
        "name": "ipython",
        "version": 3
      },
      "file_extension": ".py",
      "mimetype": "text/x-python",
      "name": "python",
      "nbconvert_exporter": "python",
      "pygments_lexer": "ipython3",
      "version": "3.9.12"
    },
    "colab": {
      "name": "Stock Price Prediction.ipynb",
      "provenance": []
    }
  },
  "nbformat": 4,
  "nbformat_minor": 5
}