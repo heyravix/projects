{
  "cells": [
    {
      "cell_type": "code",
      "execution_count": 1,
      "id": "96318979",
      "metadata": {
        "id": "96318979"
      },
      "outputs": [],
      "source": [
        "# importing libraries \n",
        "import pandas as pd\n",
        "import numpy as np\n",
        "import matplotlib.pyplot as plt\n",
        "import seaborn as sns"
      ]
    },
    {
      "cell_type": "code",
      "execution_count": 2,
      "id": "80187894",
      "metadata": {
        "id": "80187894"
      },
      "outputs": [],
      "source": [
        "# loading dataset \n",
        "df = pd.read_csv('train.csv')"
      ]
    },
    {
      "cell_type": "code",
      "execution_count": 3,
      "id": "5dfe9f45",
      "metadata": {
        "id": "5dfe9f45",
        "outputId": "2a26f526-5f06-4615-b3fc-fb9dcb6cefac",
        "colab": {
          "base_uri": "https://localhost:8080/",
          "height": 299
        }
      },
      "outputs": [
        {
          "output_type": "execute_result",
          "data": {
            "text/plain": [
              "   label  pixel0  pixel1  pixel2  pixel3  pixel4  pixel5  pixel6  pixel7  \\\n",
              "0      1       0       0       0       0       0       0       0       0   \n",
              "1      0       0       0       0       0       0       0       0       0   \n",
              "2      1       0       0       0       0       0       0       0       0   \n",
              "3      4       0       0       0       0       0       0       0       0   \n",
              "4      0       0       0       0       0       0       0       0       0   \n",
              "\n",
              "   pixel8  ...  pixel774  pixel775  pixel776  pixel777  pixel778  pixel779  \\\n",
              "0       0  ...         0         0         0         0         0         0   \n",
              "1       0  ...         0         0         0         0         0         0   \n",
              "2       0  ...         0         0         0         0         0         0   \n",
              "3       0  ...         0         0         0         0         0         0   \n",
              "4       0  ...         0         0         0         0         0         0   \n",
              "\n",
              "   pixel780  pixel781  pixel782  pixel783  \n",
              "0         0         0         0         0  \n",
              "1         0         0         0         0  \n",
              "2         0         0         0         0  \n",
              "3         0         0         0         0  \n",
              "4         0         0         0         0  \n",
              "\n",
              "[5 rows x 785 columns]"
            ],
            "text/html": [
              "\n",
              "  <div id=\"df-d8b5fb3c-8b52-45e2-8b37-797fbdf92a43\">\n",
              "    <div class=\"colab-df-container\">\n",
              "      <div>\n",
              "<style scoped>\n",
              "    .dataframe tbody tr th:only-of-type {\n",
              "        vertical-align: middle;\n",
              "    }\n",
              "\n",
              "    .dataframe tbody tr th {\n",
              "        vertical-align: top;\n",
              "    }\n",
              "\n",
              "    .dataframe thead th {\n",
              "        text-align: right;\n",
              "    }\n",
              "</style>\n",
              "<table border=\"1\" class=\"dataframe\">\n",
              "  <thead>\n",
              "    <tr style=\"text-align: right;\">\n",
              "      <th></th>\n",
              "      <th>label</th>\n",
              "      <th>pixel0</th>\n",
              "      <th>pixel1</th>\n",
              "      <th>pixel2</th>\n",
              "      <th>pixel3</th>\n",
              "      <th>pixel4</th>\n",
              "      <th>pixel5</th>\n",
              "      <th>pixel6</th>\n",
              "      <th>pixel7</th>\n",
              "      <th>pixel8</th>\n",
              "      <th>...</th>\n",
              "      <th>pixel774</th>\n",
              "      <th>pixel775</th>\n",
              "      <th>pixel776</th>\n",
              "      <th>pixel777</th>\n",
              "      <th>pixel778</th>\n",
              "      <th>pixel779</th>\n",
              "      <th>pixel780</th>\n",
              "      <th>pixel781</th>\n",
              "      <th>pixel782</th>\n",
              "      <th>pixel783</th>\n",
              "    </tr>\n",
              "  </thead>\n",
              "  <tbody>\n",
              "    <tr>\n",
              "      <th>0</th>\n",
              "      <td>1</td>\n",
              "      <td>0</td>\n",
              "      <td>0</td>\n",
              "      <td>0</td>\n",
              "      <td>0</td>\n",
              "      <td>0</td>\n",
              "      <td>0</td>\n",
              "      <td>0</td>\n",
              "      <td>0</td>\n",
              "      <td>0</td>\n",
              "      <td>...</td>\n",
              "      <td>0</td>\n",
              "      <td>0</td>\n",
              "      <td>0</td>\n",
              "      <td>0</td>\n",
              "      <td>0</td>\n",
              "      <td>0</td>\n",
              "      <td>0</td>\n",
              "      <td>0</td>\n",
              "      <td>0</td>\n",
              "      <td>0</td>\n",
              "    </tr>\n",
              "    <tr>\n",
              "      <th>1</th>\n",
              "      <td>0</td>\n",
              "      <td>0</td>\n",
              "      <td>0</td>\n",
              "      <td>0</td>\n",
              "      <td>0</td>\n",
              "      <td>0</td>\n",
              "      <td>0</td>\n",
              "      <td>0</td>\n",
              "      <td>0</td>\n",
              "      <td>0</td>\n",
              "      <td>...</td>\n",
              "      <td>0</td>\n",
              "      <td>0</td>\n",
              "      <td>0</td>\n",
              "      <td>0</td>\n",
              "      <td>0</td>\n",
              "      <td>0</td>\n",
              "      <td>0</td>\n",
              "      <td>0</td>\n",
              "      <td>0</td>\n",
              "      <td>0</td>\n",
              "    </tr>\n",
              "    <tr>\n",
              "      <th>2</th>\n",
              "      <td>1</td>\n",
              "      <td>0</td>\n",
              "      <td>0</td>\n",
              "      <td>0</td>\n",
              "      <td>0</td>\n",
              "      <td>0</td>\n",
              "      <td>0</td>\n",
              "      <td>0</td>\n",
              "      <td>0</td>\n",
              "      <td>0</td>\n",
              "      <td>...</td>\n",
              "      <td>0</td>\n",
              "      <td>0</td>\n",
              "      <td>0</td>\n",
              "      <td>0</td>\n",
              "      <td>0</td>\n",
              "      <td>0</td>\n",
              "      <td>0</td>\n",
              "      <td>0</td>\n",
              "      <td>0</td>\n",
              "      <td>0</td>\n",
              "    </tr>\n",
              "    <tr>\n",
              "      <th>3</th>\n",
              "      <td>4</td>\n",
              "      <td>0</td>\n",
              "      <td>0</td>\n",
              "      <td>0</td>\n",
              "      <td>0</td>\n",
              "      <td>0</td>\n",
              "      <td>0</td>\n",
              "      <td>0</td>\n",
              "      <td>0</td>\n",
              "      <td>0</td>\n",
              "      <td>...</td>\n",
              "      <td>0</td>\n",
              "      <td>0</td>\n",
              "      <td>0</td>\n",
              "      <td>0</td>\n",
              "      <td>0</td>\n",
              "      <td>0</td>\n",
              "      <td>0</td>\n",
              "      <td>0</td>\n",
              "      <td>0</td>\n",
              "      <td>0</td>\n",
              "    </tr>\n",
              "    <tr>\n",
              "      <th>4</th>\n",
              "      <td>0</td>\n",
              "      <td>0</td>\n",
              "      <td>0</td>\n",
              "      <td>0</td>\n",
              "      <td>0</td>\n",
              "      <td>0</td>\n",
              "      <td>0</td>\n",
              "      <td>0</td>\n",
              "      <td>0</td>\n",
              "      <td>0</td>\n",
              "      <td>...</td>\n",
              "      <td>0</td>\n",
              "      <td>0</td>\n",
              "      <td>0</td>\n",
              "      <td>0</td>\n",
              "      <td>0</td>\n",
              "      <td>0</td>\n",
              "      <td>0</td>\n",
              "      <td>0</td>\n",
              "      <td>0</td>\n",
              "      <td>0</td>\n",
              "    </tr>\n",
              "  </tbody>\n",
              "</table>\n",
              "<p>5 rows × 785 columns</p>\n",
              "</div>\n",
              "      <button class=\"colab-df-convert\" onclick=\"convertToInteractive('df-d8b5fb3c-8b52-45e2-8b37-797fbdf92a43')\"\n",
              "              title=\"Convert this dataframe to an interactive table.\"\n",
              "              style=\"display:none;\">\n",
              "        \n",
              "  <svg xmlns=\"http://www.w3.org/2000/svg\" height=\"24px\"viewBox=\"0 0 24 24\"\n",
              "       width=\"24px\">\n",
              "    <path d=\"M0 0h24v24H0V0z\" fill=\"none\"/>\n",
              "    <path d=\"M18.56 5.44l.94 2.06.94-2.06 2.06-.94-2.06-.94-.94-2.06-.94 2.06-2.06.94zm-11 1L8.5 8.5l.94-2.06 2.06-.94-2.06-.94L8.5 2.5l-.94 2.06-2.06.94zm10 10l.94 2.06.94-2.06 2.06-.94-2.06-.94-.94-2.06-.94 2.06-2.06.94z\"/><path d=\"M17.41 7.96l-1.37-1.37c-.4-.4-.92-.59-1.43-.59-.52 0-1.04.2-1.43.59L10.3 9.45l-7.72 7.72c-.78.78-.78 2.05 0 2.83L4 21.41c.39.39.9.59 1.41.59.51 0 1.02-.2 1.41-.59l7.78-7.78 2.81-2.81c.8-.78.8-2.07 0-2.86zM5.41 20L4 18.59l7.72-7.72 1.47 1.35L5.41 20z\"/>\n",
              "  </svg>\n",
              "      </button>\n",
              "      \n",
              "  <style>\n",
              "    .colab-df-container {\n",
              "      display:flex;\n",
              "      flex-wrap:wrap;\n",
              "      gap: 12px;\n",
              "    }\n",
              "\n",
              "    .colab-df-convert {\n",
              "      background-color: #E8F0FE;\n",
              "      border: none;\n",
              "      border-radius: 50%;\n",
              "      cursor: pointer;\n",
              "      display: none;\n",
              "      fill: #1967D2;\n",
              "      height: 32px;\n",
              "      padding: 0 0 0 0;\n",
              "      width: 32px;\n",
              "    }\n",
              "\n",
              "    .colab-df-convert:hover {\n",
              "      background-color: #E2EBFA;\n",
              "      box-shadow: 0px 1px 2px rgba(60, 64, 67, 0.3), 0px 1px 3px 1px rgba(60, 64, 67, 0.15);\n",
              "      fill: #174EA6;\n",
              "    }\n",
              "\n",
              "    [theme=dark] .colab-df-convert {\n",
              "      background-color: #3B4455;\n",
              "      fill: #D2E3FC;\n",
              "    }\n",
              "\n",
              "    [theme=dark] .colab-df-convert:hover {\n",
              "      background-color: #434B5C;\n",
              "      box-shadow: 0px 1px 3px 1px rgba(0, 0, 0, 0.15);\n",
              "      filter: drop-shadow(0px 1px 2px rgba(0, 0, 0, 0.3));\n",
              "      fill: #FFFFFF;\n",
              "    }\n",
              "  </style>\n",
              "\n",
              "      <script>\n",
              "        const buttonEl =\n",
              "          document.querySelector('#df-d8b5fb3c-8b52-45e2-8b37-797fbdf92a43 button.colab-df-convert');\n",
              "        buttonEl.style.display =\n",
              "          google.colab.kernel.accessAllowed ? 'block' : 'none';\n",
              "\n",
              "        async function convertToInteractive(key) {\n",
              "          const element = document.querySelector('#df-d8b5fb3c-8b52-45e2-8b37-797fbdf92a43');\n",
              "          const dataTable =\n",
              "            await google.colab.kernel.invokeFunction('convertToInteractive',\n",
              "                                                     [key], {});\n",
              "          if (!dataTable) return;\n",
              "\n",
              "          const docLinkHtml = 'Like what you see? Visit the ' +\n",
              "            '<a target=\"_blank\" href=https://colab.research.google.com/notebooks/data_table.ipynb>data table notebook</a>'\n",
              "            + ' to learn more about interactive tables.';\n",
              "          element.innerHTML = '';\n",
              "          dataTable['output_type'] = 'display_data';\n",
              "          await google.colab.output.renderOutput(dataTable, element);\n",
              "          const docLink = document.createElement('div');\n",
              "          docLink.innerHTML = docLinkHtml;\n",
              "          element.appendChild(docLink);\n",
              "        }\n",
              "      </script>\n",
              "    </div>\n",
              "  </div>\n",
              "  "
            ]
          },
          "metadata": {},
          "execution_count": 3
        }
      ],
      "source": [
        "df.head()"
      ]
    },
    {
      "cell_type": "code",
      "execution_count": 4,
      "id": "61c76f64",
      "metadata": {
        "id": "61c76f64",
        "outputId": "70bf11b9-6777-4ce0-98af-811d7a09ba3a",
        "colab": {
          "base_uri": "https://localhost:8080/"
        }
      },
      "outputs": [
        {
          "output_type": "execute_result",
          "data": {
            "text/plain": [
              "(42000, 785)"
            ]
          },
          "metadata": {},
          "execution_count": 4
        }
      ],
      "source": [
        "df.shape"
      ]
    },
    {
      "cell_type": "code",
      "execution_count": 5,
      "id": "d1b6ee27",
      "metadata": {
        "id": "d1b6ee27",
        "outputId": "e36b1570-2ba3-424a-fea2-a54fd105a21d",
        "colab": {
          "base_uri": "https://localhost:8080/",
          "height": 297
        }
      },
      "outputs": [
        {
          "output_type": "execute_result",
          "data": {
            "text/plain": [
              "<matplotlib.axes._subplots.AxesSubplot at 0x7fb8528bc7d0>"
            ]
          },
          "metadata": {},
          "execution_count": 5
        },
        {
          "output_type": "display_data",
          "data": {
            "text/plain": [
              "<Figure size 432x288 with 1 Axes>"
            ],
            "image/png": "[encoded data removed]"
          },
          "metadata": {
            "needs_background": "light"
          }
        }
      ],
      "source": [
        "sns.countplot(data=df,x='label')"
      ]
    },
    {
      "cell_type": "code",
      "execution_count": 6,
      "id": "afda0a14",
      "metadata": {
        "id": "afda0a14",
        "outputId": "37ead087-e0a4-4c96-ecdb-97985f7e124c",
        "colab": {
          "base_uri": "https://localhost:8080/"
        }
      },
      "outputs": [
        {
          "output_type": "execute_result",
          "data": {
            "text/plain": [
              "label       0\n",
              "pixel0      0\n",
              "pixel1      0\n",
              "pixel2      0\n",
              "pixel3      0\n",
              "           ..\n",
              "pixel779    0\n",
              "pixel780    0\n",
              "pixel781    0\n",
              "pixel782    0\n",
              "pixel783    0\n",
              "Length: 785, dtype: int64"
            ]
          },
          "metadata": {},
          "execution_count": 6
        }
      ],
      "source": [
        "df.isnull().sum()"
      ]
    },
    {
      "cell_type": "code",
      "execution_count": 7,
      "id": "84189418",
      "metadata": {
        "id": "84189418"
      },
      "outputs": [],
      "source": [
        "x = df.iloc[:,1:].values\n",
        "y = df.iloc[:,0].values"
      ]
    },
    {
      "cell_type": "code",
      "execution_count": 8,
      "id": "35790d60",
      "metadata": {
        "id": "35790d60",
        "outputId": "33796d6a-4f2d-4661-b54d-d197ae8cb422",
        "colab": {
          "base_uri": "https://localhost:8080/",
          "height": 283
        }
      },
      "outputs": [
        {
          "output_type": "execute_result",
          "data": {
            "text/plain": [
              "<matplotlib.image.AxesImage at 0x7fb8524b0b50>"
            ]
          },
          "metadata": {},
          "execution_count": 8
        },
        {
          "output_type": "display_data",
          "data": {
            "text/plain": [
              "<Figure size 432x288 with 1 Axes>"
            ],
            "image/png": "[encoded data removed]"
          },
          "metadata": {
            "needs_background": "light"
          }
        }
      ],
      "source": [
        " plt.imshow(x[1].reshape(28,28))"
      ]
    },
    {
      "cell_type": "code",
      "execution_count": 9,
      "id": "a45df962",
      "metadata": {
        "id": "a45df962",
        "outputId": "07ecb48d-022a-4bb3-f94a-a9ac88b7cef2",
        "colab": {
          "base_uri": "https://localhost:8080/",
          "height": 1000
        }
      },
      "outputs": [
        {
          "output_type": "stream",
          "name": "stdout",
          "text": [
            "the label of the image is  1\n"
          ]
        },
        {
          "output_type": "display_data",
          "data": {
            "text/plain": [
              "<Figure size 432x288 with 1 Axes>"
            ],
            "image/png": "[encoded data removed]"
          },
          "metadata": {
            "needs_background": "light"
          }
        },
        {
          "output_type": "stream",
          "name": "stdout",
          "text": [
            "the label of the image is  0\n"
          ]
        },
        {
          "output_type": "display_data",
          "data": {
            "text/plain": [
              "<Figure size 432x288 with 1 Axes>"
            ],
            "image/png": "[encoded data removed]"
          },
          "metadata": {
            "needs_background": "light"
          }
        },
        {
          "output_type": "stream",
          "name": "stdout",
          "text": [
            "the label of the image is  1\n"
          ]
        },
        {
          "output_type": "display_data",
          "data": {
            "text/plain": [
              "<Figure size 432x288 with 1 Axes>"
            ],
            "image/png": "[encoded data removed]"
          },
          "metadata": {
            "needs_background": "light"
          }
        },
        {
          "output_type": "stream",
          "name": "stdout",
          "text": [
            "the label of the image is  4\n"
          ]
        },
        {
          "output_type": "display_data",
          "data": {
            "text/plain": [
              "<Figure size 432x288 with 1 Axes>"
            ],
            "image/png": "[encoded data removed]"
          },
          "metadata": {
            "needs_background": "light"
          }
        },
        {
          "output_type": "stream",
          "name": "stdout",
          "text": [
            "the label of the image is  0\n"
          ]
        },
        {
          "output_type": "display_data",
          "data": {
            "text/plain": [
              "<Figure size 432x288 with 1 Axes>"
            ],
            "image/png": "[encoded data removed]"
          },
          "metadata": {
            "needs_background": "light"
          }
        }
      ],
      "source": [
        "for i in range(5):\n",
        "    plt.imshow(x[i].reshape(28,28))\n",
        "    print('the label of the image is ',y[i])\n",
        "    plt.show()"
      ]
    },
    {
      "cell_type": "markdown",
      "id": "0d17663c",
      "metadata": {
        "id": "0d17663c"
      },
      "source": [
        "# Train Test Split"
      ]
    },
    {
      "cell_type": "code",
      "execution_count": 10,
      "id": "0fd6828f",
      "metadata": {
        "id": "0fd6828f"
      },
      "outputs": [],
      "source": [
        "from sklearn.model_selection import train_test_split"
      ]
    },
    {
      "cell_type": "code",
      "execution_count": 11,
      "id": "3f8346c5",
      "metadata": {
        "id": "3f8346c5"
      },
      "outputs": [],
      "source": [
        "xtrain,xtest,ytrain,ytest = train_test_split(x,y,test_size=0.2,random_state=42)"
      ]
    },
    {
      "cell_type": "code",
      "execution_count": 12,
      "id": "6f89c5df",
      "metadata": {
        "id": "6f89c5df",
        "outputId": "a8de1fbd-2fc3-4f4f-976e-890af9146a0f",
        "colab": {
          "base_uri": "https://localhost:8080/"
        }
      },
      "outputs": [
        {
          "output_type": "execute_result",
          "data": {
            "text/plain": [
              "((33600, 784), (33600,))"
            ]
          },
          "metadata": {},
          "execution_count": 12
        }
      ],
      "source": [
        "xtrain.shape,ytrain.shape"
      ]
    },
    {
      "cell_type": "markdown",
      "id": "0419725d",
      "metadata": {
        "id": "0419725d"
      },
      "source": [
        "# Feature Scaling"
      ]
    },
    {
      "cell_type": "code",
      "execution_count": 13,
      "id": "37004a2c",
      "metadata": {
        "id": "37004a2c"
      },
      "outputs": [],
      "source": [
        "xtrain = xtrain/255\n",
        "xtest = xtest/255\n"
      ]
    },
    {
      "cell_type": "code",
      "execution_count": 14,
      "id": "821cf8b8",
      "metadata": {
        "id": "821cf8b8",
        "outputId": "54df4fd4-395e-40aa-d70d-cc5e21315897",
        "colab": {
          "base_uri": "https://localhost:8080/"
        }
      },
      "outputs": [
        {
          "output_type": "execute_result",
          "data": {
            "text/plain": [
              "((33600, 784), (8400, 784))"
            ]
          },
          "metadata": {},
          "execution_count": 14
        }
      ],
      "source": [
        " xtrain.shape , xtest.shape"
      ]
    },
    {
      "cell_type": "code",
      "execution_count": 14,
      "id": "6c1bbae5",
      "metadata": {
        "id": "6c1bbae5"
      },
      "outputs": [],
      "source": [
        " "
      ]
    },
    {
      "cell_type": "markdown",
      "id": "479a1140",
      "metadata": {
        "id": "479a1140"
      },
      "source": [
        "# Creating Artificial Neural Network"
      ]
    },
    {
      "cell_type": "code",
      "execution_count": 15,
      "id": "00f504a4",
      "metadata": {
        "id": "00f504a4"
      },
      "outputs": [],
      "source": [
        "import keras\n",
        "from keras.models import  Sequential \n",
        "from keras.layers import Dense"
      ]
    },
    {
      "cell_type": "code",
      "execution_count": 16,
      "id": "edd46c33",
      "metadata": {
        "id": "edd46c33"
      },
      "outputs": [],
      "source": [
        "#initializing ANN\n",
        "ann_clf = Sequential()"
      ]
    },
    {
      "cell_type": "code",
      "execution_count": 17,
      "id": "1ef74179",
      "metadata": {
        "id": "1ef74179"
      },
      "outputs": [],
      "source": [
        "# Addding First Hidden Layer\n",
        "ann_clf.add(Dense(activation='relu',input_dim=784,units=128))"
      ]
    },
    {
      "cell_type": "code",
      "execution_count": 18,
      "id": "24ceab89",
      "metadata": {
        "id": "24ceab89"
      },
      "outputs": [],
      "source": [
        "# adding final layer\n",
        "ann_clf.add(Dense(activation='softmax',units=10))"
      ]
    },
    {
      "cell_type": "markdown",
      "id": "91141416",
      "metadata": {
        "id": "91141416"
      },
      "source": [
        "# model compilation"
      ]
    },
    {
      "cell_type": "code",
      "execution_count": 19,
      "id": "53028044",
      "metadata": {
        "id": "53028044"
      },
      "outputs": [],
      "source": [
        "ann_clf.compile(optimizer='adam',loss='sparse_categorical_crossentropy',metrics=['accuracy'])"
      ]
    },
    {
      "cell_type": "markdown",
      "id": "a1705c75",
      "metadata": {
        "id": "a1705c75"
      },
      "source": [
        "# model training"
      ]
    },
    {
      "cell_type": "code",
      "execution_count": 20,
      "id": "0044463a",
      "metadata": {
        "id": "0044463a",
        "outputId": "af29a7b9-06b0-45f4-8e32-7e84599cc9ca",
        "colab": {
          "base_uri": "https://localhost:8080/"
        }
      },
      "outputs": [
        {
          "output_type": "stream",
          "name": "stdout",
          "text": [
            "Epoch 1/20\n",
            "704/704 [==============================] - 3s 3ms/step - loss: 0.3780 - accuracy: 0.8943 - val_loss: 0.2212 - val_accuracy: 0.9365\n",
            "Epoch 2/20\n",
            "704/704 [==============================] - 2s 3ms/step - loss: 0.1798 - accuracy: 0.9476 - val_loss: 0.1626 - val_accuracy: 0.9545\n",
            "Epoch 3/20\n",
            "704/704 [==============================] - 2s 3ms/step - loss: 0.1290 - accuracy: 0.9621 - val_loss: 0.1426 - val_accuracy: 0.9593\n",
            "Epoch 4/20\n",
            "704/704 [==============================] - 2s 3ms/step - loss: 0.0973 - accuracy: 0.9721 - val_loss: 0.1283 - val_accuracy: 0.9620\n",
            "Epoch 5/20\n",
            "704/704 [==============================] - 2s 3ms/step - loss: 0.0734 - accuracy: 0.9790 - val_loss: 0.1201 - val_accuracy: 0.9637\n",
            "Epoch 6/20\n",
            "704/704 [==============================] - 2s 3ms/step - loss: 0.0584 - accuracy: 0.9836 - val_loss: 0.1158 - val_accuracy: 0.9655\n",
            "Epoch 7/20\n",
            "704/704 [==============================] - 2s 3ms/step - loss: 0.0437 - accuracy: 0.9876 - val_loss: 0.1106 - val_accuracy: 0.9683\n",
            "Epoch 8/20\n",
            "704/704 [==============================] - 2s 3ms/step - loss: 0.0354 - accuracy: 0.9904 - val_loss: 0.1126 - val_accuracy: 0.9681\n",
            "Epoch 9/20\n",
            "704/704 [==============================] - 2s 3ms/step - loss: 0.0286 - accuracy: 0.9921 - val_loss: 0.1175 - val_accuracy: 0.9676\n",
            "Epoch 10/20\n",
            "704/704 [==============================] - 2s 3ms/step - loss: 0.0224 - accuracy: 0.9948 - val_loss: 0.1100 - val_accuracy: 0.9698\n",
            "Epoch 11/20\n",
            "704/704 [==============================] - 2s 3ms/step - loss: 0.0171 - accuracy: 0.9960 - val_loss: 0.1141 - val_accuracy: 0.9689\n",
            "Epoch 12/20\n",
            "704/704 [==============================] - 2s 3ms/step - loss: 0.0141 - accuracy: 0.9971 - val_loss: 0.1203 - val_accuracy: 0.9693\n",
            "Epoch 13/20\n",
            "704/704 [==============================] - 2s 3ms/step - loss: 0.0115 - accuracy: 0.9976 - val_loss: 0.1301 - val_accuracy: 0.9683\n",
            "Epoch 14/20\n",
            "704/704 [==============================] - 2s 3ms/step - loss: 0.0121 - accuracy: 0.9973 - val_loss: 0.1267 - val_accuracy: 0.9685\n",
            "Epoch 15/20\n",
            "704/704 [==============================] - 2s 3ms/step - loss: 0.0073 - accuracy: 0.9987 - val_loss: 0.1190 - val_accuracy: 0.9716\n",
            "Epoch 16/20\n",
            "704/704 [==============================] - 2s 3ms/step - loss: 0.0052 - accuracy: 0.9991 - val_loss: 0.1341 - val_accuracy: 0.9702\n",
            "Epoch 17/20\n",
            "704/704 [==============================] - 2s 3ms/step - loss: 0.0048 - accuracy: 0.9996 - val_loss: 0.1222 - val_accuracy: 0.9717\n",
            "Epoch 18/20\n",
            "704/704 [==============================] - 2s 3ms/step - loss: 0.0075 - accuracy: 0.9978 - val_loss: 0.1789 - val_accuracy: 0.9612\n",
            "Epoch 19/20\n",
            "704/704 [==============================] - 2s 3ms/step - loss: 0.0116 - accuracy: 0.9966 - val_loss: 0.1365 - val_accuracy: 0.9698\n",
            "Epoch 20/20\n",
            "704/704 [==============================] - 2s 3ms/step - loss: 0.0041 - accuracy: 0.9992 - val_loss: 0.1293 - val_accuracy: 0.9716\n"
          ]
        }
      ],
      "source": [
        "history = ann_clf.fit(xtrain,ytrain, validation_split=0.33,batch_size=32,epochs=20)"
      ]
    },
    {
      "cell_type": "markdown",
      "id": "2bc4fdf5",
      "metadata": {
        "id": "2bc4fdf5"
      },
      "source": [
        "# Predicting the test result"
      ]
    },
    {
      "cell_type": "code",
      "execution_count": 21,
      "id": "73864fdb",
      "metadata": {
        "id": "73864fdb"
      },
      "outputs": [],
      "source": [
        "y_pred = ann_clf.predict(xtest)"
      ]
    },
    {
      "cell_type": "code",
      "execution_count": 22,
      "id": "2945fb99",
      "metadata": {
        "id": "2945fb99",
        "outputId": "7ea439c0-54af-40dd-8597-e9c3b3f2af02",
        "colab": {
          "base_uri": "https://localhost:8080/"
        }
      },
      "outputs": [
        {
          "output_type": "execute_result",
          "data": {
            "text/plain": [
              "array([1.3865504e-09, 2.7812771e-08, 7.7471450e-06, 2.3165123e-07,\n",
              "       3.7199981e-09, 4.4011141e-13, 1.6210334e-08, 3.3085321e-10,\n",
              "       9.9999177e-01, 2.3428800e-07], dtype=float32)"
            ]
          },
          "metadata": {},
          "execution_count": 22
        }
      ],
      "source": [
        "y_pred[0]"
      ]
    },
    {
      "cell_type": "code",
      "execution_count": 23,
      "id": "54b263b9",
      "metadata": {
        "id": "54b263b9",
        "outputId": "1893ddf5-358d-470e-f8f3-d1d3bf227186",
        "colab": {
          "base_uri": "https://localhost:8080/"
        }
      },
      "outputs": [
        {
          "output_type": "execute_result",
          "data": {
            "text/plain": [
              "8"
            ]
          },
          "metadata": {},
          "execution_count": 23
        }
      ],
      "source": [
        "np.argmax(y_pred[0])"
      ]
    },
    {
      "cell_type": "code",
      "execution_count": 24,
      "id": "f4178a43",
      "metadata": {
        "id": "f4178a43"
      },
      "outputs": [],
      "source": [
        "y_predT = y_pred.argmax(axis=1)"
      ]
    },
    {
      "cell_type": "markdown",
      "id": "7158f0c3",
      "metadata": {
        "id": "7158f0c3"
      },
      "source": [
        "# Confusion Matrix "
      ]
    },
    {
      "cell_type": "code",
      "execution_count": 25,
      "id": "fb25cba6",
      "metadata": {
        "id": "fb25cba6"
      },
      "outputs": [],
      "source": [
        "from sklearn.metrics import confusion_matrix, accuracy_score, classification_report\n",
        "cm = confusion_matrix(ytest,y_predT)"
      ]
    },
    {
      "cell_type": "code",
      "execution_count": 26,
      "id": "39c02cff",
      "metadata": {
        "id": "39c02cff",
        "outputId": "c508ebb8-81a3-4ee5-aff5-df1e0ae3750f",
        "colab": {
          "base_uri": "https://localhost:8080/"
        }
      },
      "outputs": [
        {
          "output_type": "execute_result",
          "data": {
            "text/plain": [
              "array([[798,   0,   3,   3,   0,   2,   5,   1,   2,   2],\n",
              "       [  0, 899,   4,   0,   1,   0,   0,   0,   4,   1],\n",
              "       [  1,   8, 809,   6,   6,   0,   3,   4,   6,   3],\n",
              "       [  0,   3,   2, 908,   0,   5,   0,   5,   8,   6],\n",
              "       [  1,   0,   2,   0, 811,   1,   8,   2,   0,  14],\n",
              "       [  1,   1,   0,  13,   1, 675,   5,   1,   1,   4],\n",
              "       [  3,   1,   3,   1,   2,   3, 772,   0,   0,   0],\n",
              "       [  0,   3,   4,   5,   6,   4,   0, 858,   2,  11],\n",
              "       [  2,   6,   5,   8,   5,   2,   2,   2, 800,   3],\n",
              "       [  1,   1,   1,   7,   5,   2,   0,   7,   2, 812]])"
            ]
          },
          "metadata": {},
          "execution_count": 26
        }
      ],
      "source": [
        "cm"
      ]
    },
    {
      "cell_type": "code",
      "execution_count": 27,
      "id": "e9976153",
      "metadata": {
        "id": "e9976153"
      },
      "outputs": [],
      "source": [
        "acc= accuracy_score(ytest,y_predT)"
      ]
    },
    {
      "cell_type": "code",
      "execution_count": 28,
      "id": "93cc8a23",
      "metadata": {
        "id": "93cc8a23",
        "outputId": "852ec527-7959-487b-e9cf-ed180914200a",
        "colab": {
          "base_uri": "https://localhost:8080/"
        }
      },
      "outputs": [
        {
          "output_type": "execute_result",
          "data": {
            "text/plain": [
              "0.9692857142857143"
            ]
          },
          "metadata": {},
          "execution_count": 28
        }
      ],
      "source": [
        "acc"
      ]
    },
    {
      "cell_type": "code",
      "execution_count": 29,
      "id": "0f0052b9",
      "metadata": {
        "id": "0f0052b9"
      },
      "outputs": [],
      "source": [
        "acc= round(accuracy_score(ytest,y_predT)*100,2)"
      ]
    },
    {
      "cell_type": "code",
      "source": [
        "acc"
      ],
      "metadata": {
        "colab": {
          "base_uri": "https://localhost:8080/"
        },
        "id": "boI8iFSI5X3U",
        "outputId": "d905cdbe-b7a9-4843-bcbd-713ae853c25e"
      },
      "id": "boI8iFSI5X3U",
      "execution_count": 36,
      "outputs": [
        {
          "output_type": "execute_result",
          "data": {
            "text/plain": [
              "96.93"
            ]
          },
          "metadata": {},
          "execution_count": 36
        }
      ]
    },
    {
      "cell_type": "markdown",
      "id": "a0a825fb",
      "metadata": {
        "id": "a0a825fb"
      },
      "source": [
        "# Classification Report "
      ]
    },
    {
      "cell_type": "code",
      "execution_count": 30,
      "id": "5384c9ad",
      "metadata": {
        "id": "5384c9ad",
        "outputId": "598cb19e-4dd2-4b90-dd78-25249fa2fbeb",
        "colab": {
          "base_uri": "https://localhost:8080/"
        }
      },
      "outputs": [
        {
          "output_type": "stream",
          "name": "stdout",
          "text": [
            "              precision    recall  f1-score   support\n",
            "\n",
            "           0       0.98      0.99      0.98       807\n",
            "           1       0.99      0.98      0.98       922\n",
            "           2       0.96      0.97      0.96       833\n",
            "           3       0.97      0.95      0.96       951\n",
            "           4       0.97      0.97      0.97       837\n",
            "           5       0.96      0.97      0.97       694\n",
            "           6       0.98      0.97      0.98       795\n",
            "           7       0.96      0.97      0.97       880\n",
            "           8       0.96      0.97      0.96       825\n",
            "           9       0.97      0.95      0.96       856\n",
            "\n",
            "    accuracy                           0.97      8400\n",
            "   macro avg       0.97      0.97      0.97      8400\n",
            "weighted avg       0.97      0.97      0.97      8400\n",
            "\n"
          ]
        }
      ],
      "source": [
        "cr = classification_report(y_predT,ytest)\n",
        "print(cr)"
      ]
    },
    {
      "cell_type": "markdown",
      "id": "6c68b2b8",
      "metadata": {
        "id": "6c68b2b8"
      },
      "source": [
        "# Plotting Train vs Test  Loss"
      ]
    },
    {
      "cell_type": "code",
      "execution_count": 31,
      "id": "883fb39f",
      "metadata": {
        "id": "883fb39f",
        "outputId": "8f8aede7-9688-4009-e208-c1d7038d7a8c",
        "colab": {
          "base_uri": "https://localhost:8080/",
          "height": 283
        }
      },
      "outputs": [
        {
          "output_type": "execute_result",
          "data": {
            "text/plain": [
              "[<matplotlib.lines.Line2D at 0x7fb7ee6dbb90>]"
            ]
          },
          "metadata": {},
          "execution_count": 31
        },
        {
          "output_type": "display_data",
          "data": {
            "text/plain": [
              "<Figure size 432x288 with 1 Axes>"
            ],
            "image/png": "[encoded data removed]"
          },
          "metadata": {
            "needs_background": "light"
          }
        }
      ],
      "source": [
        "plt.plot(history.history['loss'])\n",
        "plt.plot(history.history['val_loss'])"
      ]
    },
    {
      "cell_type": "markdown",
      "id": "24a04fad",
      "metadata": {
        "id": "24a04fad"
      },
      "source": [
        "# Plotting Train vs Test Accuracy"
      ]
    },
    {
      "cell_type": "code",
      "execution_count": 32,
      "id": "fa8b2236",
      "metadata": {
        "id": "fa8b2236",
        "outputId": "1f3be2f5-e2d4-4447-dfca-e1d428ede062",
        "colab": {
          "base_uri": "https://localhost:8080/",
          "height": 283
        }
      },
      "outputs": [
        {
          "output_type": "execute_result",
          "data": {
            "text/plain": [
              "[<matplotlib.lines.Line2D at 0x7fb85200be10>]"
            ]
          },
          "metadata": {},
          "execution_count": 32
        },
        {
          "output_type": "display_data",
          "data": {
            "text/plain": [
              "<Figure size 432x288 with 1 Axes>"
            ],
            "image/png": "[encoded data removed]"
          },
          "metadata": {
            "needs_background": "light"
          }
        }
      ],
      "source": [
        "plt.plot(history.history['accuracy'])\n",
        "plt.plot(history.history['val_accuracy'])"
      ]
    },
    {
      "cell_type": "markdown",
      "id": "01ac2da4",
      "metadata": {
        "id": "01ac2da4"
      },
      "source": [
        "# Testing  Model predicion"
      ]
    },
    {
      "cell_type": "code",
      "execution_count": 33,
      "id": "fcc49721",
      "metadata": {
        "id": "fcc49721",
        "colab": {
          "base_uri": "https://localhost:8080/",
          "height": 283
        },
        "outputId": "5cc63f08-9af5-4066-9a8d-8f806e1270d0"
      },
      "outputs": [
        {
          "output_type": "execute_result",
          "data": {
            "text/plain": [
              "<matplotlib.image.AxesImage at 0x7fb7ee6bb2d0>"
            ]
          },
          "metadata": {},
          "execution_count": 33
        },
        {
          "output_type": "display_data",
          "data": {
            "text/plain": [
              "<Figure size 432x288 with 1 Axes>"
            ],
            "image/png": "[encoded data removed]"
          },
          "metadata": {
            "needs_background": "light"
          }
        }
      ],
      "source": [
        "plt.imshow(xtest[100].reshape(28,28))"
      ]
    },
    {
      "cell_type": "code",
      "execution_count": 35,
      "id": "907a2cf2",
      "metadata": {
        "id": "907a2cf2",
        "colab": {
          "base_uri": "https://localhost:8080/"
        },
        "outputId": "33ac0eac-74cd-4111-ce2c-043585605edd"
      },
      "outputs": [
        {
          "output_type": "execute_result",
          "data": {
            "text/plain": [
              "array([4])"
            ]
          },
          "metadata": {},
          "execution_count": 35
        }
      ],
      "source": [
        "ann_clf.predict(xtest[100].reshape(1,784)).argmax(axis=1)"
      ]
    },
    {
      "cell_type": "markdown",
      "source": [
        "Accuracy =  **96.93**"
      ],
      "metadata": {
        "id": "URp8f6pQ5FFs"
      },
      "id": "URp8f6pQ5FFs"
    }
  ],
  "metadata": {
    "kernelspec": {
      "display_name": "Python 3 (ipykernel)",
      "language": "python",
      "name": "python3"
    },
    "language_info": {
      "codemirror_mode": {
        "name": "ipython",
        "version": 3
      },
      "file_extension": ".py",
      "mimetype": "text/x-python",
      "name": "python",
      "nbconvert_exporter": "python",
      "pygments_lexer": "ipython3",
      "version": "3.9.12"
    },
    "colab": {
      "name": "Hand Written Digit Prediction.ipynb",
      "provenance": []
    }
  },
  "nbformat": 4,
  "nbformat_minor": 5
}