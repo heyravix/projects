{
  "cells": [
    {
      "cell_type": "code",
      "execution_count": 3,
      "metadata": {
        "id": "Ks8xHthuNc6p"
      },
      "outputs": [],
      "source": [
        "import pandas as pd\n",
        "import seaborn as sns\n",
        "import matplotlib.pyplot as plt"
      ]
    },
    {
      "cell_type": "code",
      "execution_count": 4,
      "metadata": {
        "id": "VLD_3qoGNc6t"
      },
      "outputs": [],
      "source": [
        "df = pd.read_csv('Churn_Modelling.csv')"
      ]
    },
    {
      "cell_type": "code",
      "execution_count": 5,
      "metadata": {
        "id": "ZDTdguPFNc6u",
        "outputId": "a88b70b6-27ce-4a6b-e960-dfdc1e3e975c",
        "colab": {
          "base_uri": "https://localhost:8080/",
          "height": 270
        }
      },
      "outputs": [
        {
          "output_type": "execute_result",
          "data": {
            "text/plain": [
              "   RowNumber  CustomerId   Surname  CreditScore Geography  Gender  Age  \\\n",
              "0          1    15634602  Hargrave          619    France  Female   42   \n",
              "1          2    15647311      Hill          608     Spain  Female   41   \n",
              "2          3    15619304      Onio          502    France  Female   42   \n",
              "3          4    15701354      Boni          699    France  Female   39   \n",
              "4          5    15737888  Mitchell          850     Spain  Female   43   \n",
              "\n",
              "   Tenure    Balance  NumOfProducts  HasCrCard  IsActiveMember  \\\n",
              "0       2       0.00              1          1               1   \n",
              "1       1   83807.86              1          0               1   \n",
              "2       8  159660.80              3          1               0   \n",
              "3       1       0.00              2          0               0   \n",
              "4       2  125510.82              1          1               1   \n",
              "\n",
              "   EstimatedSalary  Exited  \n",
              "0        101348.88       1  \n",
              "1        112542.58       0  \n",
              "2        113931.57       1  \n",
              "3         93826.63       0  \n",
              "4         79084.10       0  "
            ],
            "text/html": [
              "\n",
              "  <div id=\"df-5409561d-abb0-46ee-9d48-62631a45a5d2\">\n",
              "    <div class=\"colab-df-container\">\n",
              "      <div>\n",
              "<style scoped>\n",
              "    .dataframe tbody tr th:only-of-type {\n",
              "        vertical-align: middle;\n",
              "    }\n",
              "\n",
              "    .dataframe tbody tr th {\n",
              "        vertical-align: top;\n",
              "    }\n",
              "\n",
              "    .dataframe thead th {\n",
              "        text-align: right;\n",
              "    }\n",
              "</style>\n",
              "<table border=\"1\" class=\"dataframe\">\n",
              "  <thead>\n",
              "    <tr style=\"text-align: right;\">\n",
              "      <th></th>\n",
              "      <th>RowNumber</th>\n",
              "      <th>CustomerId</th>\n",
              "      <th>Surname</th>\n",
              "      <th>CreditScore</th>\n",
              "      <th>Geography</th>\n",
              "      <th>Gender</th>\n",
              "      <th>Age</th>\n",
              "      <th>Tenure</th>\n",
              "      <th>Balance</th>\n",
              "      <th>NumOfProducts</th>\n",
              "      <th>HasCrCard</th>\n",
              "      <th>IsActiveMember</th>\n",
              "      <th>EstimatedSalary</th>\n",
              "      <th>Exited</th>\n",
              "    </tr>\n",
              "  </thead>\n",
              "  <tbody>\n",
              "    <tr>\n",
              "      <th>0</th>\n",
              "      <td>1</td>\n",
              "      <td>15634602</td>\n",
              "      <td>Hargrave</td>\n",
              "      <td>619</td>\n",
              "      <td>France</td>\n",
              "      <td>Female</td>\n",
              "      <td>42</td>\n",
              "      <td>2</td>\n",
              "      <td>0.00</td>\n",
              "      <td>1</td>\n",
              "      <td>1</td>\n",
              "      <td>1</td>\n",
              "      <td>101348.88</td>\n",
              "      <td>1</td>\n",
              "    </tr>\n",
              "    <tr>\n",
              "      <th>1</th>\n",
              "      <td>2</td>\n",
              "      <td>15647311</td>\n",
              "      <td>Hill</td>\n",
              "      <td>608</td>\n",
              "      <td>Spain</td>\n",
              "      <td>Female</td>\n",
              "      <td>41</td>\n",
              "      <td>1</td>\n",
              "      <td>83807.86</td>\n",
              "      <td>1</td>\n",
              "      <td>0</td>\n",
              "      <td>1</td>\n",
              "      <td>112542.58</td>\n",
              "      <td>0</td>\n",
              "    </tr>\n",
              "    <tr>\n",
              "      <th>2</th>\n",
              "      <td>3</td>\n",
              "      <td>15619304</td>\n",
              "      <td>Onio</td>\n",
              "      <td>502</td>\n",
              "      <td>France</td>\n",
              "      <td>Female</td>\n",
              "      <td>42</td>\n",
              "      <td>8</td>\n",
              "      <td>159660.80</td>\n",
              "      <td>3</td>\n",
              "      <td>1</td>\n",
              "      <td>0</td>\n",
              "      <td>113931.57</td>\n",
              "      <td>1</td>\n",
              "    </tr>\n",
              "    <tr>\n",
              "      <th>3</th>\n",
              "      <td>4</td>\n",
              "      <td>15701354</td>\n",
              "      <td>Boni</td>\n",
              "      <td>699</td>\n",
              "      <td>France</td>\n",
              "      <td>Female</td>\n",
              "      <td>39</td>\n",
              "      <td>1</td>\n",
              "      <td>0.00</td>\n",
              "      <td>2</td>\n",
              "      <td>0</td>\n",
              "      <td>0</td>\n",
              "      <td>93826.63</td>\n",
              "      <td>0</td>\n",
              "    </tr>\n",
              "    <tr>\n",
              "      <th>4</th>\n",
              "      <td>5</td>\n",
              "      <td>15737888</td>\n",
              "      <td>Mitchell</td>\n",
              "      <td>850</td>\n",
              "      <td>Spain</td>\n",
              "      <td>Female</td>\n",
              "      <td>43</td>\n",
              "      <td>2</td>\n",
              "      <td>125510.82</td>\n",
              "      <td>1</td>\n",
              "      <td>1</td>\n",
              "      <td>1</td>\n",
              "      <td>79084.10</td>\n",
              "      <td>0</td>\n",
              "    </tr>\n",
              "  </tbody>\n",
              "</table>\n",
              "</div>\n",
              "      <button class=\"colab-df-convert\" onclick=\"convertToInteractive('df-5409561d-abb0-46ee-9d48-62631a45a5d2')\"\n",
              "              title=\"Convert this dataframe to an interactive table.\"\n",
              "              style=\"display:none;\">\n",
              "        \n",
              "  <svg xmlns=\"http://www.w3.org/2000/svg\" height=\"24px\"viewBox=\"0 0 24 24\"\n",
              "       width=\"24px\">\n",
              "    <path d=\"M0 0h24v24H0V0z\" fill=\"none\"/>\n",
              "    <path d=\"M18.56 5.44l.94 2.06.94-2.06 2.06-.94-2.06-.94-.94-2.06-.94 2.06-2.06.94zm-11 1L8.5 8.5l.94-2.06 2.06-.94-2.06-.94L8.5 2.5l-.94 2.06-2.06.94zm10 10l.94 2.06.94-2.06 2.06-.94-2.06-.94-.94-2.06-.94 2.06-2.06.94z\"/><path d=\"M17.41 7.96l-1.37-1.37c-.4-.4-.92-.59-1.43-.59-.52 0-1.04.2-1.43.59L10.3 9.45l-7.72 7.72c-.78.78-.78 2.05 0 2.83L4 21.41c.39.39.9.59 1.41.59.51 0 1.02-.2 1.41-.59l7.78-7.78 2.81-2.81c.8-.78.8-2.07 0-2.86zM5.41 20L4 18.59l7.72-7.72 1.47 1.35L5.41 20z\"/>\n",
              "  </svg>\n",
              "      </button>\n",
              "      \n",
              "  <style>\n",
              "    .colab-df-container {\n",
              "      display:flex;\n",
              "      flex-wrap:wrap;\n",
              "      gap: 12px;\n",
              "    }\n",
              "\n",
              "    .colab-df-convert {\n",
              "      background-color: #E8F0FE;\n",
              "      border: none;\n",
              "      border-radius: 50%;\n",
              "      cursor: pointer;\n",
              "      display: none;\n",
              "      fill: #1967D2;\n",
              "      height: 32px;\n",
              "      padding: 0 0 0 0;\n",
              "      width: 32px;\n",
              "    }\n",
              "\n",
              "    .colab-df-convert:hover {\n",
              "      background-color: #E2EBFA;\n",
              "      box-shadow: 0px 1px 2px rgba(60, 64, 67, 0.3), 0px 1px 3px 1px rgba(60, 64, 67, 0.15);\n",
              "      fill: #174EA6;\n",
              "    }\n",
              "\n",
              "    [theme=dark] .colab-df-convert {\n",
              "      background-color: #3B4455;\n",
              "      fill: #D2E3FC;\n",
              "    }\n",
              "\n",
              "    [theme=dark] .colab-df-convert:hover {\n",
              "      background-color: #434B5C;\n",
              "      box-shadow: 0px 1px 3px 1px rgba(0, 0, 0, 0.15);\n",
              "      filter: drop-shadow(0px 1px 2px rgba(0, 0, 0, 0.3));\n",
              "      fill: #FFFFFF;\n",
              "    }\n",
              "  </style>\n",
              "\n",
              "      <script>\n",
              "        const buttonEl =\n",
              "          document.querySelector('#df-5409561d-abb0-46ee-9d48-62631a45a5d2 button.colab-df-convert');\n",
              "        buttonEl.style.display =\n",
              "          google.colab.kernel.accessAllowed ? 'block' : 'none';\n",
              "\n",
              "        async function convertToInteractive(key) {\n",
              "          const element = document.querySelector('#df-5409561d-abb0-46ee-9d48-62631a45a5d2');\n",
              "          const dataTable =\n",
              "            await google.colab.kernel.invokeFunction('convertToInteractive',\n",
              "                                                     [key], {});\n",
              "          if (!dataTable) return;\n",
              "\n",
              "          const docLinkHtml = 'Like what you see? Visit the ' +\n",
              "            '<a target=\"_blank\" href=https://colab.research.google.com/notebooks/data_table.ipynb>data table notebook</a>'\n",
              "            + ' to learn more about interactive tables.';\n",
              "          element.innerHTML = '';\n",
              "          dataTable['output_type'] = 'display_data';\n",
              "          await google.colab.output.renderOutput(dataTable, element);\n",
              "          const docLink = document.createElement('div');\n",
              "          docLink.innerHTML = docLinkHtml;\n",
              "          element.appendChild(docLink);\n",
              "        }\n",
              "      </script>\n",
              "    </div>\n",
              "  </div>\n",
              "  "
            ]
          },
          "metadata": {},
          "execution_count": 5
        }
      ],
      "source": [
        "df.head()"
      ]
    },
    {
      "cell_type": "code",
      "execution_count": 6,
      "metadata": {
        "id": "iDVINXTVNc6v",
        "outputId": "01081e45-bd7a-4735-abc4-fcdc9d4fd729",
        "colab": {
          "base_uri": "https://localhost:8080/"
        }
      },
      "outputs": [
        {
          "output_type": "stream",
          "name": "stdout",
          "text": [
            "<class 'pandas.core.frame.DataFrame'>\n",
            "RangeIndex: 10000 entries, 0 to 9999\n",
            "Data columns (total 14 columns):\n",
            " #   Column           Non-Null Count  Dtype  \n",
            "---  ------           --------------  -----  \n",
            " 0   RowNumber        10000 non-null  int64  \n",
            " 1   CustomerId       10000 non-null  int64  \n",
            " 2   Surname          10000 non-null  object \n",
            " 3   CreditScore      10000 non-null  int64  \n",
            " 4   Geography        10000 non-null  object \n",
            " 5   Gender           10000 non-null  object \n",
            " 6   Age              10000 non-null  int64  \n",
            " 7   Tenure           10000 non-null  int64  \n",
            " 8   Balance          10000 non-null  float64\n",
            " 9   NumOfProducts    10000 non-null  int64  \n",
            " 10  HasCrCard        10000 non-null  int64  \n",
            " 11  IsActiveMember   10000 non-null  int64  \n",
            " 12  EstimatedSalary  10000 non-null  float64\n",
            " 13  Exited           10000 non-null  int64  \n",
            "dtypes: float64(2), int64(9), object(3)\n",
            "memory usage: 1.1+ MB\n"
          ]
        }
      ],
      "source": [
        "df.info()"
      ]
    },
    {
      "cell_type": "code",
      "execution_count": 7,
      "metadata": {
        "id": "DPJNI_zBNc6v",
        "outputId": "8872b8ef-bf53-4f61-ddbe-6557d4a89a62",
        "colab": {
          "base_uri": "https://localhost:8080/",
          "height": 364
        }
      },
      "outputs": [
        {
          "output_type": "execute_result",
          "data": {
            "text/plain": [
              "         RowNumber    CustomerId   CreditScore           Age        Tenure  \\\n",
              "count  10000.00000  1.000000e+04  10000.000000  10000.000000  10000.000000   \n",
              "mean    5000.50000  1.569094e+07    650.528800     38.921800      5.012800   \n",
              "std     2886.89568  7.193619e+04     96.653299     10.487806      2.892174   \n",
              "min        1.00000  1.556570e+07    350.000000     18.000000      0.000000   \n",
              "25%     2500.75000  1.562853e+07    584.000000     32.000000      3.000000   \n",
              "50%     5000.50000  1.569074e+07    652.000000     37.000000      5.000000   \n",
              "75%     7500.25000  1.575323e+07    718.000000     44.000000      7.000000   \n",
              "max    10000.00000  1.581569e+07    850.000000     92.000000     10.000000   \n",
              "\n",
              "             Balance  NumOfProducts    HasCrCard  IsActiveMember  \\\n",
              "count   10000.000000   10000.000000  10000.00000    10000.000000   \n",
              "mean    76485.889288       1.530200      0.70550        0.515100   \n",
              "std     62397.405202       0.581654      0.45584        0.499797   \n",
              "min         0.000000       1.000000      0.00000        0.000000   \n",
              "25%         0.000000       1.000000      0.00000        0.000000   \n",
              "50%     97198.540000       1.000000      1.00000        1.000000   \n",
              "75%    127644.240000       2.000000      1.00000        1.000000   \n",
              "max    250898.090000       4.000000      1.00000        1.000000   \n",
              "\n",
              "       EstimatedSalary        Exited  \n",
              "count     10000.000000  10000.000000  \n",
              "mean     100090.239881      0.203700  \n",
              "std       57510.492818      0.402769  \n",
              "min          11.580000      0.000000  \n",
              "25%       51002.110000      0.000000  \n",
              "50%      100193.915000      0.000000  \n",
              "75%      149388.247500      0.000000  \n",
              "max      199992.480000      1.000000  "
            ],
            "text/html": [
              "\n",
              "  <div id=\"df-7cb756a6-9f80-4766-a1ff-fbd1c3b06b4d\">\n",
              "    <div class=\"colab-df-container\">\n",
              "      <div>\n",
              "<style scoped>\n",
              "    .dataframe tbody tr th:only-of-type {\n",
              "        vertical-align: middle;\n",
              "    }\n",
              "\n",
              "    .dataframe tbody tr th {\n",
              "        vertical-align: top;\n",
              "    }\n",
              "\n",
              "    .dataframe thead th {\n",
              "        text-align: right;\n",
              "    }\n",
              "</style>\n",
              "<table border=\"1\" class=\"dataframe\">\n",
              "  <thead>\n",
              "    <tr style=\"text-align: right;\">\n",
              "      <th></th>\n",
              "      <th>RowNumber</th>\n",
              "      <th>CustomerId</th>\n",
              "      <th>CreditScore</th>\n",
              "      <th>Age</th>\n",
              "      <th>Tenure</th>\n",
              "      <th>Balance</th>\n",
              "      <th>NumOfProducts</th>\n",
              "      <th>HasCrCard</th>\n",
              "      <th>IsActiveMember</th>\n",
              "      <th>EstimatedSalary</th>\n",
              "      <th>Exited</th>\n",
              "    </tr>\n",
              "  </thead>\n",
              "  <tbody>\n",
              "    <tr>\n",
              "      <th>count</th>\n",
              "      <td>10000.00000</td>\n",
              "      <td>1.000000e+04</td>\n",
              "      <td>10000.000000</td>\n",
              "      <td>10000.000000</td>\n",
              "      <td>10000.000000</td>\n",
              "      <td>10000.000000</td>\n",
              "      <td>10000.000000</td>\n",
              "      <td>10000.00000</td>\n",
              "      <td>10000.000000</td>\n",
              "      <td>10000.000000</td>\n",
              "      <td>10000.000000</td>\n",
              "    </tr>\n",
              "    <tr>\n",
              "      <th>mean</th>\n",
              "      <td>5000.50000</td>\n",
              "      <td>1.569094e+07</td>\n",
              "      <td>650.528800</td>\n",
              "      <td>38.921800</td>\n",
              "      <td>5.012800</td>\n",
              "      <td>76485.889288</td>\n",
              "      <td>1.530200</td>\n",
              "      <td>0.70550</td>\n",
              "      <td>0.515100</td>\n",
              "      <td>100090.239881</td>\n",
              "      <td>0.203700</td>\n",
              "    </tr>\n",
              "    <tr>\n",
              "      <th>std</th>\n",
              "      <td>2886.89568</td>\n",
              "      <td>7.193619e+04</td>\n",
              "      <td>96.653299</td>\n",
              "      <td>10.487806</td>\n",
              "      <td>2.892174</td>\n",
              "      <td>62397.405202</td>\n",
              "      <td>0.581654</td>\n",
              "      <td>0.45584</td>\n",
              "      <td>0.499797</td>\n",
              "      <td>57510.492818</td>\n",
              "      <td>0.402769</td>\n",
              "    </tr>\n",
              "    <tr>\n",
              "      <th>min</th>\n",
              "      <td>1.00000</td>\n",
              "      <td>1.556570e+07</td>\n",
              "      <td>350.000000</td>\n",
              "      <td>18.000000</td>\n",
              "      <td>0.000000</td>\n",
              "      <td>0.000000</td>\n",
              "      <td>1.000000</td>\n",
              "      <td>0.00000</td>\n",
              "      <td>0.000000</td>\n",
              "      <td>11.580000</td>\n",
              "      <td>0.000000</td>\n",
              "    </tr>\n",
              "    <tr>\n",
              "      <th>25%</th>\n",
              "      <td>2500.75000</td>\n",
              "      <td>1.562853e+07</td>\n",
              "      <td>584.000000</td>\n",
              "      <td>32.000000</td>\n",
              "      <td>3.000000</td>\n",
              "      <td>0.000000</td>\n",
              "      <td>1.000000</td>\n",
              "      <td>0.00000</td>\n",
              "      <td>0.000000</td>\n",
              "      <td>51002.110000</td>\n",
              "      <td>0.000000</td>\n",
              "    </tr>\n",
              "    <tr>\n",
              "      <th>50%</th>\n",
              "      <td>5000.50000</td>\n",
              "      <td>1.569074e+07</td>\n",
              "      <td>652.000000</td>\n",
              "      <td>37.000000</td>\n",
              "      <td>5.000000</td>\n",
              "      <td>97198.540000</td>\n",
              "      <td>1.000000</td>\n",
              "      <td>1.00000</td>\n",
              "      <td>1.000000</td>\n",
              "      <td>100193.915000</td>\n",
              "      <td>0.000000</td>\n",
              "    </tr>\n",
              "    <tr>\n",
              "      <th>75%</th>\n",
              "      <td>7500.25000</td>\n",
              "      <td>1.575323e+07</td>\n",
              "      <td>718.000000</td>\n",
              "      <td>44.000000</td>\n",
              "      <td>7.000000</td>\n",
              "      <td>127644.240000</td>\n",
              "      <td>2.000000</td>\n",
              "      <td>1.00000</td>\n",
              "      <td>1.000000</td>\n",
              "      <td>149388.247500</td>\n",
              "      <td>0.000000</td>\n",
              "    </tr>\n",
              "    <tr>\n",
              "      <th>max</th>\n",
              "      <td>10000.00000</td>\n",
              "      <td>1.581569e+07</td>\n",
              "      <td>850.000000</td>\n",
              "      <td>92.000000</td>\n",
              "      <td>10.000000</td>\n",
              "      <td>250898.090000</td>\n",
              "      <td>4.000000</td>\n",
              "      <td>1.00000</td>\n",
              "      <td>1.000000</td>\n",
              "      <td>199992.480000</td>\n",
              "      <td>1.000000</td>\n",
              "    </tr>\n",
              "  </tbody>\n",
              "</table>\n",
              "</div>\n",
              "      <button class=\"colab-df-convert\" onclick=\"convertToInteractive('df-7cb756a6-9f80-4766-a1ff-fbd1c3b06b4d')\"\n",
              "              title=\"Convert this dataframe to an interactive table.\"\n",
              "              style=\"display:none;\">\n",
              "        \n",
              "  <svg xmlns=\"http://www.w3.org/2000/svg\" height=\"24px\"viewBox=\"0 0 24 24\"\n",
              "       width=\"24px\">\n",
              "    <path d=\"M0 0h24v24H0V0z\" fill=\"none\"/>\n",
              "    <path d=\"M18.56 5.44l.94 2.06.94-2.06 2.06-.94-2.06-.94-.94-2.06-.94 2.06-2.06.94zm-11 1L8.5 8.5l.94-2.06 2.06-.94-2.06-.94L8.5 2.5l-.94 2.06-2.06.94zm10 10l.94 2.06.94-2.06 2.06-.94-2.06-.94-.94-2.06-.94 2.06-2.06.94z\"/><path d=\"M17.41 7.96l-1.37-1.37c-.4-.4-.92-.59-1.43-.59-.52 0-1.04.2-1.43.59L10.3 9.45l-7.72 7.72c-.78.78-.78 2.05 0 2.83L4 21.41c.39.39.9.59 1.41.59.51 0 1.02-.2 1.41-.59l7.78-7.78 2.81-2.81c.8-.78.8-2.07 0-2.86zM5.41 20L4 18.59l7.72-7.72 1.47 1.35L5.41 20z\"/>\n",
              "  </svg>\n",
              "      </button>\n",
              "      \n",
              "  <style>\n",
              "    .colab-df-container {\n",
              "      display:flex;\n",
              "      flex-wrap:wrap;\n",
              "      gap: 12px;\n",
              "    }\n",
              "\n",
              "    .colab-df-convert {\n",
              "      background-color: #E8F0FE;\n",
              "      border: none;\n",
              "      border-radius: 50%;\n",
              "      cursor: pointer;\n",
              "      display: none;\n",
              "      fill: #1967D2;\n",
              "      height: 32px;\n",
              "      padding: 0 0 0 0;\n",
              "      width: 32px;\n",
              "    }\n",
              "\n",
              "    .colab-df-convert:hover {\n",
              "      background-color: #E2EBFA;\n",
              "      box-shadow: 0px 1px 2px rgba(60, 64, 67, 0.3), 0px 1px 3px 1px rgba(60, 64, 67, 0.15);\n",
              "      fill: #174EA6;\n",
              "    }\n",
              "\n",
              "    [theme=dark] .colab-df-convert {\n",
              "      background-color: #3B4455;\n",
              "      fill: #D2E3FC;\n",
              "    }\n",
              "\n",
              "    [theme=dark] .colab-df-convert:hover {\n",
              "      background-color: #434B5C;\n",
              "      box-shadow: 0px 1px 3px 1px rgba(0, 0, 0, 0.15);\n",
              "      filter: drop-shadow(0px 1px 2px rgba(0, 0, 0, 0.3));\n",
              "      fill: #FFFFFF;\n",
              "    }\n",
              "  </style>\n",
              "\n",
              "      <script>\n",
              "        const buttonEl =\n",
              "          document.querySelector('#df-7cb756a6-9f80-4766-a1ff-fbd1c3b06b4d button.colab-df-convert');\n",
              "        buttonEl.style.display =\n",
              "          google.colab.kernel.accessAllowed ? 'block' : 'none';\n",
              "\n",
              "        async function convertToInteractive(key) {\n",
              "          const element = document.querySelector('#df-7cb756a6-9f80-4766-a1ff-fbd1c3b06b4d');\n",
              "          const dataTable =\n",
              "            await google.colab.kernel.invokeFunction('convertToInteractive',\n",
              "                                                     [key], {});\n",
              "          if (!dataTable) return;\n",
              "\n",
              "          const docLinkHtml = 'Like what you see? Visit the ' +\n",
              "            '<a target=\"_blank\" href=https://colab.research.google.com/notebooks/data_table.ipynb>data table notebook</a>'\n",
              "            + ' to learn more about interactive tables.';\n",
              "          element.innerHTML = '';\n",
              "          dataTable['output_type'] = 'display_data';\n",
              "          await google.colab.output.renderOutput(dataTable, element);\n",
              "          const docLink = document.createElement('div');\n",
              "          docLink.innerHTML = docLinkHtml;\n",
              "          element.appendChild(docLink);\n",
              "        }\n",
              "      </script>\n",
              "    </div>\n",
              "  </div>\n",
              "  "
            ]
          },
          "metadata": {},
          "execution_count": 7
        }
      ],
      "source": [
        "df.describe()"
      ]
    },
    {
      "cell_type": "code",
      "execution_count": 8,
      "metadata": {
        "id": "RgUDPJ4iNc6w",
        "outputId": "8e265834-ef53-412d-ac0f-386af0f24e7e",
        "colab": {
          "base_uri": "https://localhost:8080/"
        }
      },
      "outputs": [
        {
          "output_type": "execute_result",
          "data": {
            "text/plain": [
              "RowNumber          0\n",
              "CustomerId         0\n",
              "Surname            0\n",
              "CreditScore        0\n",
              "Geography          0\n",
              "Gender             0\n",
              "Age                0\n",
              "Tenure             0\n",
              "Balance            0\n",
              "NumOfProducts      0\n",
              "HasCrCard          0\n",
              "IsActiveMember     0\n",
              "EstimatedSalary    0\n",
              "Exited             0\n",
              "dtype: int64"
            ]
          },
          "metadata": {},
          "execution_count": 8
        }
      ],
      "source": [
        "df.isna().sum()"
      ]
    },
    {
      "cell_type": "markdown",
      "source": [
        "EDA"
      ],
      "metadata": {
        "id": "VG9jQvpRSB_u"
      }
    },
    {
      "cell_type": "code",
      "execution_count": 9,
      "metadata": {
        "id": "pXiHbKTBNc6x"
      },
      "outputs": [],
      "source": [
        "df.drop('RowNumber', axis = 1 , inplace = True)"
      ]
    },
    {
      "cell_type": "code",
      "execution_count": 10,
      "metadata": {
        "id": "QGSP3fPPNc6x",
        "outputId": "a5b87102-5f28-4fae-f0b2-bece00053aa5",
        "colab": {
          "base_uri": "https://localhost:8080/",
          "height": 439
        }
      },
      "outputs": [
        {
          "output_type": "execute_result",
          "data": {
            "text/plain": [
              "<matplotlib.axes._subplots.AxesSubplot at 0x7f4168f22690>"
            ]
          },
          "metadata": {},
          "execution_count": 10
        },
        {
          "output_type": "display_data",
          "data": {
            "text/plain": [
              "<Figure size 1224x576 with 1 Axes>"
            ],
            "image/png": "[encoded data removed]"
          },
          "metadata": {
            "needs_background": "light"
          }
        }
      ],
      "source": [
        "fig = plt.figure(figsize=(17,8))\n",
        "sns.countplot(data=df,x='Age')"
      ]
    },
    {
      "cell_type": "code",
      "execution_count": 11,
      "metadata": {
        "id": "WuC-I7LGNc6y",
        "outputId": "35d74dbe-bbb7-471c-c51d-10f28e49cb8b",
        "colab": {
          "base_uri": "https://localhost:8080/",
          "height": 297
        }
      },
      "outputs": [
        {
          "output_type": "execute_result",
          "data": {
            "text/plain": [
              "<matplotlib.axes._subplots.AxesSubplot at 0x7f416276d750>"
            ]
          },
          "metadata": {},
          "execution_count": 11
        },
        {
          "output_type": "display_data",
          "data": {
            "text/plain": [
              "<Figure size 432x288 with 1 Axes>"
            ],
            "image/png": "[encoded data removed]"
          },
          "metadata": {
            "needs_background": "light"
          }
        }
      ],
      "source": [
        "sns.histplot(df,x='Gender',hue='Exited',palette='BuGn')"
      ]
    },
    {
      "cell_type": "code",
      "execution_count": 12,
      "metadata": {
        "id": "RelpuyYENc6z",
        "outputId": "901f9c1f-ea83-449d-aedd-069e35dba734",
        "colab": {
          "base_uri": "https://localhost:8080/"
        }
      },
      "outputs": [
        {
          "output_type": "execute_result",
          "data": {
            "text/plain": [
              "Gender  Geography\n",
              "Female  France       460\n",
              "        Germany      448\n",
              "        Spain        231\n",
              "Male    France       350\n",
              "        Germany      366\n",
              "        Spain        182\n",
              "Name: Exited, dtype: int64"
            ]
          },
          "metadata": {},
          "execution_count": 12
        }
      ],
      "source": [
        "df.groupby(['Gender','Geography'])['Exited'].sum()"
      ]
    },
    {
      "cell_type": "code",
      "execution_count": 13,
      "metadata": {
        "id": "3VgG0vczNc60",
        "outputId": "fa10345a-08a0-4099-c6dc-3c56382b86ad",
        "colab": {
          "base_uri": "https://localhost:8080/"
        }
      },
      "outputs": [
        {
          "output_type": "execute_result",
          "data": {
            "text/plain": [
              "Geography\n",
              "France     810\n",
              "Germany    814\n",
              "Spain      413\n",
              "Name: Exited, dtype: int64"
            ]
          },
          "metadata": {},
          "execution_count": 13
        }
      ],
      "source": [
        "df.groupby(['Geography'])['Exited'].sum()"
      ]
    },
    {
      "cell_type": "code",
      "execution_count": 14,
      "metadata": {
        "id": "oThcNHwVNc61"
      },
      "outputs": [],
      "source": [
        "df.drop(['CustomerId','Surname'],axis= 1, inplace =True)"
      ]
    },
    {
      "cell_type": "code",
      "execution_count": 15,
      "metadata": {
        "id": "y5fILoSlNc61",
        "outputId": "707017f5-2257-4989-8a9e-0523c624a711",
        "colab": {
          "base_uri": "https://localhost:8080/"
        }
      },
      "outputs": [
        {
          "output_type": "execute_result",
          "data": {
            "text/plain": [
              "Index(['CreditScore', 'Geography', 'Gender', 'Age', 'Tenure', 'Balance',\n",
              "       'NumOfProducts', 'HasCrCard', 'IsActiveMember', 'EstimatedSalary',\n",
              "       'Exited'],\n",
              "      dtype='object')"
            ]
          },
          "metadata": {},
          "execution_count": 15
        }
      ],
      "source": [
        "df.columns"
      ]
    },
    {
      "cell_type": "code",
      "execution_count": 16,
      "metadata": {
        "id": "z_e2G4jmNc61",
        "outputId": "fbcf6457-4cc0-445a-fee1-2740bd7d2e19",
        "colab": {
          "base_uri": "https://localhost:8080/"
        }
      },
      "outputs": [
        {
          "output_type": "execute_result",
          "data": {
            "text/plain": [
              "0"
            ]
          },
          "metadata": {},
          "execution_count": 16
        }
      ],
      "source": [
        "df.duplicated().sum()"
      ]
    },
    {
      "cell_type": "code",
      "execution_count": 17,
      "metadata": {
        "id": "3_lfs8xRNc62",
        "outputId": "dd7a986e-2147-46af-b414-7563ae1fddd0",
        "colab": {
          "base_uri": "https://localhost:8080/",
          "height": 381
        }
      },
      "outputs": [
        {
          "output_type": "execute_result",
          "data": {
            "text/plain": [
              "<matplotlib.axes._subplots.AxesSubplot at 0x7f416224f2d0>"
            ]
          },
          "metadata": {},
          "execution_count": 17
        },
        {
          "output_type": "display_data",
          "data": {
            "text/plain": [
              "<Figure size 1296x504 with 2 Axes>"
            ],
            "image/png": "[encoded data removed]"
          },
          "metadata": {
            "needs_background": "light"
          }
        }
      ],
      "source": [
        "fig = plt.figure(figsize=(18,7))\n",
        "sns.heatmap(df.corr(),annot=True)"
      ]
    },
    {
      "cell_type": "code",
      "execution_count": 18,
      "metadata": {
        "id": "Zr37ca0FNc62"
      },
      "outputs": [],
      "source": [
        "x = df.drop('Exited',axis=1)\n",
        "y = df['Exited']"
      ]
    },
    {
      "cell_type": "code",
      "execution_count": 19,
      "metadata": {
        "id": "QUYqc0QnNc62"
      },
      "outputs": [],
      "source": [
        "x = pd.get_dummies(x)"
      ]
    },
    {
      "cell_type": "code",
      "execution_count": 20,
      "metadata": {
        "id": "WE-C_ftLNc63",
        "outputId": "755f19db-a00b-44d7-fa65-67aa59a79337",
        "colab": {
          "base_uri": "https://localhost:8080/",
          "height": 487
        }
      },
      "outputs": [
        {
          "output_type": "execute_result",
          "data": {
            "text/plain": [
              "      CreditScore  Age  Tenure    Balance  NumOfProducts  HasCrCard  \\\n",
              "0             619   42       2       0.00              1          1   \n",
              "1             608   41       1   83807.86              1          0   \n",
              "2             502   42       8  159660.80              3          1   \n",
              "3             699   39       1       0.00              2          0   \n",
              "4             850   43       2  125510.82              1          1   \n",
              "...           ...  ...     ...        ...            ...        ...   \n",
              "9995          771   39       5       0.00              2          1   \n",
              "9996          516   35      10   57369.61              1          1   \n",
              "9997          709   36       7       0.00              1          0   \n",
              "9998          772   42       3   75075.31              2          1   \n",
              "9999          792   28       4  130142.79              1          1   \n",
              "\n",
              "      IsActiveMember  EstimatedSalary  Geography_France  Geography_Germany  \\\n",
              "0                  1        101348.88                 1                  0   \n",
              "1                  1        112542.58                 0                  0   \n",
              "2                  0        113931.57                 1                  0   \n",
              "3                  0         93826.63                 1                  0   \n",
              "4                  1         79084.10                 0                  0   \n",
              "...              ...              ...               ...                ...   \n",
              "9995               0         96270.64                 1                  0   \n",
              "9996               1        101699.77                 1                  0   \n",
              "9997               1         42085.58                 1                  0   \n",
              "9998               0         92888.52                 0                  1   \n",
              "9999               0         38190.78                 1                  0   \n",
              "\n",
              "      Geography_Spain  Gender_Female  Gender_Male  \n",
              "0                   0              1            0  \n",
              "1                   1              1            0  \n",
              "2                   0              1            0  \n",
              "3                   0              1            0  \n",
              "4                   1              1            0  \n",
              "...               ...            ...          ...  \n",
              "9995                0              0            1  \n",
              "9996                0              0            1  \n",
              "9997                0              1            0  \n",
              "9998                0              0            1  \n",
              "9999                0              1            0  \n",
              "\n",
              "[10000 rows x 13 columns]"
            ],
            "text/html": [
              "\n",
              "  <div id=\"df-d763a056-c4d0-400f-b0b5-76dea650f96f\">\n",
              "    <div class=\"colab-df-container\">\n",
              "      <div>\n",
              "<style scoped>\n",
              "    .dataframe tbody tr th:only-of-type {\n",
              "        vertical-align: middle;\n",
              "    }\n",
              "\n",
              "    .dataframe tbody tr th {\n",
              "        vertical-align: top;\n",
              "    }\n",
              "\n",
              "    .dataframe thead th {\n",
              "        text-align: right;\n",
              "    }\n",
              "</style>\n",
              "<table border=\"1\" class=\"dataframe\">\n",
              "  <thead>\n",
              "    <tr style=\"text-align: right;\">\n",
              "      <th></th>\n",
              "      <th>CreditScore</th>\n",
              "      <th>Age</th>\n",
              "      <th>Tenure</th>\n",
              "      <th>Balance</th>\n",
              "      <th>NumOfProducts</th>\n",
              "      <th>HasCrCard</th>\n",
              "      <th>IsActiveMember</th>\n",
              "      <th>EstimatedSalary</th>\n",
              "      <th>Geography_France</th>\n",
              "      <th>Geography_Germany</th>\n",
              "      <th>Geography_Spain</th>\n",
              "      <th>Gender_Female</th>\n",
              "      <th>Gender_Male</th>\n",
              "    </tr>\n",
              "  </thead>\n",
              "  <tbody>\n",
              "    <tr>\n",
              "      <th>0</th>\n",
              "      <td>619</td>\n",
              "      <td>42</td>\n",
              "      <td>2</td>\n",
              "      <td>0.00</td>\n",
              "      <td>1</td>\n",
              "      <td>1</td>\n",
              "      <td>1</td>\n",
              "      <td>101348.88</td>\n",
              "      <td>1</td>\n",
              "      <td>0</td>\n",
              "      <td>0</td>\n",
              "      <td>1</td>\n",
              "      <td>0</td>\n",
              "    </tr>\n",
              "    <tr>\n",
              "      <th>1</th>\n",
              "      <td>608</td>\n",
              "      <td>41</td>\n",
              "      <td>1</td>\n",
              "      <td>83807.86</td>\n",
              "      <td>1</td>\n",
              "      <td>0</td>\n",
              "      <td>1</td>\n",
              "      <td>112542.58</td>\n",
              "      <td>0</td>\n",
              "      <td>0</td>\n",
              "      <td>1</td>\n",
              "      <td>1</td>\n",
              "      <td>0</td>\n",
              "    </tr>\n",
              "    <tr>\n",
              "      <th>2</th>\n",
              "      <td>502</td>\n",
              "      <td>42</td>\n",
              "      <td>8</td>\n",
              "      <td>159660.80</td>\n",
              "      <td>3</td>\n",
              "      <td>1</td>\n",
              "      <td>0</td>\n",
              "      <td>113931.57</td>\n",
              "      <td>1</td>\n",
              "      <td>0</td>\n",
              "      <td>0</td>\n",
              "      <td>1</td>\n",
              "      <td>0</td>\n",
              "    </tr>\n",
              "    <tr>\n",
              "      <th>3</th>\n",
              "      <td>699</td>\n",
              "      <td>39</td>\n",
              "      <td>1</td>\n",
              "      <td>0.00</td>\n",
              "      <td>2</td>\n",
              "      <td>0</td>\n",
              "      <td>0</td>\n",
              "      <td>93826.63</td>\n",
              "      <td>1</td>\n",
              "      <td>0</td>\n",
              "      <td>0</td>\n",
              "      <td>1</td>\n",
              "      <td>0</td>\n",
              "    </tr>\n",
              "    <tr>\n",
              "      <th>4</th>\n",
              "      <td>850</td>\n",
              "      <td>43</td>\n",
              "      <td>2</td>\n",
              "      <td>125510.82</td>\n",
              "      <td>1</td>\n",
              "      <td>1</td>\n",
              "      <td>1</td>\n",
              "      <td>79084.10</td>\n",
              "      <td>0</td>\n",
              "      <td>0</td>\n",
              "      <td>1</td>\n",
              "      <td>1</td>\n",
              "      <td>0</td>\n",
              "    </tr>\n",
              "    <tr>\n",
              "      <th>...</th>\n",
              "      <td>...</td>\n",
              "      <td>...</td>\n",
              "      <td>...</td>\n",
              "      <td>...</td>\n",
              "      <td>...</td>\n",
              "      <td>...</td>\n",
              "      <td>...</td>\n",
              "      <td>...</td>\n",
              "      <td>...</td>\n",
              "      <td>...</td>\n",
              "      <td>...</td>\n",
              "      <td>...</td>\n",
              "      <td>...</td>\n",
              "    </tr>\n",
              "    <tr>\n",
              "      <th>9995</th>\n",
              "      <td>771</td>\n",
              "      <td>39</td>\n",
              "      <td>5</td>\n",
              "      <td>0.00</td>\n",
              "      <td>2</td>\n",
              "      <td>1</td>\n",
              "      <td>0</td>\n",
              "      <td>96270.64</td>\n",
              "      <td>1</td>\n",
              "      <td>0</td>\n",
              "      <td>0</td>\n",
              "      <td>0</td>\n",
              "      <td>1</td>\n",
              "    </tr>\n",
              "    <tr>\n",
              "      <th>9996</th>\n",
              "      <td>516</td>\n",
              "      <td>35</td>\n",
              "      <td>10</td>\n",
              "      <td>57369.61</td>\n",
              "      <td>1</td>\n",
              "      <td>1</td>\n",
              "      <td>1</td>\n",
              "      <td>101699.77</td>\n",
              "      <td>1</td>\n",
              "      <td>0</td>\n",
              "      <td>0</td>\n",
              "      <td>0</td>\n",
              "      <td>1</td>\n",
              "    </tr>\n",
              "    <tr>\n",
              "      <th>9997</th>\n",
              "      <td>709</td>\n",
              "      <td>36</td>\n",
              "      <td>7</td>\n",
              "      <td>0.00</td>\n",
              "      <td>1</td>\n",
              "      <td>0</td>\n",
              "      <td>1</td>\n",
              "      <td>42085.58</td>\n",
              "      <td>1</td>\n",
              "      <td>0</td>\n",
              "      <td>0</td>\n",
              "      <td>1</td>\n",
              "      <td>0</td>\n",
              "    </tr>\n",
              "    <tr>\n",
              "      <th>9998</th>\n",
              "      <td>772</td>\n",
              "      <td>42</td>\n",
              "      <td>3</td>\n",
              "      <td>75075.31</td>\n",
              "      <td>2</td>\n",
              "      <td>1</td>\n",
              "      <td>0</td>\n",
              "      <td>92888.52</td>\n",
              "      <td>0</td>\n",
              "      <td>1</td>\n",
              "      <td>0</td>\n",
              "      <td>0</td>\n",
              "      <td>1</td>\n",
              "    </tr>\n",
              "    <tr>\n",
              "      <th>9999</th>\n",
              "      <td>792</td>\n",
              "      <td>28</td>\n",
              "      <td>4</td>\n",
              "      <td>130142.79</td>\n",
              "      <td>1</td>\n",
              "      <td>1</td>\n",
              "      <td>0</td>\n",
              "      <td>38190.78</td>\n",
              "      <td>1</td>\n",
              "      <td>0</td>\n",
              "      <td>0</td>\n",
              "      <td>1</td>\n",
              "      <td>0</td>\n",
              "    </tr>\n",
              "  </tbody>\n",
              "</table>\n",
              "<p>10000 rows × 13 columns</p>\n",
              "</div>\n",
              "      <button class=\"colab-df-convert\" onclick=\"convertToInteractive('df-d763a056-c4d0-400f-b0b5-76dea650f96f')\"\n",
              "              title=\"Convert this dataframe to an interactive table.\"\n",
              "              style=\"display:none;\">\n",
              "        \n",
              "  <svg xmlns=\"http://www.w3.org/2000/svg\" height=\"24px\"viewBox=\"0 0 24 24\"\n",
              "       width=\"24px\">\n",
              "    <path d=\"M0 0h24v24H0V0z\" fill=\"none\"/>\n",
              "    <path d=\"M18.56 5.44l.94 2.06.94-2.06 2.06-.94-2.06-.94-.94-2.06-.94 2.06-2.06.94zm-11 1L8.5 8.5l.94-2.06 2.06-.94-2.06-.94L8.5 2.5l-.94 2.06-2.06.94zm10 10l.94 2.06.94-2.06 2.06-.94-2.06-.94-.94-2.06-.94 2.06-2.06.94z\"/><path d=\"M17.41 7.96l-1.37-1.37c-.4-.4-.92-.59-1.43-.59-.52 0-1.04.2-1.43.59L10.3 9.45l-7.72 7.72c-.78.78-.78 2.05 0 2.83L4 21.41c.39.39.9.59 1.41.59.51 0 1.02-.2 1.41-.59l7.78-7.78 2.81-2.81c.8-.78.8-2.07 0-2.86zM5.41 20L4 18.59l7.72-7.72 1.47 1.35L5.41 20z\"/>\n",
              "  </svg>\n",
              "      </button>\n",
              "      \n",
              "  <style>\n",
              "    .colab-df-container {\n",
              "      display:flex;\n",
              "      flex-wrap:wrap;\n",
              "      gap: 12px;\n",
              "    }\n",
              "\n",
              "    .colab-df-convert {\n",
              "      background-color: #E8F0FE;\n",
              "      border: none;\n",
              "      border-radius: 50%;\n",
              "      cursor: pointer;\n",
              "      display: none;\n",
              "      fill: #1967D2;\n",
              "      height: 32px;\n",
              "      padding: 0 0 0 0;\n",
              "      width: 32px;\n",
              "    }\n",
              "\n",
              "    .colab-df-convert:hover {\n",
              "      background-color: #E2EBFA;\n",
              "      box-shadow: 0px 1px 2px rgba(60, 64, 67, 0.3), 0px 1px 3px 1px rgba(60, 64, 67, 0.15);\n",
              "      fill: #174EA6;\n",
              "    }\n",
              "\n",
              "    [theme=dark] .colab-df-convert {\n",
              "      background-color: #3B4455;\n",
              "      fill: #D2E3FC;\n",
              "    }\n",
              "\n",
              "    [theme=dark] .colab-df-convert:hover {\n",
              "      background-color: #434B5C;\n",
              "      box-shadow: 0px 1px 3px 1px rgba(0, 0, 0, 0.15);\n",
              "      filter: drop-shadow(0px 1px 2px rgba(0, 0, 0, 0.3));\n",
              "      fill: #FFFFFF;\n",
              "    }\n",
              "  </style>\n",
              "\n",
              "      <script>\n",
              "        const buttonEl =\n",
              "          document.querySelector('#df-d763a056-c4d0-400f-b0b5-76dea650f96f button.colab-df-convert');\n",
              "        buttonEl.style.display =\n",
              "          google.colab.kernel.accessAllowed ? 'block' : 'none';\n",
              "\n",
              "        async function convertToInteractive(key) {\n",
              "          const element = document.querySelector('#df-d763a056-c4d0-400f-b0b5-76dea650f96f');\n",
              "          const dataTable =\n",
              "            await google.colab.kernel.invokeFunction('convertToInteractive',\n",
              "                                                     [key], {});\n",
              "          if (!dataTable) return;\n",
              "\n",
              "          const docLinkHtml = 'Like what you see? Visit the ' +\n",
              "            '<a target=\"_blank\" href=https://colab.research.google.com/notebooks/data_table.ipynb>data table notebook</a>'\n",
              "            + ' to learn more about interactive tables.';\n",
              "          element.innerHTML = '';\n",
              "          dataTable['output_type'] = 'display_data';\n",
              "          await google.colab.output.renderOutput(dataTable, element);\n",
              "          const docLink = document.createElement('div');\n",
              "          docLink.innerHTML = docLinkHtml;\n",
              "          element.appendChild(docLink);\n",
              "        }\n",
              "      </script>\n",
              "    </div>\n",
              "  </div>\n",
              "  "
            ]
          },
          "metadata": {},
          "execution_count": 20
        }
      ],
      "source": [
        "x"
      ]
    },
    {
      "cell_type": "markdown",
      "metadata": {
        "id": "_hSvvSH_Nc63"
      },
      "source": [
        "# Train Test Split"
      ]
    },
    {
      "cell_type": "code",
      "execution_count": 21,
      "metadata": {
        "id": "L30LoSjgNc65"
      },
      "outputs": [],
      "source": [
        "from sklearn.model_selection import train_test_split"
      ]
    },
    {
      "cell_type": "code",
      "execution_count": 22,
      "metadata": {
        "id": "eMvU4AclNc66"
      },
      "outputs": [],
      "source": [
        "xtrain, xtest , ytrain, ytest = train_test_split(x,y,test_size=0.25,random_state=101)"
      ]
    },
    {
      "cell_type": "code",
      "execution_count": 23,
      "metadata": {
        "id": "ZGHRafkTNc66",
        "outputId": "8f614813-bf36-4a51-8339-805d081def94",
        "colab": {
          "base_uri": "https://localhost:8080/"
        }
      },
      "outputs": [
        {
          "output_type": "execute_result",
          "data": {
            "text/plain": [
              "((7500, 13), (2500, 13), (7500,), (2500,))"
            ]
          },
          "metadata": {},
          "execution_count": 23
        }
      ],
      "source": [
        "xtrain.shape,xtest.shape,ytrain.shape,ytest.shape"
      ]
    },
    {
      "cell_type": "markdown",
      "metadata": {
        "id": "Evtjfio9Nc67"
      },
      "source": [
        "# Feature Scaling"
      ]
    },
    {
      "cell_type": "code",
      "execution_count": 24,
      "metadata": {
        "id": "1er4xDNuNc68"
      },
      "outputs": [],
      "source": [
        "from sklearn.preprocessing import StandardScaler \n",
        "sc = StandardScaler()\n",
        "xtrain = sc.fit_transform(xtrain)\n",
        "xtest = sc.transform(xtest)"
      ]
    },
    {
      "cell_type": "code",
      "execution_count": 25,
      "metadata": {
        "id": "Uny_3Bs0Nc68",
        "outputId": "23638ec0-dd2b-43fb-fd7f-ca6292cd52c8",
        "colab": {
          "base_uri": "https://localhost:8080/"
        }
      },
      "outputs": [
        {
          "output_type": "stream",
          "name": "stdout",
          "text": [
            "[[-0.63721564 -0.64568349 -1.72396178 ... -0.57201287  1.0957665\n",
            "  -1.0957665 ]\n",
            " [-0.91679792 -0.45479971  0.3435794  ... -0.57201287  1.0957665\n",
            "  -1.0957665 ]\n",
            " [-0.90644302 -0.64568349  1.72194018 ... -0.57201287  1.0957665\n",
            "  -1.0957665 ]\n",
            " ...\n",
            " [ 0.66750165  0.21329354  1.03275979 ... -0.57201287 -0.91260319\n",
            "   0.91260319]\n",
            " [-0.76147443 -0.64568349 -0.34560099 ... -0.57201287 -0.91260319\n",
            "   0.91260319]\n",
            " [ 0.015143   -0.83656727 -1.03478139 ...  1.74821241  1.0957665\n",
            "  -1.0957665 ]]\n"
          ]
        }
      ],
      "source": [
        "print(xtrain)"
      ]
    },
    {
      "cell_type": "code",
      "execution_count": 26,
      "metadata": {
        "id": "kHwlQGDMNc68",
        "outputId": "604d9436-729e-4e89-9511-6b5f88dfd533",
        "colab": {
          "base_uri": "https://localhost:8080/"
        }
      },
      "outputs": [
        {
          "output_type": "stream",
          "name": "stdout",
          "text": [
            "[[-0.33692357  1.26315436  1.03275979 ...  1.74821241 -0.91260319\n",
            "   0.91260319]\n",
            " [-0.36798826 -1.50466052  1.03275979 ... -0.57201287 -0.91260319\n",
            "   0.91260319]\n",
            " [-1.40347818  0.690503    0.3435794  ... -0.57201287  1.0957665\n",
            "  -1.0957665 ]\n",
            " ...\n",
            " [ 0.89530943 -0.16847403  1.03275979 ...  1.74821241  1.0957665\n",
            "  -1.0957665 ]\n",
            " [-2.47003279  0.02240976 -1.37937158 ... -0.57201287 -0.91260319\n",
            "   0.91260319]\n",
            " [-1.22744489  1.16771246  0.3435794  ... -0.57201287 -0.91260319\n",
            "   0.91260319]]\n"
          ]
        }
      ],
      "source": [
        "print(xtest)"
      ]
    },
    {
      "cell_type": "markdown",
      "metadata": {
        "id": "hWAb4treNc68"
      },
      "source": [
        "# ANN"
      ]
    },
    {
      "cell_type": "code",
      "execution_count": 27,
      "metadata": {
        "id": "3DZlK64WNc69"
      },
      "outputs": [],
      "source": [
        "import keras\n",
        "from keras.models import Sequential\n",
        "from keras.layers import Dense\n"
      ]
    },
    {
      "cell_type": "markdown",
      "metadata": {
        "id": "vPKEV-6INc69"
      },
      "source": [
        "# Initialize"
      ]
    },
    {
      "cell_type": "code",
      "execution_count": 28,
      "metadata": {
        "id": "mbQIXMIPNc69"
      },
      "outputs": [],
      "source": [
        "model_ann = Sequential()"
      ]
    },
    {
      "cell_type": "markdown",
      "metadata": {
        "id": "BWry-cNONc69"
      },
      "source": [
        "# Adding First Input Layer and Hidden Layer"
      ]
    },
    {
      "cell_type": "code",
      "execution_count": 29,
      "metadata": {
        "id": "wDDCXNj9Nc69"
      },
      "outputs": [],
      "source": [
        "model_ann.add(Dense(activation='relu',input_dim=13,units=6,kernel_initializer='uniform'))"
      ]
    },
    {
      "cell_type": "markdown",
      "metadata": {
        "id": "6h58O3EdNc6-"
      },
      "source": [
        "# Addig Second Hidden Layer"
      ]
    },
    {
      "cell_type": "code",
      "execution_count": 30,
      "metadata": {
        "id": "aXD3mMP-Nc6-"
      },
      "outputs": [],
      "source": [
        "model_ann.add(Dense(activation='relu',units=6,kernel_initializer='uniform'))"
      ]
    },
    {
      "cell_type": "markdown",
      "metadata": {
        "id": "JQ3sp5EONc6-"
      },
      "source": [
        "# Adding Output Layer"
      ]
    },
    {
      "cell_type": "code",
      "execution_count": 31,
      "metadata": {
        "id": "0TLlYLXDNc6-"
      },
      "outputs": [],
      "source": [
        "model_ann.add(Dense(activation='sigmoid',units=1,kernel_initializer='uniform'))"
      ]
    },
    {
      "cell_type": "markdown",
      "metadata": {
        "id": "JmNBlJ-rNc6-"
      },
      "source": [
        "# Compiling ann "
      ]
    },
    {
      "cell_type": "code",
      "execution_count": 32,
      "metadata": {
        "id": "VvEeKkSONc6_"
      },
      "outputs": [],
      "source": [
        "model_ann.compile(optimizer='adam',loss='binary_crossentropy',metrics=['accuracy'])"
      ]
    },
    {
      "cell_type": "code",
      "execution_count": 33,
      "metadata": {
        "id": "3hDn5YbzNc6_",
        "outputId": "6aeeaaa2-3ab1-4eb6-82a8-981273706b11",
        "colab": {
          "base_uri": "https://localhost:8080/"
        }
      },
      "outputs": [
        {
          "output_type": "stream",
          "name": "stdout",
          "text": [
            "Model: \"sequential\"\n",
            "_________________________________________________________________\n",
            " Layer (type)                Output Shape              Param #   \n",
            "=================================================================\n",
            " dense (Dense)               (None, 6)                 84        \n",
            "                                                                 \n",
            " dense_1 (Dense)             (None, 6)                 42        \n",
            "                                                                 \n",
            " dense_2 (Dense)             (None, 1)                 7         \n",
            "                                                                 \n",
            "=================================================================\n",
            "Total params: 133\n",
            "Trainable params: 133\n",
            "Non-trainable params: 0\n",
            "_________________________________________________________________\n"
          ]
        }
      ],
      "source": [
        "model_ann.summary()"
      ]
    },
    {
      "cell_type": "markdown",
      "metadata": {
        "id": "gPbxigDVNc6_"
      },
      "source": [
        "# Model training"
      ]
    },
    {
      "cell_type": "code",
      "execution_count": 34,
      "metadata": {
        "scrolled": true,
        "id": "dZ49DX6mNc6_",
        "outputId": "ceec8eef-3911-47cc-c6fd-ac2962f14f5b",
        "colab": {
          "base_uri": "https://localhost:8080/"
        }
      },
      "outputs": [
        {
          "output_type": "stream",
          "name": "stdout",
          "text": [
            "Epoch 1/100\n",
            "157/157 [==============================] - 2s 4ms/step - loss: 0.6183 - accuracy: 0.7968 - val_loss: 0.4850 - val_accuracy: 0.7985\n",
            "Epoch 2/100\n",
            "157/157 [==============================] - 0s 3ms/step - loss: 0.4563 - accuracy: 0.7984 - val_loss: 0.4377 - val_accuracy: 0.7985\n",
            "Epoch 3/100\n",
            "157/157 [==============================] - 0s 3ms/step - loss: 0.4428 - accuracy: 0.7984 - val_loss: 0.4306 - val_accuracy: 0.7985\n",
            "Epoch 4/100\n",
            "157/157 [==============================] - 0s 3ms/step - loss: 0.4383 - accuracy: 0.7984 - val_loss: 0.4270 - val_accuracy: 0.7985\n",
            "Epoch 5/100\n",
            "157/157 [==============================] - 0s 3ms/step - loss: 0.4361 - accuracy: 0.7984 - val_loss: 0.4246 - val_accuracy: 0.7985\n",
            "Epoch 6/100\n",
            "157/157 [==============================] - 0s 3ms/step - loss: 0.4339 - accuracy: 0.7984 - val_loss: 0.4226 - val_accuracy: 0.7985\n",
            "Epoch 7/100\n",
            "157/157 [==============================] - 0s 3ms/step - loss: 0.4321 - accuracy: 0.7984 - val_loss: 0.4216 - val_accuracy: 0.7985\n",
            "Epoch 8/100\n",
            "157/157 [==============================] - 0s 3ms/step - loss: 0.4304 - accuracy: 0.7984 - val_loss: 0.4199 - val_accuracy: 0.7985\n",
            "Epoch 9/100\n",
            "157/157 [==============================] - 0s 3ms/step - loss: 0.4291 - accuracy: 0.7984 - val_loss: 0.4188 - val_accuracy: 0.7985\n",
            "Epoch 10/100\n",
            "157/157 [==============================] - 0s 2ms/step - loss: 0.4280 - accuracy: 0.7984 - val_loss: 0.4179 - val_accuracy: 0.7985\n",
            "Epoch 11/100\n",
            "157/157 [==============================] - 0s 2ms/step - loss: 0.4266 - accuracy: 0.8055 - val_loss: 0.4170 - val_accuracy: 0.8158\n",
            "Epoch 12/100\n",
            "157/157 [==============================] - 0s 3ms/step - loss: 0.4260 - accuracy: 0.8147 - val_loss: 0.4171 - val_accuracy: 0.8183\n",
            "Epoch 13/100\n",
            "157/157 [==============================] - 0s 3ms/step - loss: 0.4251 - accuracy: 0.8177 - val_loss: 0.4161 - val_accuracy: 0.8170\n",
            "Epoch 14/100\n",
            "157/157 [==============================] - 0s 2ms/step - loss: 0.4241 - accuracy: 0.8167 - val_loss: 0.4159 - val_accuracy: 0.8207\n",
            "Epoch 15/100\n",
            "157/157 [==============================] - 0s 3ms/step - loss: 0.4240 - accuracy: 0.8217 - val_loss: 0.4146 - val_accuracy: 0.8207\n",
            "Epoch 16/100\n",
            "157/157 [==============================] - 0s 3ms/step - loss: 0.4229 - accuracy: 0.8219 - val_loss: 0.4140 - val_accuracy: 0.8195\n",
            "Epoch 17/100\n",
            "157/157 [==============================] - 0s 3ms/step - loss: 0.4221 - accuracy: 0.8232 - val_loss: 0.4137 - val_accuracy: 0.8207\n",
            "Epoch 18/100\n",
            "157/157 [==============================] - 0s 3ms/step - loss: 0.4215 - accuracy: 0.8240 - val_loss: 0.4136 - val_accuracy: 0.8215\n",
            "Epoch 19/100\n",
            "157/157 [==============================] - 0s 3ms/step - loss: 0.4209 - accuracy: 0.8258 - val_loss: 0.4128 - val_accuracy: 0.8211\n",
            "Epoch 20/100\n",
            "157/157 [==============================] - 0s 3ms/step - loss: 0.4205 - accuracy: 0.8284 - val_loss: 0.4130 - val_accuracy: 0.8231\n",
            "Epoch 21/100\n",
            "157/157 [==============================] - 0s 3ms/step - loss: 0.4196 - accuracy: 0.8306 - val_loss: 0.4121 - val_accuracy: 0.8247\n",
            "Epoch 22/100\n",
            "157/157 [==============================] - 0s 3ms/step - loss: 0.4189 - accuracy: 0.8304 - val_loss: 0.4120 - val_accuracy: 0.8243\n",
            "Epoch 23/100\n",
            "157/157 [==============================] - 0s 3ms/step - loss: 0.4184 - accuracy: 0.8298 - val_loss: 0.4110 - val_accuracy: 0.8247\n",
            "Epoch 24/100\n",
            "157/157 [==============================] - 0s 3ms/step - loss: 0.4180 - accuracy: 0.8320 - val_loss: 0.4105 - val_accuracy: 0.8231\n",
            "Epoch 25/100\n",
            "157/157 [==============================] - 0s 2ms/step - loss: 0.4173 - accuracy: 0.8336 - val_loss: 0.4101 - val_accuracy: 0.8247\n",
            "Epoch 26/100\n",
            "157/157 [==============================] - 0s 3ms/step - loss: 0.4168 - accuracy: 0.8330 - val_loss: 0.4099 - val_accuracy: 0.8255\n",
            "Epoch 27/100\n",
            "157/157 [==============================] - 0s 2ms/step - loss: 0.4162 - accuracy: 0.8338 - val_loss: 0.4094 - val_accuracy: 0.8243\n",
            "Epoch 28/100\n",
            "157/157 [==============================] - 0s 2ms/step - loss: 0.4157 - accuracy: 0.8344 - val_loss: 0.4093 - val_accuracy: 0.8267\n",
            "Epoch 29/100\n",
            "157/157 [==============================] - 0s 3ms/step - loss: 0.4154 - accuracy: 0.8354 - val_loss: 0.4089 - val_accuracy: 0.8259\n",
            "Epoch 30/100\n",
            "157/157 [==============================] - 0s 3ms/step - loss: 0.4153 - accuracy: 0.8346 - val_loss: 0.4081 - val_accuracy: 0.8267\n",
            "Epoch 31/100\n",
            "157/157 [==============================] - 0s 2ms/step - loss: 0.4147 - accuracy: 0.8358 - val_loss: 0.4088 - val_accuracy: 0.8255\n",
            "Epoch 32/100\n",
            "157/157 [==============================] - 0s 2ms/step - loss: 0.4145 - accuracy: 0.8354 - val_loss: 0.4078 - val_accuracy: 0.8263\n",
            "Epoch 33/100\n",
            "157/157 [==============================] - 0s 2ms/step - loss: 0.4139 - accuracy: 0.8352 - val_loss: 0.4075 - val_accuracy: 0.8284\n",
            "Epoch 34/100\n",
            "157/157 [==============================] - 0s 3ms/step - loss: 0.4138 - accuracy: 0.8364 - val_loss: 0.4072 - val_accuracy: 0.8288\n",
            "Epoch 35/100\n",
            "157/157 [==============================] - 0s 3ms/step - loss: 0.4131 - accuracy: 0.8358 - val_loss: 0.4067 - val_accuracy: 0.8271\n",
            "Epoch 36/100\n",
            "157/157 [==============================] - 0s 3ms/step - loss: 0.4131 - accuracy: 0.8348 - val_loss: 0.4066 - val_accuracy: 0.8284\n",
            "Epoch 37/100\n",
            "157/157 [==============================] - 0s 3ms/step - loss: 0.4125 - accuracy: 0.8360 - val_loss: 0.4059 - val_accuracy: 0.8292\n",
            "Epoch 38/100\n",
            "157/157 [==============================] - 0s 3ms/step - loss: 0.4125 - accuracy: 0.8342 - val_loss: 0.4058 - val_accuracy: 0.8308\n",
            "Epoch 39/100\n",
            "157/157 [==============================] - 0s 2ms/step - loss: 0.4122 - accuracy: 0.8356 - val_loss: 0.4057 - val_accuracy: 0.8316\n",
            "Epoch 40/100\n",
            "157/157 [==============================] - 0s 3ms/step - loss: 0.4121 - accuracy: 0.8358 - val_loss: 0.4048 - val_accuracy: 0.8312\n",
            "Epoch 41/100\n",
            "157/157 [==============================] - 0s 3ms/step - loss: 0.4117 - accuracy: 0.8362 - val_loss: 0.4055 - val_accuracy: 0.8300\n",
            "Epoch 42/100\n",
            "157/157 [==============================] - 0s 2ms/step - loss: 0.4113 - accuracy: 0.8358 - val_loss: 0.4056 - val_accuracy: 0.8320\n",
            "Epoch 43/100\n",
            "157/157 [==============================] - 0s 3ms/step - loss: 0.4110 - accuracy: 0.8362 - val_loss: 0.4051 - val_accuracy: 0.8308\n",
            "Epoch 44/100\n",
            "157/157 [==============================] - 0s 2ms/step - loss: 0.4107 - accuracy: 0.8364 - val_loss: 0.4055 - val_accuracy: 0.8324\n",
            "Epoch 45/100\n",
            "157/157 [==============================] - 0s 3ms/step - loss: 0.4106 - accuracy: 0.8356 - val_loss: 0.4050 - val_accuracy: 0.8320\n",
            "Epoch 46/100\n",
            "157/157 [==============================] - 0s 3ms/step - loss: 0.4108 - accuracy: 0.8358 - val_loss: 0.4057 - val_accuracy: 0.8263\n",
            "Epoch 47/100\n",
            "157/157 [==============================] - 0s 2ms/step - loss: 0.4102 - accuracy: 0.8358 - val_loss: 0.4049 - val_accuracy: 0.8292\n",
            "Epoch 48/100\n",
            "157/157 [==============================] - 0s 3ms/step - loss: 0.4099 - accuracy: 0.8370 - val_loss: 0.4037 - val_accuracy: 0.8312\n",
            "Epoch 49/100\n",
            "157/157 [==============================] - 0s 3ms/step - loss: 0.4096 - accuracy: 0.8376 - val_loss: 0.4044 - val_accuracy: 0.8328\n",
            "Epoch 50/100\n",
            "157/157 [==============================] - 0s 3ms/step - loss: 0.4099 - accuracy: 0.8372 - val_loss: 0.4041 - val_accuracy: 0.8324\n",
            "Epoch 51/100\n",
            "157/157 [==============================] - 0s 3ms/step - loss: 0.4095 - accuracy: 0.8358 - val_loss: 0.4045 - val_accuracy: 0.8304\n",
            "Epoch 52/100\n",
            "157/157 [==============================] - 0s 3ms/step - loss: 0.4095 - accuracy: 0.8366 - val_loss: 0.4044 - val_accuracy: 0.8336\n",
            "Epoch 53/100\n",
            "157/157 [==============================] - 0s 3ms/step - loss: 0.4095 - accuracy: 0.8364 - val_loss: 0.4044 - val_accuracy: 0.8332\n",
            "Epoch 54/100\n",
            "157/157 [==============================] - 0s 3ms/step - loss: 0.4094 - accuracy: 0.8370 - val_loss: 0.4037 - val_accuracy: 0.8328\n",
            "Epoch 55/100\n",
            "157/157 [==============================] - 0s 2ms/step - loss: 0.4090 - accuracy: 0.8370 - val_loss: 0.4035 - val_accuracy: 0.8332\n",
            "Epoch 56/100\n",
            "157/157 [==============================] - 0s 2ms/step - loss: 0.4088 - accuracy: 0.8370 - val_loss: 0.4040 - val_accuracy: 0.8320\n",
            "Epoch 57/100\n",
            "157/157 [==============================] - 0s 2ms/step - loss: 0.4086 - accuracy: 0.8382 - val_loss: 0.4031 - val_accuracy: 0.8324\n",
            "Epoch 58/100\n",
            "157/157 [==============================] - 0s 3ms/step - loss: 0.4086 - accuracy: 0.8370 - val_loss: 0.4039 - val_accuracy: 0.8336\n",
            "Epoch 59/100\n",
            "157/157 [==============================] - 0s 2ms/step - loss: 0.4087 - accuracy: 0.8358 - val_loss: 0.4029 - val_accuracy: 0.8344\n",
            "Epoch 60/100\n",
            "157/157 [==============================] - 0s 3ms/step - loss: 0.4081 - accuracy: 0.8368 - val_loss: 0.4032 - val_accuracy: 0.8336\n",
            "Epoch 61/100\n",
            "157/157 [==============================] - 0s 2ms/step - loss: 0.4085 - accuracy: 0.8378 - val_loss: 0.4037 - val_accuracy: 0.8320\n",
            "Epoch 62/100\n",
            "157/157 [==============================] - 0s 2ms/step - loss: 0.4084 - accuracy: 0.8364 - val_loss: 0.4029 - val_accuracy: 0.8344\n",
            "Epoch 63/100\n",
            "157/157 [==============================] - 0s 3ms/step - loss: 0.4081 - accuracy: 0.8378 - val_loss: 0.4032 - val_accuracy: 0.8344\n",
            "Epoch 64/100\n",
            "157/157 [==============================] - 0s 3ms/step - loss: 0.4080 - accuracy: 0.8366 - val_loss: 0.4028 - val_accuracy: 0.8336\n",
            "Epoch 65/100\n",
            "157/157 [==============================] - 0s 3ms/step - loss: 0.4078 - accuracy: 0.8372 - val_loss: 0.4038 - val_accuracy: 0.8308\n",
            "Epoch 66/100\n",
            "157/157 [==============================] - 0s 2ms/step - loss: 0.4079 - accuracy: 0.8362 - val_loss: 0.4031 - val_accuracy: 0.8332\n",
            "Epoch 67/100\n",
            "157/157 [==============================] - 0s 2ms/step - loss: 0.4078 - accuracy: 0.8384 - val_loss: 0.4023 - val_accuracy: 0.8344\n",
            "Epoch 68/100\n",
            "157/157 [==============================] - 0s 2ms/step - loss: 0.4075 - accuracy: 0.8382 - val_loss: 0.4036 - val_accuracy: 0.8336\n",
            "Epoch 69/100\n",
            "157/157 [==============================] - 0s 3ms/step - loss: 0.4074 - accuracy: 0.8386 - val_loss: 0.4024 - val_accuracy: 0.8332\n",
            "Epoch 70/100\n",
            "157/157 [==============================] - 0s 2ms/step - loss: 0.4077 - accuracy: 0.8370 - val_loss: 0.4030 - val_accuracy: 0.8324\n",
            "Epoch 71/100\n",
            "157/157 [==============================] - 0s 3ms/step - loss: 0.4074 - accuracy: 0.8362 - val_loss: 0.4025 - val_accuracy: 0.8348\n",
            "Epoch 72/100\n",
            "157/157 [==============================] - 0s 3ms/step - loss: 0.4080 - accuracy: 0.8364 - val_loss: 0.4026 - val_accuracy: 0.8336\n",
            "Epoch 73/100\n",
            "157/157 [==============================] - 0s 2ms/step - loss: 0.4073 - accuracy: 0.8372 - val_loss: 0.4029 - val_accuracy: 0.8308\n",
            "Epoch 74/100\n",
            "157/157 [==============================] - 0s 2ms/step - loss: 0.4074 - accuracy: 0.8366 - val_loss: 0.4024 - val_accuracy: 0.8340\n",
            "Epoch 75/100\n",
            "157/157 [==============================] - 0s 2ms/step - loss: 0.4072 - accuracy: 0.8382 - val_loss: 0.4032 - val_accuracy: 0.8316\n",
            "Epoch 76/100\n",
            "157/157 [==============================] - 0s 2ms/step - loss: 0.4068 - accuracy: 0.8380 - val_loss: 0.4030 - val_accuracy: 0.8328\n",
            "Epoch 77/100\n",
            "157/157 [==============================] - 0s 3ms/step - loss: 0.4067 - accuracy: 0.8374 - val_loss: 0.4024 - val_accuracy: 0.8328\n",
            "Epoch 78/100\n",
            "157/157 [==============================] - 0s 3ms/step - loss: 0.4070 - accuracy: 0.8380 - val_loss: 0.4034 - val_accuracy: 0.8316\n",
            "Epoch 79/100\n",
            "157/157 [==============================] - 0s 3ms/step - loss: 0.4068 - accuracy: 0.8368 - val_loss: 0.4024 - val_accuracy: 0.8332\n",
            "Epoch 80/100\n",
            "157/157 [==============================] - 0s 3ms/step - loss: 0.4065 - accuracy: 0.8376 - val_loss: 0.4029 - val_accuracy: 0.8336\n",
            "Epoch 81/100\n",
            "157/157 [==============================] - 0s 3ms/step - loss: 0.4067 - accuracy: 0.8362 - val_loss: 0.4031 - val_accuracy: 0.8320\n",
            "Epoch 82/100\n",
            "157/157 [==============================] - 0s 3ms/step - loss: 0.4067 - accuracy: 0.8382 - val_loss: 0.4031 - val_accuracy: 0.8316\n",
            "Epoch 83/100\n",
            "157/157 [==============================] - 0s 3ms/step - loss: 0.4065 - accuracy: 0.8370 - val_loss: 0.4028 - val_accuracy: 0.8332\n",
            "Epoch 84/100\n",
            "157/157 [==============================] - 0s 3ms/step - loss: 0.4064 - accuracy: 0.8360 - val_loss: 0.4035 - val_accuracy: 0.8316\n",
            "Epoch 85/100\n",
            "157/157 [==============================] - 0s 2ms/step - loss: 0.4064 - accuracy: 0.8380 - val_loss: 0.4030 - val_accuracy: 0.8344\n",
            "Epoch 86/100\n",
            "157/157 [==============================] - 0s 3ms/step - loss: 0.4069 - accuracy: 0.8356 - val_loss: 0.4032 - val_accuracy: 0.8332\n",
            "Epoch 87/100\n",
            "157/157 [==============================] - 0s 3ms/step - loss: 0.4065 - accuracy: 0.8372 - val_loss: 0.4035 - val_accuracy: 0.8316\n",
            "Epoch 88/100\n",
            "157/157 [==============================] - 0s 3ms/step - loss: 0.4066 - accuracy: 0.8380 - val_loss: 0.4039 - val_accuracy: 0.8316\n",
            "Epoch 89/100\n",
            "157/157 [==============================] - 0s 3ms/step - loss: 0.4064 - accuracy: 0.8374 - val_loss: 0.4026 - val_accuracy: 0.8332\n",
            "Epoch 90/100\n",
            "157/157 [==============================] - 0s 3ms/step - loss: 0.4061 - accuracy: 0.8382 - val_loss: 0.4034 - val_accuracy: 0.8328\n",
            "Epoch 91/100\n",
            "157/157 [==============================] - 0s 3ms/step - loss: 0.4065 - accuracy: 0.8376 - val_loss: 0.4034 - val_accuracy: 0.8312\n",
            "Epoch 92/100\n",
            "157/157 [==============================] - 0s 3ms/step - loss: 0.4065 - accuracy: 0.8376 - val_loss: 0.4026 - val_accuracy: 0.8328\n",
            "Epoch 93/100\n",
            "157/157 [==============================] - 0s 3ms/step - loss: 0.4062 - accuracy: 0.8372 - val_loss: 0.4031 - val_accuracy: 0.8336\n",
            "Epoch 94/100\n",
            "157/157 [==============================] - 0s 3ms/step - loss: 0.4062 - accuracy: 0.8382 - val_loss: 0.4020 - val_accuracy: 0.8328\n",
            "Epoch 95/100\n",
            "157/157 [==============================] - 0s 3ms/step - loss: 0.4060 - accuracy: 0.8360 - val_loss: 0.4025 - val_accuracy: 0.8340\n",
            "Epoch 96/100\n",
            "157/157 [==============================] - 0s 2ms/step - loss: 0.4061 - accuracy: 0.8384 - val_loss: 0.4022 - val_accuracy: 0.8332\n",
            "Epoch 97/100\n",
            "157/157 [==============================] - 0s 3ms/step - loss: 0.4059 - accuracy: 0.8374 - val_loss: 0.4024 - val_accuracy: 0.8332\n",
            "Epoch 98/100\n",
            "157/157 [==============================] - 0s 2ms/step - loss: 0.4061 - accuracy: 0.8370 - val_loss: 0.4030 - val_accuracy: 0.8328\n",
            "Epoch 99/100\n",
            "157/157 [==============================] - 0s 2ms/step - loss: 0.4062 - accuracy: 0.8374 - val_loss: 0.4028 - val_accuracy: 0.8316\n",
            "Epoch 100/100\n",
            "157/157 [==============================] - 0s 2ms/step - loss: 0.4061 - accuracy: 0.8358 - val_loss: 0.4035 - val_accuracy: 0.8332\n"
          ]
        },
        {
          "output_type": "execute_result",
          "data": {
            "text/plain": [
              "<keras.callbacks.History at 0x7f40fa5d0b50>"
            ]
          },
          "metadata": {},
          "execution_count": 34
        }
      ],
      "source": [
        "model_ann.fit(xtrain,ytrain,validation_split=0.33,batch_size=32,epochs=100)"
      ]
    },
    {
      "cell_type": "code",
      "execution_count": 35,
      "metadata": {
        "id": "hiR6q3-YNc6_"
      },
      "outputs": [],
      "source": [
        "ypred = model_ann.predict(xtest)"
      ]
    },
    {
      "cell_type": "code",
      "execution_count": 36,
      "metadata": {
        "id": "HTdO_3YRNc7A"
      },
      "outputs": [],
      "source": [
        "ypred = (ypred>0.5)"
      ]
    },
    {
      "cell_type": "code",
      "execution_count": 37,
      "metadata": {
        "id": "-WZFajwGNc7A"
      },
      "outputs": [],
      "source": [
        "from sklearn.metrics import confusion_matrix,classification_report ,accuracy_score"
      ]
    },
    {
      "cell_type": "code",
      "execution_count": 38,
      "metadata": {
        "id": "Mu0JCaFBNc7A",
        "outputId": "490ae953-33fd-4196-8357-64aef4c227d6",
        "colab": {
          "base_uri": "https://localhost:8080/"
        }
      },
      "outputs": [
        {
          "output_type": "execute_result",
          "data": {
            "text/plain": [
              "0.838"
            ]
          },
          "metadata": {},
          "execution_count": 38
        }
      ],
      "source": [
        "acc= accuracy_score(ytest,ypred)\n",
        "acc"
      ]
    },
    {
      "cell_type": "code",
      "execution_count": 39,
      "metadata": {
        "id": "BW3QVaQxNc7A",
        "outputId": "218e3e50-98f3-4c53-dddd-97d1c6d0b237",
        "colab": {
          "base_uri": "https://localhost:8080/"
        }
      },
      "outputs": [
        {
          "output_type": "stream",
          "name": "stdout",
          "text": [
            "[[1923   52]\n",
            " [ 353  172]]\n"
          ]
        }
      ],
      "source": [
        "print(confusion_matrix(ytest,ypred))"
      ]
    },
    {
      "cell_type": "code",
      "execution_count": 40,
      "metadata": {
        "id": "MJoxDvZhNc7A",
        "outputId": "0453737a-b04b-4e76-b714-d205779ca266",
        "colab": {
          "base_uri": "https://localhost:8080/"
        }
      },
      "outputs": [
        {
          "output_type": "stream",
          "name": "stdout",
          "text": [
            "              precision    recall  f1-score   support\n",
            "\n",
            "           0       0.84      0.97      0.90      1975\n",
            "           1       0.77      0.33      0.46       525\n",
            "\n",
            "    accuracy                           0.84      2500\n",
            "   macro avg       0.81      0.65      0.68      2500\n",
            "weighted avg       0.83      0.84      0.81      2500\n",
            "\n"
          ]
        }
      ],
      "source": [
        "print(classification_report(ytest,ypred))"
      ]
    },
    {
      "cell_type": "markdown",
      "source": [
        "Accuracy  =** 83.8% **"
      ],
      "metadata": {
        "id": "36cyKYi27fzy"
      }
    }
  ],
  "metadata": {
    "kernelspec": {
      "display_name": "Python 3",
      "language": "python",
      "name": "python3"
    },
    "language_info": {
      "codemirror_mode": {
        "name": "ipython",
        "version": 3
      },
      "file_extension": ".py",
      "mimetype": "text/x-python",
      "name": "python",
      "nbconvert_exporter": "python",
      "pygments_lexer": "ipython3",
      "version": "3.8.5"
    },
    "colab": {
      "name": "Churn Modelling  Ann.ipynb",
      "provenance": []
    }
  },
  "nbformat": 4,
  "nbformat_minor": 0
}